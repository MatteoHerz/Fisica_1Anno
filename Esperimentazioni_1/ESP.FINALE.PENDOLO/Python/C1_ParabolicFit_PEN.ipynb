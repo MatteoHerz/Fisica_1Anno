{
 "cells": [
  {
   "cell_type": "markdown",
   "metadata": {},
   "source": [
    "### Given two list of x and y coordinates, and a list of errors on y, find the parabola that minimizes the sum of square distances between the parabola and the (x,y) points."
   ]
  },
  {
   "cell_type": "code",
   "execution_count": 2,
   "metadata": {
    "tags": []
   },
   "outputs": [],
   "source": [
    "import matplotlib.pyplot as plt\n",
    "import numpy as np\n",
    "from sympy import *"
   ]
  },
  {
   "cell_type": "code",
   "execution_count": 3,
   "metadata": {
    "tags": []
   },
   "outputs": [],
   "source": [
    "xx, yy, aa, bb, cc = symbols('xx yy aa bb cc')"
   ]
  },
  {
   "cell_type": "raw",
   "metadata": {},
   "source": [
    "Si comprimono i valori di x tra -1 e 1 : se non serve decommentare l'ultima riga"
   ]
  },
  {
   "cell_type": "code",
   "execution_count": 4,
   "metadata": {
    "tags": []
   },
   "outputs": [
    {
     "name": "stdout",
     "output_type": "stream",
     "text": [
      "0.182\n",
      "0.982\n",
      "2.5\n",
      "1.4549999999999998\n"
     ]
    }
   ],
   "source": [
    "xdataor = np.array([18.2,28.2,38.2,48.2,58.2,68.2,78.2,88.2,98.2])/(10**2)\n",
    "npoint = len(xdataor)\n",
    "npoint\n",
    "ax,bx = float(xdataor[0]),float(xdataor[npoint-1])\n",
    "apx,bpx = 2./(bx-ax),(bx + ax)/(bx - ax)\n",
    "print(ax)\n",
    "print(bx)\n",
    "print(apx)\n",
    "print(bpx)\n",
    "xdata = xdataor*apx - bpx\n",
    "xdata\n",
    "xdata=xdataor"
   ]
  },
  {
   "cell_type": "code",
   "execution_count": 5,
   "metadata": {
    "tags": []
   },
   "outputs": [],
   "source": [
    "ydata = np.array([2.137,2.005,1.931,1.897,1.893,1.910,1.942,1.984,2.035])\n",
    "yerr = np.array([0.001]*9)\n",
    "if (len(xdata)!=len(ydata)): print (\"dimensioni vettori disuguali\")\n",
    "if (len(yerr)!=len(ydata)) : print (\"dimensioni vettori disuguali\")"
   ]
  },
  {
   "cell_type": "markdown",
   "metadata": {},
   "source": [
    "We want to find the parameters $a$ and $b$ of the parabola $y = c x^2 + b x + a$ which minimize:\n",
    "$ \\chi^2 = \\sum_i \\frac{(y_i - c x_i^2 - b x_i - a)^2}{\\sigma_i^2}$"
   ]
  },
  {
   "cell_type": "markdown",
   "metadata": {},
   "source": [
    "The minimum condition can be derived expanding $(yy - cc \\cdot xx^2 - bb \\cdot xx - aa)^2$, and equating the derivatives with respect to $aa$, $bb$, $cc$ to zero. "
   ]
  },
  {
   "cell_type": "raw",
   "metadata": {},
   "source": [
    "# Calcolo delle derivate di X^2"
   ]
  },
  {
   "cell_type": "code",
   "execution_count": 12,
   "metadata": {
    "tags": []
   },
   "outputs": [
    {
     "data": {
      "text/latex": [
       "$\\displaystyle aa^{2} + 2 aa bb xx + 2 aa cc xx^{2} - 2 aa yy + bb^{2} xx^{2} + 2 bb cc xx^{3} - 2 bb xx yy + cc^{2} xx^{4} - 2 cc xx^{2} yy + yy^{2}$"
      ],
      "text/plain": [
       "aa**2 + 2*aa*bb*xx + 2*aa*cc*xx**2 - 2*aa*yy + bb**2*xx**2 + 2*bb*cc*xx**3 - 2*bb*xx*yy + cc**2*xx**4 - 2*cc*xx**2*yy + yy**2"
      ]
     },
     "execution_count": 12,
     "metadata": {},
     "output_type": "execute_result"
    }
   ],
   "source": [
    "s = expand((yy - cc*xx**2 - bb*xx - aa)**2)\n",
    "s"
   ]
  },
  {
   "cell_type": "code",
   "execution_count": 14,
   "metadata": {
    "tags": []
   },
   "outputs": [
    {
     "data": {
      "text/latex": [
       "$\\displaystyle 2 aa + 2 bb xx + 2 cc xx^{2} - 2 yy$"
      ],
      "text/plain": [
       "2*aa + 2*bb*xx + 2*cc*xx**2 - 2*yy"
      ]
     },
     "execution_count": 14,
     "metadata": {},
     "output_type": "execute_result"
    }
   ],
   "source": [
    "s_aa = diff(s,aa)\n",
    "s_aa"
   ]
  },
  {
   "cell_type": "code",
   "execution_count": 16,
   "metadata": {
    "tags": []
   },
   "outputs": [
    {
     "data": {
      "text/latex": [
       "$\\displaystyle 2 aa xx + 2 bb xx^{2} + 2 cc xx^{3} - 2 xx yy$"
      ],
      "text/plain": [
       "2*aa*xx + 2*bb*xx**2 + 2*cc*xx**3 - 2*xx*yy"
      ]
     },
     "execution_count": 16,
     "metadata": {},
     "output_type": "execute_result"
    }
   ],
   "source": [
    "s_bb = diff(s,bb)\n",
    "s_bb"
   ]
  },
  {
   "cell_type": "code",
   "execution_count": 18,
   "metadata": {
    "tags": []
   },
   "outputs": [
    {
     "data": {
      "text/latex": [
       "$\\displaystyle 2 aa xx^{2} + 2 bb xx^{3} + 2 cc xx^{4} - 2 xx^{2} yy$"
      ],
      "text/plain": [
       "2*aa*xx**2 + 2*bb*xx**3 + 2*cc*xx**4 - 2*xx**2*yy"
      ]
     },
     "execution_count": 18,
     "metadata": {},
     "output_type": "execute_result"
    }
   ],
   "source": [
    "s_cc = diff(s,cc)\n",
    "s_cc"
   ]
  },
  {
   "cell_type": "markdown",
   "metadata": {},
   "source": [
    "$a$, $b$ and $c$ are the solutions of the linear system:\n",
    "$\\begin{bmatrix}\n",
    "\\sum_i \\frac{1}{\\sigma_i^2} & \\sum_i \\frac{x_i}{\\sigma_i^2} & \\sum_i \\frac{x_i^2}{\\sigma_i^2}\\\\\n",
    "\\sum_i \\frac{x_i}{\\sigma_i^2} & \\sum_i \\frac{x_i^2}{\\sigma_i^2} & \\sum_i \\frac{x_i^3}{\\sigma_i^2}\\\\\n",
    "\\sum_i \\frac{x_i^2}{\\sigma_i^2} & \\sum_i \\frac{x_i^3}{\\sigma_i^2} & \\sum_i \\frac{x_i^4}{\\sigma_i^2}\\\\\n",
    "\\end{bmatrix}$\n",
    "$\\begin{bmatrix} a\\\\b\\\\c \\end{bmatrix}$ = \n",
    "$\\begin{bmatrix} \n",
    "\\sum_i \\frac{y_i}{\\sigma_i^2} \\\\ \\sum_i \\frac{x_i y_i}{\\sigma_i^2}\\\\\\sum_i \\frac{x_i^2 y_i}{\\sigma_i^2}\n",
    "\\end{bmatrix}$"
   ]
  },
  {
   "cell_type": "markdown",
   "metadata": {},
   "source": [
    "In forma matriciale : DA = B quindi A = D^(-1)B"
   ]
  },
  {
   "cell_type": "code",
   "execution_count": 22,
   "metadata": {
    "tags": []
   },
   "outputs": [],
   "source": [
    "yerrSq = yerr*yerr\n",
    "sum_one_over_yerrSq = (1./yerrSq).sum()\n",
    "sum_x_over_yerrSq = (xdata/yerrSq).sum()\n",
    "sum_x2_over_yerrSq = (xdata*xdata/yerrSq).sum()\n",
    "sum_x3_over_yerrSq = (xdata*xdata*xdata/yerrSq).sum()\n",
    "sum_x4_over_yerrSq = (xdata*xdata*xdata*xdata/yerrSq).sum()\n",
    "sum_y_over_yerrSq = (ydata/yerrSq).sum()\n",
    "sum_xy_over_yerrSq = (xdata*ydata/yerrSq).sum()\n",
    "sum_x2y_over_yerrSq = (xdata*xdata*ydata/yerrSq).sum()"
   ]
  },
  {
   "cell_type": "raw",
   "metadata": {},
   "source": [
    "Calcolo matrice D e matrice inversa"
   ]
  },
  {
   "cell_type": "code",
   "execution_count": 24,
   "metadata": {
    "tags": []
   },
   "outputs": [
    {
     "data": {
      "text/plain": [
       "array([[ 3.07874178e-06, -1.12516473e-05,  8.83303030e-06],\n",
       "       [-1.12516473e-05,  4.56567965e-05, -3.77922078e-05],\n",
       "       [ 8.83303030e-06, -3.77922078e-05,  3.24675325e-05]])"
      ]
     },
     "execution_count": 24,
     "metadata": {},
     "output_type": "execute_result"
    }
   ],
   "source": [
    "matD = np.array([[sum_one_over_yerrSq,sum_x_over_yerrSq,sum_x2_over_yerrSq],\n",
    "                [sum_x_over_yerrSq,sum_x2_over_yerrSq,sum_x3_over_yerrSq],\n",
    "                [sum_x2_over_yerrSq,sum_x3_over_yerrSq,sum_x4_over_yerrSq]])\n",
    "matD_inv = np.linalg.inv(matD)\n",
    "matD\n",
    "matD_inv"
   ]
  },
  {
   "cell_type": "markdown",
   "metadata": {},
   "source": [
    "Check D^(-1)D = I"
   ]
  },
  {
   "cell_type": "code",
   "execution_count": 27,
   "metadata": {
    "tags": []
   },
   "outputs": [
    {
     "data": {
      "text/plain": [
       "array([[ 1.00000000e+00, -3.20853874e-15,  9.68184302e-15],\n",
       "       [-1.72420040e-15,  1.00000000e+00,  7.51210307e-15],\n",
       "       [-2.79145108e-15, -4.24999030e-15,  1.00000000e+00]])"
      ]
     },
     "execution_count": 27,
     "metadata": {},
     "output_type": "execute_result"
    }
   ],
   "source": [
    "np.dot(matD,matD_inv)"
   ]
  },
  {
   "cell_type": "raw",
   "metadata": {},
   "source": [
    "Calcolo matrice B"
   ]
  },
  {
   "cell_type": "code",
   "execution_count": 29,
   "metadata": {
    "tags": []
   },
   "outputs": [
    {
     "data": {
      "text/plain": [
       "array([17734000.   , 10277588.   ,  7175701.016])"
      ]
     },
     "execution_count": 29,
     "metadata": {},
     "output_type": "execute_result"
    }
   ],
   "source": [
    "matB = np.array([sum_y_over_yerrSq,sum_xy_over_yerrSq,sum_x2y_over_yerrSq])\n",
    "matB"
   ]
  },
  {
   "cell_type": "code",
   "execution_count": 31,
   "metadata": {
    "tags": []
   },
   "outputs": [
    {
     "data": {
      "text/plain": [
       "array([ 2.34179627, -1.48055238,  1.20952381])"
      ]
     },
     "execution_count": 31,
     "metadata": {},
     "output_type": "execute_result"
    }
   ],
   "source": [
    "np.dot(matD_inv,matB)"
   ]
  },
  {
   "cell_type": "raw",
   "metadata": {},
   "source": [
    "Calcolo parametri fit (Attenzione a cifre significative e unita' di misura!!)"
   ]
  },
  {
   "cell_type": "code",
   "execution_count": 33,
   "metadata": {
    "tags": []
   },
   "outputs": [
    {
     "name": "stdout",
     "output_type": "stream",
     "text": [
      " a =  2.3417962666666328\n",
      " b =  -1.4805523809522516\n",
      " c =  1.2095238095236722\n"
     ]
    }
   ],
   "source": [
    "a, b, c = np.dot(matD_inv,matB)[0],np.dot(matD_inv,matB)[1],np.dot(matD_inv,matB)[2]\n",
    "print(\" a = \", a)\n",
    "print(\" b = \", b)\n",
    "print(\" c = \", c)"
   ]
  },
  {
   "cell_type": "markdown",
   "metadata": {},
   "source": [
    "Calcolo varianze ed errori sui parametri (Attenzione a cifre significative e unita' di misura!!)"
   ]
  },
  {
   "cell_type": "code",
   "execution_count": 36,
   "metadata": {
    "tags": []
   },
   "outputs": [
    {
     "name": "stdout",
     "output_type": "stream",
     "text": [
      " errore su a =  0.0017546343723425762\n",
      " errore su b =  0.006756981318369624\n",
      " errore su c =  0.0056980288229818744\n"
     ]
    }
   ],
   "source": [
    "vara, varb, varc= matD_inv[0,0], matD_inv[1,1], matD_inv[2,2]\n",
    "erra=np.sqrt(vara)\n",
    "errb=np.sqrt(varb)\n",
    "errc=np.sqrt(varc)\n",
    "print(\" errore su a = \",erra)\n",
    "print(\" errore su b = \",errb)\n",
    "print(\" errore su c = \",errc)"
   ]
  },
  {
   "cell_type": "markdown",
   "metadata": {},
   "source": [
    "Plot, adding extra points for the parabola."
   ]
  },
  {
   "cell_type": "code",
   "execution_count": 39,
   "metadata": {
    "tags": []
   },
   "outputs": [
    {
     "data": {
      "text/plain": [
       "<matplotlib.legend.Legend at 0x16a13f450>"
      ]
     },
     "execution_count": 39,
     "metadata": {},
     "output_type": "execute_result"
    },
    {
     "data": {
      "image/png": "[encoded data removed]",
      "text/plain": [
       "<Figure size 640x480 with 1 Axes>"
      ]
     },
     "metadata": {},
     "output_type": "display_data"
    }
   ],
   "source": [
    "fig, ax = plt.subplots()\n",
    "thickxdata = np.arange(0,1.1,0.001)\n",
    "ax.grid()\n",
    "ax.set_xlabel('Posizione (m)')\n",
    "ax.set_ylabel('Periodo (s)')\n",
    "ax.set_xlim(0, 1.1); ax.set_ylim(1.85, 2.2)\n",
    "plt.plot(thickxdata,c*thickxdata*thickxdata+b*thickxdata+a, color=\"royalblue\",label='P(x) - 2° grado')\n",
    "plt.errorbar(xdata,ydata,yerr=yerr,fmt='o', label='x - massa mobile', color=\"crimson\")\n",
    "ax.legend()"
   ]
  },
  {
   "cell_type": "raw",
   "metadata": {},
   "source": [
    "Calcolo X^2 e errore standard della stima"
   ]
  },
  {
   "cell_type": "code",
   "execution_count": 41,
   "metadata": {
    "tags": []
   },
   "outputs": [
    {
     "name": "stdout",
     "output_type": "stream",
     "text": [
      " Chi^2 =  2469.1619047618988\n",
      " errore standard della stima =  0.02028612787416522\n"
     ]
    }
   ],
   "source": [
    "scarto1 = (ydata-a-b*xdata-c*xdata*xdata)/yerr\n",
    "scarto2 = (ydata-a-b*xdata-c*xdata*xdata)\n",
    "chi2 = (scarto1*scarto1).sum()\n",
    "errstSq = (scarto2*scarto2/(npoint-3)).sum()\n",
    "errst = np.sqrt(errstSq)\n",
    "print(\" Chi^2 = \",chi2)\n",
    "print(\" errore standard della stima = \",errst)"
   ]
  },
  {
   "cell_type": "raw",
   "metadata": {},
   "source": [
    "Calcolo coefficiente di determinazione"
   ]
  },
  {
   "cell_type": "code",
   "execution_count": 43,
   "metadata": {
    "tags": []
   },
   "outputs": [
    {
     "name": "stdout",
     "output_type": "stream",
     "text": [
      "coefficiente determinazione =  0.9753435049411389\n"
     ]
    }
   ],
   "source": [
    "sum_y = (ydata).sum()\n",
    "ymean=sum_y/npoint\n",
    "ameany = ydata-ymean\n",
    "vary = (ameany*ameany).sum()\n",
    "yatteso =a+b*xdata+c*xdata*xdata\n",
    "scarto3=yatteso-ymean\n",
    "var_numeratore=(scarto3*scarto3).sum()\n",
    "detercoeff2=var_numeratore/vary\n",
    "detercoeff=np.sqrt(detercoeff2)\n",
    "print(\"coefficiente determinazione = \",detercoeff)"
   ]
  },
  {
   "cell_type": "code",
   "execution_count": null,
   "metadata": {},
   "outputs": [],
   "source": []
  }
 ],
 "metadata": {
  "kernelspec": {
   "display_name": "Python 3 (ipykernel)",
   "language": "python",
   "name": "python3"
  },
  "language_info": {
   "codemirror_mode": {
    "name": "ipython",
    "version": 3
   },
   "file_extension": ".py",
   "mimetype": "text/x-python",
   "name": "python",
   "nbconvert_exporter": "python",
   "pygments_lexer": "ipython3",
   "version": "3.11.7"
  }
 },
 "nbformat": 4,
 "nbformat_minor": 4
}
