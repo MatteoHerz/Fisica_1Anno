{
 "cells": [
  {
   "cell_type": "markdown",
   "metadata": {},
   "source": [
    "### Given two list of x and y coordinates, and a list of errors on y, find the straight line that minimizes the sum of distances between the line and the (x,y) points."
   ]
  },
  {
   "cell_type": "code",
   "execution_count": 3,
   "metadata": {},
   "outputs": [],
   "source": [
    "import matplotlib.pyplot as plt\n",
    "import numpy as np"
   ]
  },
  {
   "cell_type": "code",
   "execution_count": 4,
   "metadata": {},
   "outputs": [
    {
     "data": {
      "text/plain": [
       "array([ 7.12989, 13.24122, 18.27742, 23.99265, 29.08542, 34.63089,\n",
       "       40.57247, 46.00477, 50.13558])"
      ]
     },
     "execution_count": 4,
     "metadata": {},
     "output_type": "execute_result"
    }
   ],
   "source": [
    "xdata = np.array([7129.89, 13241.22, 18277.42, 23992.65, 29085.42, 34630.89, 40572.47, 46004.77, 50135.58])*pow(10,-3)\n",
    "xdata"
   ]
  },
  {
   "cell_type": "code",
   "execution_count": 5,
   "metadata": {
    "scrolled": true
   },
   "outputs": [
    {
     "data": {
      "text/plain": [
       "9"
      ]
     },
     "execution_count": 5,
     "metadata": {},
     "output_type": "execute_result"
    }
   ],
   "source": [
    "ydata = np.array([0.060, 0.090, 0.170, 0.220, 0.270, 0.320, 0.390, 0.440, 0.480])\n",
    "yerr = np.array([0.014, 0.014, 0.014, 0.014, 0.014, 0.014, 0.014, 0.014, 0.014])\n",
    "if (len(xdata)!=len(ydata)): print (\"dimensioni vettori disuguali\")\n",
    "if (len(yerr)!=len(ydata)): print (\"dimensioni vettori disuguali\")\n",
    "npoint = len(xdata)\n",
    "npoint"
   ]
  },
  {
   "cell_type": "markdown",
   "metadata": {},
   "source": [
    "Determiniamo i parametri $a$ and $b$ della retta di best fit $y = b x + a$ che minimizza:\n",
    "$ \\chi^2 = \\sum_i \\frac{(y_i - b x_i - a)^2}{\\sigma_i^2}$\n",
    "    \n",
    "$a$ e $b$ sono soluzioni del sistema lineare:\n",
    "$\\begin{bmatrix}\n",
    "\\sum_i \\frac{1}{\\sigma_i^2} & \\sum_i \\frac{x_i}{\\sigma_i^2}\\\\\n",
    "\\sum_i \\frac{x_i}{\\sigma_i^2} & \\sum_i \\frac{x_i^2}{\\sigma_i^2}\n",
    "\\end{bmatrix}$\n",
    "$\\begin{bmatrix} a\\\\b \\end{bmatrix}$ = \n",
    "$\\begin{bmatrix} \\sum_i \\frac{y_i}{\\sigma_i^2} \\\\ \\sum_i \\frac{x_i y_i}{\\sigma_i^2}\\end{bmatrix}$\n",
    "\n",
    "In forma matriciale : DA = B quindi A = D^(-1)B"
   ]
  },
  {
   "cell_type": "code",
   "execution_count": 6,
   "metadata": {},
   "outputs": [],
   "source": [
    "yerrSq = yerr*yerr\n",
    "sum_one_over_yerrSq = (1./yerrSq).sum()\n",
    "sum_x_over_yerrSq = (xdata/yerrSq).sum()\n",
    "sum_xSq_over_yerrSq = (xdata*xdata/yerrSq).sum()\n",
    "sum_y_over_yerrSq = (ydata/yerrSq).sum()\n",
    "sum_xy_over_yerrSq = (xdata*ydata/yerrSq).sum()"
   ]
  },
  {
   "cell_type": "markdown",
   "metadata": {},
   "source": [
    "Calcolo Coefficiente correlazione lineare"
   ]
  },
  {
   "cell_type": "code",
   "execution_count": 7,
   "metadata": {},
   "outputs": [
    {
     "name": "stdout",
     "output_type": "stream",
     "text": [
      "coefficiente correlazione =  0.9981109287589334\n"
     ]
    }
   ],
   "source": [
    "sum_x = (xdata).sum()\n",
    "sum_y = (ydata).sum()\n",
    "xmean=sum_x/npoint\n",
    "ymean=sum_y/npoint\n",
    "ameanx=xdata-xmean\n",
    "varx = (ameanx*ameanx).sum()\n",
    "devstx = np.sqrt(varx)\n",
    "ameany = ydata-ymean\n",
    "vary = (ameany*ameany).sum()\n",
    "devsty = np.sqrt(vary)\n",
    "covxy = (ameanx*ameany).sum()\n",
    "corrcoeff=covxy/(devstx*devsty)\n",
    "print (\"coefficiente correlazione = \",corrcoeff)"
   ]
  },
  {
   "cell_type": "code",
   "execution_count": 8,
   "metadata": {},
   "outputs": [
    {
     "data": {
      "text/plain": [
       "array([[4.59183673e+04, 1.34219546e+06],\n",
       "       [1.34219546e+06, 4.82514150e+07]])"
      ]
     },
     "execution_count": 8,
     "metadata": {},
     "output_type": "execute_result"
    }
   ],
   "source": [
    "matD = np.array([[sum_one_over_yerrSq,sum_x_over_yerrSq],[sum_x_over_yerrSq,sum_xSq_over_yerrSq]])\n",
    "matD"
   ]
  },
  {
   "cell_type": "code",
   "execution_count": 9,
   "metadata": {},
   "outputs": [
    {
     "data": {
      "text/plain": [
       "array([[ 1.16510602e-04, -3.24094124e-06],\n",
       "       [-3.24094124e-06,  1.10877093e-07]])"
      ]
     },
     "execution_count": 9,
     "metadata": {},
     "output_type": "execute_result"
    }
   ],
   "source": [
    "matD_inv = np.linalg.inv(matD)\n",
    "matD_inv"
   ]
  },
  {
   "cell_type": "markdown",
   "metadata": {},
   "source": [
    "Check D^(-1)D = I"
   ]
  },
  {
   "cell_type": "code",
   "execution_count": 10,
   "metadata": {
    "scrolled": true
   },
   "outputs": [
    {
     "data": {
      "text/plain": [
       "array([[ 1.00000000e+00, -4.68789895e-18],\n",
       "       [-1.21978703e-15,  1.00000000e+00]])"
      ]
     },
     "execution_count": 10,
     "metadata": {},
     "output_type": "execute_result"
    }
   ],
   "source": [
    "np.dot(matD,matD_inv)"
   ]
  },
  {
   "cell_type": "code",
   "execution_count": 11,
   "metadata": {},
   "outputs": [
    {
     "data": {
      "text/plain": [
       "array([ 12448.97959184, 454441.00153061])"
      ]
     },
     "execution_count": 11,
     "metadata": {},
     "output_type": "execute_result"
    }
   ],
   "source": [
    "matB = np.array([sum_y_over_yerrSq,sum_xy_over_yerrSq])\n",
    "matB"
   ]
  },
  {
   "cell_type": "code",
   "execution_count": 12,
   "metadata": {
    "scrolled": true
   },
   "outputs": [
    {
     "data": {
      "text/plain": [
       "array([-0.02237848,  0.01004069])"
      ]
     },
     "execution_count": 12,
     "metadata": {},
     "output_type": "execute_result"
    }
   ],
   "source": [
    "np.dot(matD_inv,matB)"
   ]
  },
  {
   "cell_type": "markdown",
   "metadata": {},
   "source": [
    "Calcolo parametri fit"
   ]
  },
  {
   "cell_type": "code",
   "execution_count": 19,
   "metadata": {
    "scrolled": true
   },
   "outputs": [
    {
     "name": "stdout",
     "output_type": "stream",
     "text": [
      " intercetta a (N)=  -0.02237847827246234\n",
      " coeff.angolare b (u.m.)=  0.010040685718020255\n"
     ]
    }
   ],
   "source": [
    "a, b = np.dot(matD_inv,matB)[0],np.dot(matD_inv,matB)[1]\n",
    "print (\" intercetta a (N)= \", a)\n",
    "print (\" coeff.angolare b (u.m.)= \", b)"
   ]
  },
  {
   "cell_type": "markdown",
   "metadata": {},
   "source": [
    "Calcolo errori sui parametri"
   ]
  },
  {
   "cell_type": "code",
   "execution_count": 20,
   "metadata": {},
   "outputs": [
    {
     "name": "stdout",
     "output_type": "stream",
     "text": [
      " errore su intercetta siga (N)=  0.010794007682688336\n",
      " errore su coeff.angolare sigb (u.m.)=  0.00033298212075432565\n"
     ]
    }
   ],
   "source": [
    "siga, sigb = np.sqrt(matD_inv[0,0]), np.sqrt(matD_inv[1,1])\n",
    "print (\" errore su intercetta siga (N)= \",siga)\n",
    "print (\" errore su coeff.angolare sigb (u.m.)= \",sigb)"
   ]
  },
  {
   "cell_type": "markdown",
   "metadata": {},
   "source": [
    "Plot"
   ]
  },
  {
   "cell_type": "code",
   "execution_count": 18,
   "metadata": {},
   "outputs": [
    {
     "data": {
      "text/plain": [
       "<ErrorbarContainer object of 3 artists>"
      ]
     },
     "execution_count": 18,
     "metadata": {},
     "output_type": "execute_result"
    },
    {
     "data": {
      "image/png": "[encoded data removed]",
      "text/plain": [
       "<Figure size 640x480 with 1 Axes>"
      ]
     },
     "metadata": {},
     "output_type": "display_data"
    }
   ],
   "source": [
    "fig, ax = plt.subplots()\n",
    "ax.set_ylim(0, 1)\n",
    "ax.set_xlim(0, 55)\n",
    "ax.set_xlabel('Volume - cm^3')\n",
    "ax.set_ylabel('Archimede - N')\n",
    "ax.grid()\n",
    "plt.plot(xdata,b*xdata+a,xdata,ydata,'bo')\n",
    "plt.errorbar(xdata,ydata,yerr=yerr,ecolor='black', ls=\" \")"
   ]
  },
  {
   "cell_type": "markdown",
   "metadata": {},
   "source": [
    "Calcolo X^2 e errore standard della stima"
   ]
  },
  {
   "cell_type": "code",
   "execution_count": 16,
   "metadata": {},
   "outputs": [
    {
     "name": "stdout",
     "output_type": "stream",
     "text": [
      " Chi^2 =  3.4450475998225443\n",
      " errore standard della stima (u.m.) =  0.009821473046087905\n"
     ]
    }
   ],
   "source": [
    "scarto1 = (ydata-a-b*xdata)/yerr\n",
    "scarto2 = (ydata-a-b*xdata)\n",
    "chi2 = (scarto1*scarto1).sum()\n",
    "errstSq = (scarto2*scarto2/(npoint-2)).sum()\n",
    "errst = np.sqrt(errstSq)\n",
    "print (\" Chi^2 = \",chi2)\n",
    "print (\" errore standard della stima (u.m.) = \",errst)"
   ]
  },
  {
   "cell_type": "code",
   "execution_count": null,
   "metadata": {},
   "outputs": [],
   "source": []
  }
 ],
 "metadata": {
  "celltoolbar": "Raw Cell Format",
  "kernelspec": {
   "display_name": "Python 3 (ipykernel)",
   "language": "python",
   "name": "python3"
  },
  "language_info": {
   "codemirror_mode": {
    "name": "ipython",
    "version": 3
   },
   "file_extension": ".py",
   "mimetype": "text/x-python",
   "name": "python",
   "nbconvert_exporter": "python",
   "pygments_lexer": "ipython3",
   "version": "3.12.2"
  }
 },
 "nbformat": 4,
 "nbformat_minor": 4
}
