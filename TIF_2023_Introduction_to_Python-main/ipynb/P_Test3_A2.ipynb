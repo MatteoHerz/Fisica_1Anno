{
 "cells": [
  {
   "cell_type": "markdown",
   "metadata": {},
   "source": [
    "__Finiti gli esercizi, oppure il tempo a disposizione, salvate il notebook usando:__<BR>\n",
    "```\n",
    "File --> Save Notebook as\n",
    "```\n",
    "__usando il vostro cognome_nome come nome del file. Spedite il notebook, usando il vostro mailer preferito, a maina@to.infn.it, CON IL FILE IN ALLEGATO.__\n",
    "    \n",
    "Per determinare la cartella in cui il file viene salvato usate il comando `%pwd` in una cella a parte."
   ]
  },
  {
   "cell_type": "markdown",
   "metadata": {},
   "source": [
    "### Esercizio 1\n",
    "__Scrivete un array `val` di numeri reali compresi fra 20 e 40 ad intervalli di 0.3. \n",
    "Costruite una funzione, `pol(x,n2,n1,n0)`, che restituisca l'array dei valori del polinomio\n",
    "y = n2\\*x\\*\\*2 +n1\\*x + n0 in tutti i punti dell'array x. Testate `pol` su un piccolo array per cui siete in grado di calcolare autonomamente il risultato per n2 = n1 = n0 = 1. Usate `pol` per calcolare i valori di 1/2\\*x\\*\\*2 -x + 1 nei punti contenuti in `val`.__   "
   ]
  },
  {
   "cell_type": "code",
   "execution_count": 9,
   "metadata": {
    "tags": []
   },
   "outputs": [
    {
     "name": "stdout",
     "output_type": "stream",
     "text": [
      "[ 441.    453.69  466.56  479.61  492.84  506.25  519.84  533.61  547.56\n",
      "  561.69  576.    590.49  605.16  620.01  635.04  650.25  665.64  681.21\n",
      "  696.96  712.89  729.    745.29  761.76  778.41  795.24  812.25  829.44\n",
      "  846.81  864.36  882.09  900.    918.09  936.36  954.81  973.44  992.25\n",
      " 1011.24 1030.41 1049.76 1069.29 1089.   1108.89 1128.96 1149.21 1169.64\n",
      " 1190.25 1211.04 1232.01 1253.16 1274.49 1296.   1317.69 1339.56 1361.61\n",
      " 1383.84 1406.25 1428.84 1451.61 1474.56 1497.69 1521.   1544.49 1568.16\n",
      " 1592.01 1616.04 1640.25 1664.64]\n",
      "\n",
      " [ 3  7 13]\n"
     ]
    }
   ],
   "source": [
    "import numpy as np\n",
    "\n",
    "def pol(x,n2,n1,n0):\n",
    "    y = n2*(x**2) + n1*x + n0\n",
    "    return y\n",
    "\n",
    "val = np.arange(20,40,0.3)\n",
    "\n",
    "x = np.arange(1,4)\n",
    "\n",
    "print(pol(val,1,2,1))\n",
    "\n",
    "print(\"\\n\",pol(x,1,1,1))"
   ]
  },
  {
   "cell_type": "markdown",
   "metadata": {},
   "source": [
    "### Esercizio 2\n",
    "__Costruite l'array A di elementi 1/n**2 con n intero compreso fra 1 e 100 compresi. Costruite una funzione a_data(arr) che restituisca il primo e l'ultimo elemento dell'array `arr`. I due valori devono essere divisi per la somma degli elementi di `arr` se il valore assoluto della  differenza fra questa somma e zero è maggiore di `1.e-8`. Testate la funzione con l' array A e con l'array np.array([1,-1]).__"
   ]
  },
  {
   "cell_type": "code",
   "execution_count": 33,
   "metadata": {
    "tags": []
   },
   "outputs": [
    {
     "name": "stdout",
     "output_type": "stream",
     "text": [
      "(1, -1)\n",
      "(0.6116268177851262, 8.021750379528268e-05)\n"
     ]
    }
   ],
   "source": [
    "import numpy as np\n",
    "\n",
    "def a_data(arr):\n",
    "    \n",
    "    if abs(sum(arr)-0)>(1.e-8): \n",
    "        arr[0] = arr[0]/sum(arr)\n",
    "        arr[-1] = arr[-1]/sum(arr)\n",
    "        \n",
    "    return arr[0],arr[-1]\n",
    "\n",
    "A = np.ones(100)\n",
    "x = np.arange(1,101)\n",
    "A = A/(x**2)\n",
    "\n",
    "y = np.array([1,-1])\n",
    "\n",
    "print(a_data(y))\n",
    "print(a_data(A))"
   ]
  },
  {
   "cell_type": "markdown",
   "metadata": {},
   "source": [
    "### Esercizio 3\n",
    "__Data la matrice:__\n",
    "$$\n",
    "R = \\left( \\begin{matrix}\n",
    "1 & 3 & 1 & -1 \\\\\n",
    "-1 & 2 & 2 & 0\\\\ \n",
    "0 & 2 & -1 & 1\\\\\n",
    "-2 & 0 & 1 & -1\\\\\n",
    "\\end{matrix} \\right)\n",
    "$$\n",
    "\n",
    "__Verificate che la matrice è invertibile. Sostituite la terza riga della matrice con il doppio della seconda riga.\n",
    "Verificate se la matrice risultante è invertibile.__"
   ]
  },
  {
   "cell_type": "code",
   "execution_count": 48,
   "metadata": {
    "tags": []
   },
   "outputs": [
    {
     "name": "stdout",
     "output_type": "stream",
     "text": [
      "La Matrice R è invertibile.\n",
      "La Matrice R modificata non è invertibile.\n"
     ]
    }
   ],
   "source": [
    "import numpy as np \n",
    "import numpy.linalg as LA\n",
    "\n",
    "R = np.array([[1, 3, 1, -1],[-1, 2, 2, 0],[0, 2, -1, 1],[-2, 0, 1, -1]])\n",
    "\n",
    "if LA.det(R)==0:\n",
    "    print(\"La Matrice R non è invertibile.\")\n",
    "else: \n",
    "    print(\"La Matrice R è invertibile.\")\n",
    "    R[2,:] = 2*R[1,:]\n",
    "    if LA.det(R)==0:\n",
    "        print(\"La Matrice R modificata non è invertibile.\")\n",
    "    else: \n",
    "        print(\"La Matrice R modificata è invertibile.\")"
   ]
  },
  {
   "cell_type": "markdown",
   "metadata": {},
   "source": [
    "### Esercizio 4\n",
    "__Scrivete una funzione `mysub(mylist,test=False)` che dato un array `mylist` restituisca la somma S degli elementi di `mylist`. \n",
    "Se `test=False` la funzione deve scrivere S nel file `sum.dat`. Se `test=True` la funzione deve stampare S sullo schermo.__<BR>\n",
    "__Testate `mysub` con l'array `np.array([1,2,3])` sia con `test=False` che con `test=True`.__"
   ]
  },
  {
   "cell_type": "code",
   "execution_count": 69,
   "metadata": {
    "tags": []
   },
   "outputs": [
    {
     "name": "stdout",
     "output_type": "stream",
     "text": [
      "6\n"
     ]
    }
   ],
   "source": [
    "import numpy as np\n",
    "\n",
    "def mysub(mylist,test=False):\n",
    "    S = sum(mylist)\n",
    "    if test==False: \n",
    "        with open(\"sum.dat\",\"w\") as f:\n",
    "            f.write(f\"{S}\")\n",
    "    else: \n",
    "        print(f\"{S}\")\n",
    "        \n",
    "mylist = np.array([1,2,3])\n",
    "\n",
    "mysub(mylist,test=False)\n",
    "mysub(mylist,test=True)\n",
    "\n",
    "#with open(\"sum.dat\",\"r\") as f:     <-- verificare che abbia scritto nel file s\n",
    "            #print(f.read())"
   ]
  }
 ],
 "metadata": {
  "kernelspec": {
   "display_name": "Python 3 (ipykernel)",
   "language": "python",
   "name": "python3"
  },
  "language_info": {
   "codemirror_mode": {
    "name": "ipython",
    "version": 3
   },
   "file_extension": ".py",
   "mimetype": "text/x-python",
   "name": "python",
   "nbconvert_exporter": "python",
   "pygments_lexer": "ipython3",
   "version": "3.11.4"
  }
 },
 "nbformat": 4,
 "nbformat_minor": 4
}
