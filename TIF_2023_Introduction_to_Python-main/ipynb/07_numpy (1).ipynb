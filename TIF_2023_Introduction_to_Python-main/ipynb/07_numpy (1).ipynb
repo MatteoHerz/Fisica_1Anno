{
 "cells": [
  {
   "cell_type": "markdown",
   "metadata": {},
   "source": [
    "<H1 style=\"font-size:50px\">7: Numerical Python (NumPy)</H1>\n",
    "\n",
    "<div style = \"width:95%; padding:5px 10px 5px;  margin:50px 0px 10px 10px; font-size:18px\">\n",
    "<UL>\n",
    "    <LI> L'array: la struttura base di Numpy\n",
    "    <LI> Come operare su interi array con un singolo comando\n",
    "    <LI> Funzioni che agiscono su tutto un array\n",
    "    <LI> Come selezionare gli elementi di un array che soddisfano una condizione\n",
    "    <LI> Array a due dimensioni: le matrici\n",
    "    <LI> L'algebra lineare\n",
    "    <LI> Array multidimensionali\n",
    "    <LI> Come vettorializzare una funzione scalare\n",
    "    <LI> Leggere e scrivere array su un file di testo\n",
    "</UL>\n",
    "</div>\n",
    "\n",
    "<hr>\n",
    "\n",
    "\n",
    "## 7.1 Introduzione\n",
    "\n",
    "Il linguaggio Python di base (incluse le librerie standard) fornisce strumenti sufficienti per completare semplici progetti computazionali. Tuttavia, esistono librerie Python dedicate che forniscono funzionalità estese che\n",
    "\n",
    "-   forniscono strumenti numerici per automatizzare operazioni ricorrenti\n",
    "\n",
    "-   sono semplici da usare\n",
    "\n",
    "-   sono più efficienti in termini di tempo di CPU e di esigenze di memoria degli strumenti in Python base.\n",
    "\n",
    "Citiamo tre librerie in particolare:\n",
    "\n",
    "-   Il modulo `numpy`, introdotto in 07_numpy, che fornisce strumenti numerici. Numpy contiene fra le altre cose molte funzioni per manipolazioni statistiche che vengono presentate in 09_numpy_statistics.\n",
    "\n",
    "-   Il modulo `matplotlib`, introdotto in 08_plots, che permette di creare grafici.\n",
    "\n",
    "-   Il modulo `scipy` (SCIentific PYthon), introdotto in 10_scipy, che fornisce un gran numero di algoritmi numerici.\n",
    "\n",
    "Molti degli algoritmi numerici resi disponibili da `numpy` e `scipy` sono forniti da librerie compilate, di solida tradizione, che spesso sono scritte in Fortran o C. Vengono quindi eseguite molto più velocemente di codice scritto in puro Python (che è interpretato). Generalmente, un codice compilato è due ordini di grandezza più veloce di un codice in puro Python.\n",
    "\n",
    "Come al solito, si può utilizzare la funzione `help` su ciascuno dei metodi numerici per accedere alla documentazione."
   ]
  },
  {
   "cell_type": "markdown",
   "metadata": {},
   "source": [
    "## 7.2 Numpy e gli array\n",
    "\n",
    "La librery NumPy (NUMerical PYthon) fornisce un nuovo tipo di struttura dei dati chiamata `array`s che permette di eseguire in modo efficiente operazioni su vettori e matrici. Fornisce inoltre diverse  operazioni legate all'algebra lineare (come risolvere sistemi di equazioni lineari, calcolo di autovettori e autovalori). Viene tradizionalmente importata come `np`.<BR>\n",
    "\n",
    "NumPy introduce un nuovo tipo di dati detto “`array`”. Un array *sembra* molto simile a una lista ma può contenere solo elementi di un singolo tipo (mentre una lista può contenere oggetti di tipo diverso). Questo significa che gli array possono essere scritti in memoria in modo più efficiente. Gli array sono la struttura di dati migliore per i calcoli numerici in cui spesso si ha a che fare con vettori e matrici di tipo omogeneo.\n",
    "\n",
    "Vettori, matrici bidimensionali e matrici con più di due indici sono tutti chiamati “arrays” in NumPy.\n",
    "\n",
    "### 7.2.1 Vettor1 (1d-arrays)\n",
    "\n",
    "La struttura dati data che useremo più spesso è il vettore. Qualche esempio di come crearne uno:\n",
    "\n",
    "-   Conversione di una lista (o tuple) in un array usando <span>`numpy.array`</span>:"
   ]
  },
  {
   "cell_type": "code",
   "execution_count": 2,
   "metadata": {
    "tags": []
   },
   "outputs": [
    {
     "name": "stdout",
     "output_type": "stream",
     "text": [
      "[0.  0.5 1.  1.5]\n"
     ]
    }
   ],
   "source": [
    "import numpy as np\n",
    "x = np.array([0, 0.5, 1, 1.5])\n",
    "print(x)"
   ]
  },
  {
   "cell_type": "code",
   "execution_count": 4,
   "metadata": {},
   "outputs": [
    {
     "data": {
      "text/plain": [
       "numpy.ndarray"
      ]
     },
     "execution_count": 4,
     "metadata": {},
     "output_type": "execute_result"
    }
   ],
   "source": [
    "type(x)"
   ]
  },
  {
   "cell_type": "code",
   "execution_count": 5,
   "metadata": {},
   "outputs": [
    {
     "data": {
      "text/plain": [
       "list"
      ]
     },
     "execution_count": 5,
     "metadata": {},
     "output_type": "execute_result"
    }
   ],
   "source": [
    "type([0, 0.5, 1, 1.5])"
   ]
  },
  {
   "cell_type": "code",
   "execution_count": 6,
   "metadata": {},
   "outputs": [
    {
     "data": {
      "text/plain": [
       "array([0. , 0.5, 1. , 1.5])"
      ]
     },
     "execution_count": 6,
     "metadata": {},
     "output_type": "execute_result"
    }
   ],
   "source": [
    "x"
   ]
  },
  {
   "cell_type": "markdown",
   "metadata": {},
   "source": [
    "<div style = \"width:95%; padding:5px 10px 5px; border-style:solid; border-width:0px 0px 0px 10px; border-color:#ff0000; margin:20px 0px 10px 10px\">\n",
    "    <h4> Attenzione!</h4>\n",
    "    Notate come la rappresentazione sullo schermo di un array sia diversa se si invoca semplicemente il corrispondente simbolo oppure se si chiama la funzione <b>print</b>. La differenza è legata a due diverse funzioni intrinseche __str__ e __repr__ che possono essere utilizzate nella definizioni di <b>Classi</b>, di cui non parleremo nel corso.\n",
    "</div>"
   ]
  },
  {
   "cell_type": "markdown",
   "metadata": {},
   "source": [
    "- Creazione di un vettore usando \"arange\":"
   ]
  },
  {
   "cell_type": "code",
   "execution_count": 7,
   "metadata": {},
   "outputs": [
    {
     "name": "stdout",
     "output_type": "stream",
     "text": [
      "[0.  0.5 1.  1.5]\n"
     ]
    }
   ],
   "source": [
    "x = np.arange(0, 2, 0.5)\n",
    "print(x)"
   ]
  },
  {
   "cell_type": "markdown",
   "metadata": {},
   "source": [
    "-   Creazione di un vettore di zeri, di uno"
   ]
  },
  {
   "cell_type": "code",
   "execution_count": 8,
   "metadata": {},
   "outputs": [
    {
     "name": "stdout",
     "output_type": "stream",
     "text": [
      "[0. 0. 0. 0.]\n",
      "[1. 1. 1. 1. 1. 1. 1. 1. 1. 1.]\n"
     ]
    }
   ],
   "source": [
    "x = np.zeros(4)\n",
    "print(x)\n",
    "y = np.ones(10)\n",
    "print(y)"
   ]
  },
  {
   "cell_type": "markdown",
   "metadata": {},
   "source": [
    "#### I comandi linspace() e logspace()\n",
    "\n",
    "In Numpy esiste il comando `linspace(x0, x1, n)`, che genera una lista di `n` elementi equidistanti fra `x0` e `x1` (inclusi). Il comando `logspace(x0, x1, n)` genera una lista di `n` elementi equidistanti, in scala logaritmica, fra `10\\*\\*x0` e `10\\*\\*x1`; è utile per fare plot logaritmici come vedremo in 08_plots. Alcuni esempi:"
   ]
  },
  {
   "cell_type": "code",
   "execution_count": 9,
   "metadata": {},
   "outputs": [
    {
     "data": {
      "text/plain": [
       "array([ 0.  ,  0.01,  0.02, ...,  9.98,  9.99, 10.  ])"
      ]
     },
     "execution_count": 9,
     "metadata": {},
     "output_type": "execute_result"
    }
   ],
   "source": [
    "np.linspace(0,10,1001)"
   ]
  },
  {
   "cell_type": "code",
   "execution_count": 10,
   "metadata": {},
   "outputs": [
    {
     "data": {
      "text/plain": [
       "array([-1. , -0.9, -0.8, -0.7, -0.6, -0.5, -0.4, -0.3, -0.2, -0.1,  0. ,\n",
       "        0.1,  0.2,  0.3,  0.4,  0.5,  0.6,  0.7,  0.8,  0.9,  1. ])"
      ]
     },
     "execution_count": 10,
     "metadata": {},
     "output_type": "execute_result"
    }
   ],
   "source": [
    "np.linspace(-1,1,21)"
   ]
  },
  {
   "cell_type": "markdown",
   "metadata": {},
   "source": [
    "Ricordate che i primi due argomenti di logspace sono i logaritmi in base 10 del punto iniziale e di quello finale."
   ]
  },
  {
   "cell_type": "code",
   "execution_count": 15,
   "metadata": {},
   "outputs": [
    {
     "data": {
      "text/plain": [
       "array([   10.,   100.,  1000., 10000.])"
      ]
     },
     "execution_count": 15,
     "metadata": {},
     "output_type": "execute_result"
    }
   ],
   "source": [
    "np.logspace(1,4,4)\n",
    "#np.logspace(1.7,4.4,40)"
   ]
  },
  {
   "cell_type": "markdown",
   "metadata": {},
   "source": [
    "#### Come scegliere o modificare il `tipo` di dati di un array"
   ]
  },
  {
   "cell_type": "markdown",
   "metadata": {},
   "source": [
    "Quando viene creato un array è possibile specificare il tipo di dati che contiene. I tipi possibili sono: 'float', 'complex', 'int', 'bool', 'str' and 'object'. Un controllo più fine si può avere usando espressioni come 'float32', 'float64', 'int8', 'int16' oppure 'int32'; l'intero specifica il numero di bytes. "
   ]
  },
  {
   "cell_type": "code",
   "execution_count": 21,
   "metadata": {},
   "outputs": [],
   "source": [
    "array_f = np.array([1,2,3.14], dtype=float)\n",
    "array_i = np.array([1.,2.24,3], dtype='int16')"
   ]
  },
  {
   "cell_type": "code",
   "execution_count": 17,
   "metadata": {},
   "outputs": [
    {
     "data": {
      "text/plain": [
       "array([1.  , 2.  , 3.14])"
      ]
     },
     "execution_count": 17,
     "metadata": {},
     "output_type": "execute_result"
    }
   ],
   "source": [
    "array_f"
   ]
  },
  {
   "cell_type": "code",
   "execution_count": 22,
   "metadata": {},
   "outputs": [
    {
     "data": {
      "text/plain": [
       "array([1, 2, 3], dtype=int16)"
      ]
     },
     "execution_count": 22,
     "metadata": {},
     "output_type": "execute_result"
    }
   ],
   "source": [
    "array_i"
   ]
  },
  {
   "cell_type": "code",
   "execution_count": 23,
   "metadata": {},
   "outputs": [
    {
     "data": {
      "text/plain": [
       "array([        1,         2, 123456790])"
      ]
     },
     "execution_count": 23,
     "metadata": {},
     "output_type": "execute_result"
    }
   ],
   "source": [
    "np.array([1,2,123456790],dtype='int32')"
   ]
  },
  {
   "cell_type": "code",
   "execution_count": 24,
   "metadata": {},
   "outputs": [
    {
     "data": {
      "text/plain": [
       "array([1.3+0.j, 1.4+0.j, 1.5+0.j, 1.6+0.j, 1.7+0.j, 1.8+0.j, 1.9+0.j,\n",
       "       2. +0.j, 2.1+0.j])"
      ]
     },
     "execution_count": 24,
     "metadata": {},
     "output_type": "execute_result"
    }
   ],
   "source": [
    "np.arange(1.3,2.2,0.1,dtype=complex)"
   ]
  },
  {
   "cell_type": "markdown",
   "metadata": {},
   "source": [
    "Il tipo di un array può essere modificato con il metodo astype"
   ]
  },
  {
   "cell_type": "code",
   "execution_count": 25,
   "metadata": {},
   "outputs": [
    {
     "data": {
      "text/plain": [
       "array([1.  +0.j, 2.  +0.j, 3.14+0.j])"
      ]
     },
     "execution_count": 25,
     "metadata": {},
     "output_type": "execute_result"
    }
   ],
   "source": [
    "array_f.astype(complex)"
   ]
  },
  {
   "cell_type": "code",
   "execution_count": 26,
   "metadata": {},
   "outputs": [
    {
     "data": {
      "text/plain": [
       "array([1, 2, 3], dtype=int16)"
      ]
     },
     "execution_count": 26,
     "metadata": {},
     "output_type": "execute_result"
    }
   ],
   "source": [
    "array_f.astype('int16')"
   ]
  },
  {
   "cell_type": "markdown",
   "metadata": {},
   "source": [
    "### 7.2.2 Operazioni su array\n",
    "\n",
    "- Una volta che l'array esiste, possiamo definire e recuperare il valore degli elementi. Per esempio:"
   ]
  },
  {
   "cell_type": "code",
   "execution_count": 27,
   "metadata": {},
   "outputs": [
    {
     "name": "stdout",
     "output_type": "stream",
     "text": [
      "[3.4 0.  4.  0. ]\n"
     ]
    }
   ],
   "source": [
    "x = np.zeros(4)\n",
    "x[0] = 3.4\n",
    "x[2] = 4\n",
    "print(x)"
   ]
  },
  {
   "cell_type": "markdown",
   "metadata": {},
   "source": [
    "- I metodi di slicing per le stringhe/liste/ntuple si possono applicare anche agli array:"
   ]
  },
  {
   "cell_type": "code",
   "execution_count": 28,
   "metadata": {},
   "outputs": [
    {
     "name": "stdout",
     "output_type": "stream",
     "text": [
      "3.4\n",
      "[3.4 0.  4. ]\n"
     ]
    }
   ],
   "source": [
    "print(x[0])\n",
    "print(x[0:-1])"
   ]
  },
  {
   "cell_type": "markdown",
   "metadata": {},
   "source": [
    "- La lunghezza di un array si ottiene con `len`"
   ]
  },
  {
   "cell_type": "code",
   "execution_count": 29,
   "metadata": {},
   "outputs": [
    {
     "data": {
      "text/plain": [
       "4"
      ]
     },
     "execution_count": 29,
     "metadata": {},
     "output_type": "execute_result"
    }
   ],
   "source": [
    "len(x)"
   ]
  },
  {
   "cell_type": "markdown",
   "metadata": {},
   "source": [
    "- Quando abbiamo un array possiamo eseguire operazioni su ogni elemento con un solo comando.<BR>"
   ]
  },
  {
   "cell_type": "code",
   "execution_count": 30,
   "metadata": {},
   "outputs": [
    {
     "name": "stdout",
     "output_type": "stream",
     "text": [
      "[0.  0.5 1.  1.5]\n"
     ]
    }
   ],
   "source": [
    "x = np.arange(0, 2, 0.5)\n",
    "print(x)"
   ]
  },
  {
   "cell_type": "code",
   "execution_count": 31,
   "metadata": {},
   "outputs": [
    {
     "name": "stdout",
     "output_type": "stream",
     "text": [
      "[10.  10.5 11.  11.5]\n",
      "[ 0.  16.5 33.  49.5]\n",
      "[0.   0.25 1.   2.25]\n"
     ]
    }
   ],
   "source": [
    "print(x + 10)\n",
    "print(x*33)\n",
    "print(x ** 2)"
   ]
  },
  {
   "cell_type": "markdown",
   "metadata": {},
   "source": [
    "La maggior parte delle operazioni (`+`, `-`, `*`, `/`) agiscono su tutto un array in un solo colpo, elemento per elemento."
   ]
  },
  {
   "cell_type": "code",
   "execution_count": 32,
   "metadata": {},
   "outputs": [
    {
     "data": {
      "text/plain": [
       "array([  0.,  -8., 103.])"
      ]
     },
     "execution_count": 32,
     "metadata": {},
     "output_type": "execute_result"
    }
   ],
   "source": [
    "y1 = np.array([1.,2.,3.])\n",
    "y2 = np.array([-1.,-10,+100])\n",
    "y1+y2"
   ]
  },
  {
   "cell_type": "markdown",
   "metadata": {},
   "source": [
    "Nel modulo numpy sono definite tutte le funzioni matematiche più comuni in modo che agiscano su tutti gli elementi di un array. Sono definite anche le costanti come np.e e np.pi. In generale è superfluo importare separatamente il modulo math."
   ]
  },
  {
   "cell_type": "code",
   "execution_count": 33,
   "metadata": {},
   "outputs": [
    {
     "name": "stdout",
     "output_type": "stream",
     "text": [
      "[0.         0.47942554 0.84147098 0.99749499]\n",
      "2.718281828459045\n"
     ]
    }
   ],
   "source": [
    "print(np.sin(x))\n",
    "print(np.e)"
   ]
  },
  {
   "cell_type": "markdown",
   "metadata": {},
   "source": [
    "La funzione `mod` corrisponde alla operazione modulo `%` con molte opzioni in più (Hint: help(np.mod))."
   ]
  },
  {
   "cell_type": "code",
   "execution_count": 34,
   "metadata": {},
   "outputs": [
    {
     "name": "stdout",
     "output_type": "stream",
     "text": [
      "[0 1 2 3 4 5 6 7 8 9]\n"
     ]
    }
   ],
   "source": [
    "x = np.arange(10)\n",
    "print(x)"
   ]
  },
  {
   "cell_type": "code",
   "execution_count": 35,
   "metadata": {},
   "outputs": [
    {
     "data": {
      "text/plain": [
       "array([0, 1, 2, 3, 4, 5, 0, 1, 2, 3], dtype=int32)"
      ]
     },
     "execution_count": 35,
     "metadata": {},
     "output_type": "execute_result"
    }
   ],
   "source": [
    "np.mod(x,6)"
   ]
  },
  {
   "cell_type": "markdown",
   "metadata": {},
   "source": [
    "Il modo migliore di utilizzare una funzione in numpy è definire l'array dei punti in cui la funzione deve essere calcolata e poi applicare la funzione all'array.<BR>\n",
    "Esempio: per calcolare i valori del polinomio y = 3\\* x\\*\\*3 - 2\\*x\\*\\*2 + 1 fra -5 e 5:"
   ]
  },
  {
   "cell_type": "code",
   "execution_count": 36,
   "metadata": {
    "collapsed": true,
    "jupyter": {
     "outputs_hidden": true
    },
    "tags": []
   },
   "outputs": [
    {
     "name": "stdout",
     "output_type": "stream",
     "text": [
      "[-5.  -4.9 -4.8 -4.7 -4.6 -4.5 -4.4 -4.3 -4.2 -4.1 -4.  -3.9 -3.8 -3.7\n",
      " -3.6 -3.5 -3.4 -3.3 -3.2 -3.1 -3.  -2.9 -2.8 -2.7 -2.6 -2.5 -2.4 -2.3\n",
      " -2.2 -2.1 -2.  -1.9 -1.8 -1.7 -1.6 -1.5 -1.4 -1.3 -1.2 -1.1 -1.  -0.9\n",
      " -0.8 -0.7 -0.6 -0.5 -0.4 -0.3 -0.2 -0.1  0.   0.1  0.2  0.3  0.4  0.5\n",
      "  0.6  0.7  0.8  0.9  1.   1.1  1.2  1.3  1.4  1.5  1.6  1.7  1.8  1.9\n",
      "  2.   2.1  2.2  2.3  2.4  2.5  2.6  2.7  2.8  2.9  3.   3.1  3.2  3.3\n",
      "  3.4  3.5  3.6  3.7  3.8  3.9  4.   4.1  4.2  4.3  4.4  4.5  4.6  4.7\n",
      "  4.8  4.9  5. ]\n"
     ]
    },
    {
     "data": {
      "text/plain": [
       "array([-4.24000e+02, -3.99967e+02, -3.76856e+02, -3.54649e+02,\n",
       "       -3.33328e+02, -3.12875e+02, -2.93272e+02, -2.74501e+02,\n",
       "       -2.56544e+02, -2.39383e+02, -2.23000e+02, -2.07377e+02,\n",
       "       -1.92496e+02, -1.78339e+02, -1.64888e+02, -1.52125e+02,\n",
       "       -1.40032e+02, -1.28591e+02, -1.17784e+02, -1.07593e+02,\n",
       "       -9.80000e+01, -8.89870e+01, -8.05360e+01, -7.26290e+01,\n",
       "       -6.52480e+01, -5.83750e+01, -5.19920e+01, -4.60810e+01,\n",
       "       -4.06240e+01, -3.56030e+01, -3.10000e+01, -2.67970e+01,\n",
       "       -2.29760e+01, -1.95190e+01, -1.64080e+01, -1.36250e+01,\n",
       "       -1.11520e+01, -8.97100e+00, -7.06400e+00, -5.41300e+00,\n",
       "       -4.00000e+00, -2.80700e+00, -1.81600e+00, -1.00900e+00,\n",
       "       -3.68000e-01,  1.25000e-01,  4.88000e-01,  7.39000e-01,\n",
       "        8.96000e-01,  9.77000e-01,  1.00000e+00,  9.83000e-01,\n",
       "        9.44000e-01,  9.01000e-01,  8.72000e-01,  8.75000e-01,\n",
       "        9.28000e-01,  1.04900e+00,  1.25600e+00,  1.56700e+00,\n",
       "        2.00000e+00,  2.57300e+00,  3.30400e+00,  4.21100e+00,\n",
       "        5.31200e+00,  6.62500e+00,  8.16800e+00,  9.95900e+00,\n",
       "        1.20160e+01,  1.43570e+01,  1.70000e+01,  1.99630e+01,\n",
       "        2.32640e+01,  2.69210e+01,  3.09520e+01,  3.53750e+01,\n",
       "        4.02080e+01,  4.54690e+01,  5.11760e+01,  5.73470e+01,\n",
       "        6.40000e+01,  7.11530e+01,  7.88240e+01,  8.70310e+01,\n",
       "        9.57920e+01,  1.05125e+02,  1.15048e+02,  1.25579e+02,\n",
       "        1.36736e+02,  1.48537e+02,  1.61000e+02,  1.74143e+02,\n",
       "        1.87984e+02,  2.02541e+02,  2.17832e+02,  2.33875e+02,\n",
       "        2.50688e+02,  2.68289e+02,  2.86696e+02,  3.05927e+02,\n",
       "        3.26000e+02])"
      ]
     },
     "execution_count": 36,
     "metadata": {},
     "output_type": "execute_result"
    }
   ],
   "source": [
    "def myfunc(arr):\n",
    "    return 3*arr**3 -2*arr*arr +1\n",
    "\n",
    "x = np.linspace(-5,5,101)\n",
    "print(x)\n",
    "res = myfunc(x)\n",
    "res"
   ]
  },
  {
   "cell_type": "markdown",
   "metadata": {},
   "source": [
    "check:"
   ]
  },
  {
   "cell_type": "code",
   "execution_count": 37,
   "metadata": {},
   "outputs": [
    {
     "data": {
      "text/plain": [
       "-399.9670000000001"
      ]
     },
     "execution_count": 37,
     "metadata": {},
     "output_type": "execute_result"
    }
   ],
   "source": [
    "3*(-4.9)**3 -2*(-4.9)**2 +1."
   ]
  },
  {
   "cell_type": "markdown",
   "metadata": {},
   "source": [
    "<div style = \"width:95%; padding:5px 10px 5px; border-style:solid; border-width:0px 0px 0px 10px; border-color:#ff0000; margin:20px 0px 10px 10px\">\n",
    "    <h4> Attenzione!</h4>\n",
    "    È sbagliato e dannoso iterare esplicitamente, per esempio usando un `for` loop, sulle componenti di un array.\n",
    "</div>"
   ]
  },
  {
   "cell_type": "markdown",
   "metadata": {},
   "source": [
    "- Come estrarre più elementi da un array"
   ]
  },
  {
   "cell_type": "code",
   "execution_count": 38,
   "metadata": {},
   "outputs": [
    {
     "data": {
      "text/plain": [
       "array([ 5,  6,  7,  8,  9, 10, 11, 12, 13, 14])"
      ]
     },
     "execution_count": 38,
     "metadata": {},
     "output_type": "execute_result"
    }
   ],
   "source": [
    "x = np.arange(5,15)\n",
    "x"
   ]
  },
  {
   "cell_type": "code",
   "execution_count": 39,
   "metadata": {},
   "outputs": [
    {
     "name": "stdout",
     "output_type": "stream",
     "text": [
      "[7, 8, 10]\n"
     ]
    },
    {
     "data": {
      "text/plain": [
       "list"
      ]
     },
     "execution_count": 39,
     "metadata": {},
     "output_type": "execute_result"
    }
   ],
   "source": [
    "x1 = [x[2],x[3],x[5]]\n",
    "print(x1)\n",
    "type(x1)"
   ]
  },
  {
   "cell_type": "markdown",
   "metadata": {},
   "source": [
    "Per ottenere un array dal risultato precedente:"
   ]
  },
  {
   "cell_type": "code",
   "execution_count": 40,
   "metadata": {},
   "outputs": [
    {
     "name": "stdout",
     "output_type": "stream",
     "text": [
      "[ 7  8 10]\n"
     ]
    },
    {
     "data": {
      "text/plain": [
       "numpy.ndarray"
      ]
     },
     "execution_count": 40,
     "metadata": {},
     "output_type": "execute_result"
    }
   ],
   "source": [
    "x1 = np.array(x1)\n",
    "print(x1)\n",
    "type(x1)"
   ]
  },
  {
   "cell_type": "markdown",
   "metadata": {},
   "source": [
    "- Come estrarre più elementi da un array usando un array di indici"
   ]
  },
  {
   "cell_type": "code",
   "execution_count": 41,
   "metadata": {},
   "outputs": [
    {
     "data": {
      "text/plain": [
       "array([ 7,  8, 10])"
      ]
     },
     "execution_count": 41,
     "metadata": {},
     "output_type": "execute_result"
    }
   ],
   "source": [
    "ind = [2,3,5]\n",
    "x[ind]       # Restituisce un array"
   ]
  },
  {
   "cell_type": "markdown",
   "metadata": {},
   "source": [
    "<div style = \"width:95%; padding:5px 10px 5px; border-style:solid; border-width:0px 0px 0px 10px; border-color:#b8d0d0; margin:20px 0px 10px 10px\">\n",
    "    <h4> Imparare Facendo</h4>\n",
    "    \n",
    "<OL>\n",
    "<LI>Create un array A di 10 elementi uguali a -2.\n",
    "<LI>Create un array B di 21 elementi equidistanziati fra -np.pi e np.pi.\n",
    "<LI>Create un array C aggiungendo np.pi a tutii gli elementi di B.\n",
    "<LI>Invertite l'ordine degli elementi di C.\n",
    "<LI>Create un array D di elementi distanziati di 0.15 fra -2 e 1 in modo che 1 sia incluso.\n",
    "<LI>Estraete il terzultimo elemento di D.\n",
    "<LI>Create l'array E del quadrato degli elementi di D.\n",
    "<LI>Calcolate la differenza, elemento per elemento, fra E e D.\n",
    "<LI>Calcolate il valore di <b>sin(2*x)</b> in 201 punti <b>x</b> equidistanziati fra 0 e np.pi  \n",
    "<LI>Costruite una funzione <b>parabola(a,b,c,xmin,xmax,npoints)</b> che restutuisca un array di <b>npoints</b> valori di <b>y</b>\n",
    "    in <b>npoints</b> punti <b>x</b> equidistanziati fra\n",
    "    <b>xmin</b> e <b>xmax</b> (compresi) appartenenti alla parabola <b>y = a*x**2 + b*x + c</b>.\n",
    "</OL>\n",
    "</div>"
   ]
  },
  {
   "cell_type": "code",
   "execution_count": 49,
   "metadata": {
    "collapsed": true,
    "jupyter": {
     "outputs_hidden": true
    },
    "tags": []
   },
   "outputs": [
    {
     "name": "stdout",
     "output_type": "stream",
     "text": [
      "[-2. -2. -2. -2. -2. -2. -2. -2. -2. -2.]\n"
     ]
    }
   ],
   "source": [
    "#1\n",
    "import numpy as np\n",
    "A = np.ones(10)*-2\n",
    "print(A)"
   ]
  },
  {
   "cell_type": "code",
   "execution_count": 55,
   "metadata": {
    "collapsed": true,
    "jupyter": {
     "outputs_hidden": true
    },
    "tags": []
   },
   "outputs": [
    {
     "name": "stdout",
     "output_type": "stream",
     "text": [
      "[-3.14159265 -2.82743339 -2.51327412 -2.19911486 -1.88495559 -1.57079633\n",
      " -1.25663706 -0.9424778  -0.62831853 -0.31415927  0.          0.31415927\n",
      "  0.62831853  0.9424778   1.25663706  1.57079633  1.88495559  2.19911486\n",
      "  2.51327412  2.82743339  3.14159265]\n"
     ]
    }
   ],
   "source": [
    "#2\n",
    "import numpy as np\n",
    "B = np.linspace(-np.pi, np.pi , 21)\n",
    "print(B)"
   ]
  },
  {
   "cell_type": "code",
   "execution_count": 57,
   "metadata": {
    "collapsed": true,
    "jupyter": {
     "outputs_hidden": true
    },
    "tags": []
   },
   "outputs": [
    {
     "name": "stdout",
     "output_type": "stream",
     "text": [
      "[3.14159265 3.14159265 3.14159265 3.14159265 3.14159265 3.14159265\n",
      " 3.14159265 3.14159265 3.14159265 3.14159265]\n"
     ]
    }
   ],
   "source": [
    "#3\n",
    "import numpy as np\n",
    "C = np.zeros(10)\n",
    "C += np.pi\n",
    "print(C)"
   ]
  },
  {
   "cell_type": "code",
   "execution_count": 59,
   "metadata": {
    "collapsed": true,
    "jupyter": {
     "outputs_hidden": true
    },
    "tags": []
   },
   "outputs": [
    {
     "name": "stdout",
     "output_type": "stream",
     "text": [
      "[ 3.14159265  2.82743339  2.51327412  2.19911486  1.88495559  1.57079633\n",
      "  1.25663706  0.9424778   0.62831853  0.31415927  0.         -0.31415927\n",
      " -0.62831853 -0.9424778  -1.25663706 -1.57079633 -1.88495559 -2.19911486\n",
      " -2.51327412 -2.82743339 -3.14159265]\n"
     ]
    }
   ],
   "source": [
    "#4\n",
    "import numpy as np\n",
    "print(B[::-1])"
   ]
  },
  {
   "cell_type": "code",
   "execution_count": 70,
   "metadata": {
    "collapsed": true,
    "jupyter": {
     "outputs_hidden": true
    },
    "tags": []
   },
   "outputs": [
    {
     "name": "stdout",
     "output_type": "stream",
     "text": [
      "[-2.   -1.85 -1.7  -1.55 -1.4  -1.25 -1.1  -0.95 -0.8  -0.65 -0.5  -0.35\n",
      " -0.2  -0.05  0.1   0.25  0.4   0.55  0.7   0.85  1.  ]\n",
      "[4.0000e+00 3.4225e+00 2.8900e+00 2.4025e+00 1.9600e+00 1.5625e+00\n",
      " 1.2100e+00 9.0250e-01 6.4000e-01 4.2250e-01 2.5000e-01 1.2250e-01\n",
      " 4.0000e-02 2.5000e-03 1.0000e-02 6.2500e-02 1.6000e-01 3.0250e-01\n",
      " 4.9000e-01 7.2250e-01 1.0000e+00]\n",
      "[ 6.00000000e+00  5.27250000e+00  4.59000000e+00  3.95250000e+00\n",
      "  3.36000000e+00  2.81250000e+00  2.31000000e+00  1.85250000e+00\n",
      "  1.44000000e+00  1.07250000e+00  7.50000000e-01  4.72500000e-01\n",
      "  2.40000000e-01  5.25000000e-02 -9.00000000e-02 -1.87500000e-01\n",
      " -2.40000000e-01 -2.47500000e-01 -2.10000000e-01 -1.27500000e-01\n",
      " -1.77635684e-15]\n"
     ]
    }
   ],
   "source": [
    "#5\n",
    "import numpy as np\n",
    "D = np.arange(-2,1.01,0.15)\n",
    "print(D)\n",
    "#6\n",
    "D[-3]\n",
    "#7\n",
    "E = D**2\n",
    "print(E)\n",
    "#8\n",
    "print(E-D)"
   ]
  },
  {
   "cell_type": "code",
   "execution_count": 75,
   "metadata": {
    "collapsed": true,
    "jupyter": {
     "outputs_hidden": true
    },
    "tags": []
   },
   "outputs": [
    {
     "data": {
      "text/plain": [
       "array([ 0.00000000e+00,  3.14107591e-02,  6.27905195e-02,  9.41083133e-02,\n",
       "        1.25333234e-01,  1.56434465e-01,  1.87381315e-01,  2.18143241e-01,\n",
       "        2.48689887e-01,  2.78991106e-01,  3.09016994e-01,  3.38737920e-01,\n",
       "        3.68124553e-01,  3.97147891e-01,  4.25779292e-01,  4.53990500e-01,\n",
       "        4.81753674e-01,  5.09041416e-01,  5.35826795e-01,  5.62083378e-01,\n",
       "        5.87785252e-01,  6.12907054e-01,  6.37423990e-01,  6.61311865e-01,\n",
       "        6.84547106e-01,  7.07106781e-01,  7.28968627e-01,  7.50111070e-01,\n",
       "        7.70513243e-01,  7.90155012e-01,  8.09016994e-01,  8.27080574e-01,\n",
       "        8.44327926e-01,  8.60742027e-01,  8.76306680e-01,  8.91006524e-01,\n",
       "        9.04827052e-01,  9.17754626e-01,  9.29776486e-01,  9.40880769e-01,\n",
       "        9.51056516e-01,  9.60293686e-01,  9.68583161e-01,  9.75916762e-01,\n",
       "        9.82287251e-01,  9.87688341e-01,  9.92114701e-01,  9.95561965e-01,\n",
       "        9.98026728e-01,  9.99506560e-01,  1.00000000e+00,  9.99506560e-01,\n",
       "        9.98026728e-01,  9.95561965e-01,  9.92114701e-01,  9.87688341e-01,\n",
       "        9.82287251e-01,  9.75916762e-01,  9.68583161e-01,  9.60293686e-01,\n",
       "        9.51056516e-01,  9.40880769e-01,  9.29776486e-01,  9.17754626e-01,\n",
       "        9.04827052e-01,  8.91006524e-01,  8.76306680e-01,  8.60742027e-01,\n",
       "        8.44327926e-01,  8.27080574e-01,  8.09016994e-01,  7.90155012e-01,\n",
       "        7.70513243e-01,  7.50111070e-01,  7.28968627e-01,  7.07106781e-01,\n",
       "        6.84547106e-01,  6.61311865e-01,  6.37423990e-01,  6.12907054e-01,\n",
       "        5.87785252e-01,  5.62083378e-01,  5.35826795e-01,  5.09041416e-01,\n",
       "        4.81753674e-01,  4.53990500e-01,  4.25779292e-01,  3.97147891e-01,\n",
       "        3.68124553e-01,  3.38737920e-01,  3.09016994e-01,  2.78991106e-01,\n",
       "        2.48689887e-01,  2.18143241e-01,  1.87381315e-01,  1.56434465e-01,\n",
       "        1.25333234e-01,  9.41083133e-02,  6.27905195e-02,  3.14107591e-02,\n",
       "       -3.21624530e-16, -3.14107591e-02, -6.27905195e-02, -9.41083133e-02,\n",
       "       -1.25333234e-01, -1.56434465e-01, -1.87381315e-01, -2.18143241e-01,\n",
       "       -2.48689887e-01, -2.78991106e-01, -3.09016994e-01, -3.38737920e-01,\n",
       "       -3.68124553e-01, -3.97147891e-01, -4.25779292e-01, -4.53990500e-01,\n",
       "       -4.81753674e-01, -5.09041416e-01, -5.35826795e-01, -5.62083378e-01,\n",
       "       -5.87785252e-01, -6.12907054e-01, -6.37423990e-01, -6.61311865e-01,\n",
       "       -6.84547106e-01, -7.07106781e-01, -7.28968627e-01, -7.50111070e-01,\n",
       "       -7.70513243e-01, -7.90155012e-01, -8.09016994e-01, -8.27080574e-01,\n",
       "       -8.44327926e-01, -8.60742027e-01, -8.76306680e-01, -8.91006524e-01,\n",
       "       -9.04827052e-01, -9.17754626e-01, -9.29776486e-01, -9.40880769e-01,\n",
       "       -9.51056516e-01, -9.60293686e-01, -9.68583161e-01, -9.75916762e-01,\n",
       "       -9.82287251e-01, -9.87688341e-01, -9.92114701e-01, -9.95561965e-01,\n",
       "       -9.98026728e-01, -9.99506560e-01, -1.00000000e+00, -9.99506560e-01,\n",
       "       -9.98026728e-01, -9.95561965e-01, -9.92114701e-01, -9.87688341e-01,\n",
       "       -9.82287251e-01, -9.75916762e-01, -9.68583161e-01, -9.60293686e-01,\n",
       "       -9.51056516e-01, -9.40880769e-01, -9.29776486e-01, -9.17754626e-01,\n",
       "       -9.04827052e-01, -8.91006524e-01, -8.76306680e-01, -8.60742027e-01,\n",
       "       -8.44327926e-01, -8.27080574e-01, -8.09016994e-01, -7.90155012e-01,\n",
       "       -7.70513243e-01, -7.50111070e-01, -7.28968627e-01, -7.07106781e-01,\n",
       "       -6.84547106e-01, -6.61311865e-01, -6.37423990e-01, -6.12907054e-01,\n",
       "       -5.87785252e-01, -5.62083378e-01, -5.35826795e-01, -5.09041416e-01,\n",
       "       -4.81753674e-01, -4.53990500e-01, -4.25779292e-01, -3.97147891e-01,\n",
       "       -3.68124553e-01, -3.38737920e-01, -3.09016994e-01, -2.78991106e-01,\n",
       "       -2.48689887e-01, -2.18143241e-01, -1.87381315e-01, -1.56434465e-01,\n",
       "       -1.25333234e-01, -9.41083133e-02, -6.27905195e-02, -3.14107591e-02,\n",
       "       -2.44929360e-16])"
      ]
     },
     "execution_count": 75,
     "metadata": {},
     "output_type": "execute_result"
    }
   ],
   "source": [
    "#9\n",
    "import numpy as np\n",
    "x = np.linspace(0,np.pi,201)\n",
    "np.sin(2*x)"
   ]
  },
  {
   "cell_type": "code",
   "execution_count": 78,
   "metadata": {
    "tags": []
   },
   "outputs": [
    {
     "data": {
      "text/plain": [
       "array([1.60000000e+01, 1.52021222e+01, 1.44246505e+01, 1.36675849e+01,\n",
       "       1.29309254e+01, 1.22146720e+01, 1.15188246e+01, 1.08433833e+01,\n",
       "       1.01883481e+01, 9.55371901e+00, 8.93949597e+00, 8.34567901e+00,\n",
       "       7.77226814e+00, 7.21926334e+00, 6.68666463e+00, 6.17447199e+00,\n",
       "       5.68268544e+00, 5.21130497e+00, 4.76033058e+00, 4.32976227e+00,\n",
       "       3.91960004e+00, 3.52984389e+00, 3.16049383e+00, 2.81154984e+00,\n",
       "       2.48301194e+00, 2.17488011e+00, 1.88715437e+00, 1.61983471e+00,\n",
       "       1.37292113e+00, 1.14641363e+00, 9.40312213e-01, 7.54616876e-01,\n",
       "       5.89327620e-01, 4.44444444e-01, 3.19967350e-01, 2.15896337e-01,\n",
       "       1.32231405e-01, 6.89725538e-02, 2.61197837e-02, 3.67309458e-03,\n",
       "       1.63248648e-03, 1.99979594e-02, 5.87695133e-02, 1.17947148e-01,\n",
       "       1.97530864e-01, 2.97520661e-01, 4.17916539e-01, 5.58718498e-01,\n",
       "       7.19926538e-01, 9.01540659e-01, 1.10356086e+00, 1.32598714e+00,\n",
       "       1.56881951e+00, 1.83205795e+00, 2.11570248e+00, 2.41975309e+00,\n",
       "       2.74420977e+00, 3.08907254e+00, 3.45434139e+00, 3.84001632e+00,\n",
       "       4.24609734e+00, 4.67258443e+00, 5.11947760e+00, 5.58677686e+00,\n",
       "       6.07448220e+00, 6.58259361e+00, 7.11111111e+00, 7.66003469e+00,\n",
       "       8.22936435e+00, 8.81910009e+00, 9.42924191e+00, 1.00597898e+01,\n",
       "       1.07107438e+01, 1.13821039e+01, 1.20738700e+01, 1.27860422e+01,\n",
       "       1.35186205e+01, 1.42716049e+01, 1.50449954e+01, 1.58387920e+01,\n",
       "       1.66529946e+01, 1.74876033e+01, 1.83426181e+01, 1.92180390e+01,\n",
       "       2.01138659e+01, 2.10300990e+01, 2.19667381e+01, 2.29237833e+01,\n",
       "       2.39012346e+01, 2.48990919e+01, 2.59173554e+01, 2.69560249e+01,\n",
       "       2.80151005e+01, 2.90945822e+01, 3.01944700e+01, 3.13147638e+01,\n",
       "       3.24554637e+01, 3.36165697e+01, 3.47980818e+01, 3.60000000e+01])"
      ]
     },
     "execution_count": 78,
     "metadata": {},
     "output_type": "execute_result"
    }
   ],
   "source": [
    "import numpy as np\n",
    "\n",
    "def parabola(a,b,c,xmin,xmax,npoints):\n",
    "    x = np.linspace(xmin,xmax,npoints)\n",
    "    punti = a*(x**2) + b*x + c\n",
    "    return punti\n",
    "\n",
    "parabola(1,2,1,-5,5,100)"
   ]
  },
  {
   "cell_type": "markdown",
   "metadata": {},
   "source": [
    "- Come estrarre da un array gli elementi che soddisfano una condizione data. Nell'esempio gli elementi dispari. "
   ]
  },
  {
   "cell_type": "code",
   "execution_count": 88,
   "metadata": {},
   "outputs": [
    {
     "data": {
      "text/plain": [
       "array([3, 5, 7, 9])"
      ]
     },
     "execution_count": 88,
     "metadata": {},
     "output_type": "execute_result"
    }
   ],
   "source": [
    "arr = np.array([2, 3, 4, 5, 6, 7, 8, 9])\n",
    "\n",
    "arr[arr % 2 == 1]"
   ]
  },
  {
   "cell_type": "markdown",
   "metadata": {},
   "source": [
    "oppure, con più flessibilità sul modo di imporre le condizioni:"
   ]
  },
  {
   "cell_type": "code",
   "execution_count": 80,
   "metadata": {},
   "outputs": [
    {
     "data": {
      "text/plain": [
       "array([3, 5, 7, 9])"
      ]
     },
     "execution_count": 80,
     "metadata": {},
     "output_type": "execute_result"
    }
   ],
   "source": [
    "np.array([x for x in arr if x% 2 == 1])"
   ]
  },
  {
   "cell_type": "markdown",
   "metadata": {},
   "source": [
    "- Come sostituire in un array gli elementi che soddisfano una condizione data con un valore fisso."
   ]
  },
  {
   "cell_type": "code",
   "execution_count": 82,
   "metadata": {},
   "outputs": [
    {
     "data": {
      "text/plain": [
       "array([ 0, -1,  2, -1,  4, -1,  6, -1,  8, -1])"
      ]
     },
     "execution_count": 82,
     "metadata": {},
     "output_type": "execute_result"
    }
   ],
   "source": [
    "arr = np.array([0, 1, 2, 3, 4, 5, 6, 7, 8, 9])\n",
    "arr[arr % 2 == 1] = -1\n",
    "arr"
   ]
  },
  {
   "cell_type": "markdown",
   "metadata": {},
   "source": [
    "- Come ottenere lo stesso risultato senza modificare l'array iniziale. `np.where(condition,X,Y)` restituisce l'elemento di `X` se la condizione è vera e l'elemento di `Y` se la condizione è falsa."
   ]
  },
  {
   "cell_type": "code",
   "execution_count": null,
   "metadata": {},
   "outputs": [],
   "source": [
    "#help(np.where)"
   ]
  },
  {
   "cell_type": "code",
   "execution_count": 83,
   "metadata": {},
   "outputs": [
    {
     "name": "stdout",
     "output_type": "stream",
     "text": [
      "[2 3 4 5 6 7 8 9]\n"
     ]
    },
    {
     "data": {
      "text/plain": [
       "array([ 2, -1,  4, -1,  6, -1,  8, -1])"
      ]
     },
     "execution_count": 83,
     "metadata": {},
     "output_type": "execute_result"
    }
   ],
   "source": [
    "arr = np.arange(2,10)\n",
    "out = np.where(arr % 2 == 1, -1, arr)\n",
    "print(arr)\n",
    "out"
   ]
  },
  {
   "cell_type": "markdown",
   "metadata": {},
   "source": [
    "`np.where(condition)` restituisce una ntupla il cui primo elemento è l'array degli *indici* degli elementi per cui la condizione è vera."
   ]
  },
  {
   "cell_type": "code",
   "execution_count": 90,
   "metadata": {},
   "outputs": [
    {
     "data": {
      "text/plain": [
       "(array([1, 3, 5, 7], dtype=int64),)"
      ]
     },
     "execution_count": 90,
     "metadata": {},
     "output_type": "execute_result"
    }
   ],
   "source": [
    "out = np.where(arr % 2 == 1)\n",
    "out"
   ]
  },
  {
   "cell_type": "markdown",
   "metadata": {},
   "source": [
    "Per estrarre i corrispondenti elementi:"
   ]
  },
  {
   "cell_type": "code",
   "execution_count": 89,
   "metadata": {},
   "outputs": [
    {
     "data": {
      "text/plain": [
       "array([3, 5, 7, 9])"
      ]
     },
     "execution_count": 89,
     "metadata": {},
     "output_type": "execute_result"
    }
   ],
   "source": [
    "arr[out]"
   ]
  },
  {
   "cell_type": "markdown",
   "metadata": {},
   "source": [
    "Per imporre più condizioni si può utilizzare la notazione:"
   ]
  },
  {
   "cell_type": "code",
   "execution_count": 95,
   "metadata": {},
   "outputs": [
    {
     "data": {
      "text/plain": [
       "(array([1, 2, 3, 4, 5, 6], dtype=int64),)"
      ]
     },
     "execution_count": 95,
     "metadata": {},
     "output_type": "execute_result"
    }
   ],
   "source": [
    "arr = np.array([0, 1, 2, 3, 4, 5, 6, 7, 8, 9])\n",
    "np.where( (arr>=1) & (arr<+7) )"
   ]
  },
  {
   "cell_type": "markdown",
   "metadata": {},
   "source": [
    "Le parentesi tonde attorno alle condizioni sono indispensabili perchè l'operatore `&` ha precedenza più alta degli operatori di confronto. Le parentesi forzano Python a valutare le disuguaglianze prima di combinarle con `and`."
   ]
  },
  {
   "cell_type": "markdown",
   "metadata": {},
   "source": [
    "Si possono anche combinare le varie condizioni in una condizione unica con `logical_and`:"
   ]
  },
  {
   "cell_type": "code",
   "execution_count": 96,
   "metadata": {
    "collapsed": true,
    "jupyter": {
     "outputs_hidden": true
    },
    "tags": []
   },
   "outputs": [
    {
     "ename": "NameError",
     "evalue": "name 'a' is not defined",
     "output_type": "error",
     "traceback": [
      "\u001b[1;31m---------------------------------------------------------------------------\u001b[0m",
      "\u001b[1;31mNameError\u001b[0m                                 Traceback (most recent call last)",
      "Cell \u001b[1;32mIn[96], line 1\u001b[0m\n\u001b[1;32m----> 1\u001b[0m index \u001b[38;5;241m=\u001b[39m np\u001b[38;5;241m.\u001b[39mwhere(np\u001b[38;5;241m.\u001b[39mlogical_and(a\u001b[38;5;241m>\u001b[39m\u001b[38;5;241m=\u001b[39m\u001b[38;5;241m5\u001b[39m, a\u001b[38;5;241m<\u001b[39m\u001b[38;5;241m=\u001b[39m\u001b[38;5;241m10\u001b[39m))\n\u001b[0;32m      2\u001b[0m a[index]\n",
      "\u001b[1;31mNameError\u001b[0m: name 'a' is not defined"
     ]
    }
   ],
   "source": [
    "index = np.where(np.logical_and(a>=5, a<=10))\n",
    "a[index]"
   ]
  },
  {
   "cell_type": "markdown",
   "metadata": {},
   "source": [
    "- Come estrarre gli elementi \"unici\" e il numero di volte in cui compaiono in un array:"
   ]
  },
  {
   "cell_type": "code",
   "execution_count": 97,
   "metadata": {},
   "outputs": [
    {
     "name": "stdout",
     "output_type": "stream",
     "text": [
      "Unique items :  [1 3 5 7]\n"
     ]
    }
   ],
   "source": [
    "uniqs, counts = np.unique(out, return_counts=True)\n",
    "print(\"Unique items : \", uniqs)"
   ]
  },
  {
   "cell_type": "code",
   "execution_count": 98,
   "metadata": {},
   "outputs": [
    {
     "data": {
      "text/plain": [
       "array([1, 3, 5, 7], dtype=int64)"
      ]
     },
     "execution_count": 98,
     "metadata": {},
     "output_type": "execute_result"
    }
   ],
   "source": [
    "uniqs2 = np.unique(out)\n",
    "uniqs2"
   ]
  },
  {
   "cell_type": "code",
   "execution_count": null,
   "metadata": {},
   "outputs": [],
   "source": [
    "#help(np.unique)"
   ]
  },
  {
   "cell_type": "markdown",
   "metadata": {},
   "source": [
    "- Come selezionare gli elementi comuni fra due array."
   ]
  },
  {
   "cell_type": "code",
   "execution_count": 99,
   "metadata": {},
   "outputs": [
    {
     "data": {
      "text/plain": [
       "array([2, 4])"
      ]
     },
     "execution_count": 99,
     "metadata": {},
     "output_type": "execute_result"
    }
   ],
   "source": [
    "a = np.array([1,2,3,2,3,4,3,4,5,6])\n",
    "b = np.array([7,2,10,2,7,4,9,4,9,8])\n",
    "\n",
    "np.intersect1d(a,b)"
   ]
  },
  {
   "cell_type": "markdown",
   "metadata": {},
   "source": [
    "- Come eliminare da un array `a` tutti gli elementi che compaiono anche in `b`."
   ]
  },
  {
   "cell_type": "code",
   "execution_count": 100,
   "metadata": {},
   "outputs": [
    {
     "data": {
      "text/plain": [
       "array([1, 2, 3, 4])"
      ]
     },
     "execution_count": 100,
     "metadata": {},
     "output_type": "execute_result"
    }
   ],
   "source": [
    "a = np.array([1,2,3,4,5])\n",
    "b = np.array([5,6,7,8,9])\n",
    "\n",
    "np.setdiff1d(a,b)"
   ]
  },
  {
   "cell_type": "code",
   "execution_count": 101,
   "metadata": {},
   "outputs": [
    {
     "data": {
      "text/plain": [
       "(array([1, 3, 5, 7], dtype=int64),)"
      ]
     },
     "execution_count": 101,
     "metadata": {},
     "output_type": "execute_result"
    }
   ],
   "source": [
    "a = np.array([1,2,3,2,3,4,3,4,5,6])\n",
    "b = np.array([7,2,10,2,7,4,9,4,9,8])\n",
    "\n",
    "np.where(a == b)"
   ]
  },
  {
   "cell_type": "code",
   "execution_count": 102,
   "metadata": {},
   "outputs": [
    {
     "data": {
      "text/plain": [
       "array([False,  True, False,  True, False,  True, False,  True, False,\n",
       "       False])"
      ]
     },
     "execution_count": 102,
     "metadata": {},
     "output_type": "execute_result"
    }
   ],
   "source": [
    "np.asarray(a == b)"
   ]
  },
  {
   "cell_type": "code",
   "execution_count": 103,
   "metadata": {},
   "outputs": [
    {
     "data": {
      "text/plain": [
       "(array([1, 3, 5, 7], dtype=int64),)"
      ]
     },
     "execution_count": 103,
     "metadata": {},
     "output_type": "execute_result"
    }
   ],
   "source": [
    "np.asarray(a == b).nonzero()     # restituisce gli indici degli elementi non nulli cioè di quelli non False"
   ]
  },
  {
   "cell_type": "markdown",
   "metadata": {},
   "source": [
    "- Come ordinare un array.\n",
    "\n",
    "Python ha il metodo `sort` e la funzione `sorted` per ordinare liste. In numpy si può usare la funzione `numpy.sort` che restituisce una copia ordinata dell'array passato in input."
   ]
  },
  {
   "cell_type": "code",
   "execution_count": 104,
   "metadata": {},
   "outputs": [
    {
     "name": "stdout",
     "output_type": "stream",
     "text": [
      "[1 2 3]\n"
     ]
    }
   ],
   "source": [
    "x = np.array([1,3,2])\n",
    "y = np.sort(x)\n",
    "print(y)"
   ]
  },
  {
   "cell_type": "markdown",
   "metadata": {},
   "source": [
    "Per ordinare un array in ordine decrescente una possibilità è:"
   ]
  },
  {
   "cell_type": "code",
   "execution_count": 105,
   "metadata": {},
   "outputs": [
    {
     "name": "stdout",
     "output_type": "stream",
     "text": [
      "[3 2 1]\n"
     ]
    }
   ],
   "source": [
    "y1 = np.sort(x)[::-1]\n",
    "print(y1)"
   ]
  },
  {
   "cell_type": "markdown",
   "metadata": {},
   "source": [
    "### 7.2.3 Convertire da  array a lista o tuple\n",
    "\n",
    "Per convertire un array in una lista o una si possono usare le funzioni python standard <span>`list(s0)`</span> e <span>`tuple(s0)`</span> che accettano una sequenza <span>`s0`</span> come input e ritornano rispettivamente  una lista e una ntupla:"
   ]
  },
  {
   "cell_type": "code",
   "execution_count": 106,
   "metadata": {},
   "outputs": [
    {
     "data": {
      "text/plain": [
       "array([ 1,  4, 10])"
      ]
     },
     "execution_count": 106,
     "metadata": {},
     "output_type": "execute_result"
    }
   ],
   "source": [
    "a = np.array([1, 4, 10])\n",
    "a"
   ]
  },
  {
   "cell_type": "code",
   "execution_count": 107,
   "metadata": {},
   "outputs": [
    {
     "data": {
      "text/plain": [
       "[1, 4, 10]"
      ]
     },
     "execution_count": 107,
     "metadata": {},
     "output_type": "execute_result"
    }
   ],
   "source": [
    "list(a)"
   ]
  },
  {
   "cell_type": "code",
   "execution_count": 109,
   "metadata": {},
   "outputs": [
    {
     "data": {
      "text/plain": [
       "(1, 4, 10)"
      ]
     },
     "execution_count": 109,
     "metadata": {},
     "output_type": "execute_result"
    }
   ],
   "source": [
    "tuple(a)"
   ]
  },
  {
   "cell_type": "markdown",
   "metadata": {},
   "source": [
    "<div style = \"width:95%; padding:5px 10px 5px; border-style:solid; border-width:0px 0px 0px 10px; border-color:#b8d0d0; margin:20px 0px 10px 10px\">\n",
    "    <h4> Imparare Facendo</h4>\n",
    "    \n",
    "<OL>\n",
    "<LI>Dall'array A = np.arange(20, 101) estrarre l'array dei multipli di 13.\n",
    "<LI>Dall'array B = np.cos(np.linspace(0,np.pi,100)) estarre gli elementi di valore compreso fra -0.1 e 0.3.\n",
    "<LI>Dall'array C = np.arange(-4., 2.,0.3) estrarre gli elementi il cui quadrato sia compreso fra 1 e 4.\n",
    "<LI>Dall'array D = np.array(['a','b','a','e','e','a']) estrarre gli elementi unici e le corrispondenti molteplicità.\n",
    "<LI>Estrate gli elementi comuni fra gli array E = np.arange(2.,10.,0.2) e F = np.arange(-1.,7.,0.4).\n",
    "</OL>\n",
    "</div>"
   ]
  },
  {
   "cell_type": "code",
   "execution_count": 125,
   "metadata": {
    "tags": []
   },
   "outputs": [
    {
     "name": "stdout",
     "output_type": "stream",
     "text": [
      "[26 39 52 65 78 91]\n"
     ]
    }
   ],
   "source": [
    "A = np.arange(20, 101)\n",
    "a = np.array([i for i in A if i%13==0])\n",
    "#  -->   A[A%13==0]\n",
    "print(a)"
   ]
  },
  {
   "cell_type": "code",
   "execution_count": 133,
   "metadata": {
    "tags": []
   },
   "outputs": [
    {
     "data": {
      "text/plain": [
       "array([ 0.29692038,  0.26647381,  0.23575894,  0.20480667,  0.17364818,\n",
       "        0.14231484,  0.1108382 ,  0.07924996,  0.04758192,  0.01586596,\n",
       "       -0.01586596, -0.04758192, -0.07924996])"
      ]
     },
     "execution_count": 133,
     "metadata": {},
     "output_type": "execute_result"
    }
   ],
   "source": [
    "B = np.cos(np.linspace(0,np.pi,100))\n",
    "B[(-0.1<=B) & (B<=0.3)]\n",
    "#  a = np.array([i for i in B if i>=-0.1 and i<=0.3])\n",
    "#  print(a)"
   ]
  },
  {
   "cell_type": "code",
   "execution_count": 137,
   "metadata": {
    "tags": []
   },
   "outputs": [
    {
     "data": {
      "text/plain": [
       "array([-1.9, -1.6, -1.3, -1. ,  1.1,  1.4,  1.7])"
      ]
     },
     "execution_count": 137,
     "metadata": {},
     "output_type": "execute_result"
    }
   ],
   "source": [
    "C = np.arange(-4., 2.,0.3)\n",
    "C[(1<=C**2) & (C**2<=4)]\n",
    "#  a = np.array([i for i in C if i**2>=1 and i**2<=4])\n",
    "#  print(a)"
   ]
  },
  {
   "cell_type": "code",
   "execution_count": 141,
   "metadata": {
    "tags": []
   },
   "outputs": [
    {
     "data": {
      "text/plain": [
       "(array(['a', 'b', 'e'], dtype='<U1'), array([3, 1, 2], dtype=int64))"
      ]
     },
     "execution_count": 141,
     "metadata": {},
     "output_type": "execute_result"
    }
   ],
   "source": [
    "D = np.array(['a','b','a','e','e','a'])\n",
    "np.unique(D, return_counts=True)"
   ]
  },
  {
   "cell_type": "code",
   "execution_count": 147,
   "metadata": {
    "tags": []
   },
   "outputs": [
    {
     "name": "stdout",
     "output_type": "stream",
     "text": [
      "[2.2]\n"
     ]
    }
   ],
   "source": [
    "E = np.arange(2.,10.,0.2)\n",
    "F = np.arange(-1.,7.,0.4)\n",
    "a = np.intersect1d(E,F)\n",
    "print(a)"
   ]
  },
  {
   "cell_type": "markdown",
   "metadata": {},
   "source": [
    "<div style= 'padding:20px 20px 0px 150px;'>\n",
    "    <img src=\"../Humour/hip-hip-array.jpg\" width=\"500\" align=\"center\"/>\n",
    "</div>"
   ]
  },
  {
   "cell_type": "markdown",
   "metadata": {},
   "source": [
    "### 7.2.4  %timeit per valutare il tempo di esecuzione di un comando\n",
    "È spesso utile misurare il tempo necessario per eseguire dei comandi. Jupyter fornisce la funzione %timeit che possiamo utilizzare per mostrare la maggiore velocità delle operazioni di Numpy su array rispetto alle operazioni di math su liste."
   ]
  },
  {
   "cell_type": "code",
   "execution_count": 110,
   "metadata": {},
   "outputs": [],
   "source": [
    "def forloopmethod(N):\n",
    "    a1 = [0]*N\n",
    "    for i in range(N):\n",
    "        a1[i] = float(i)**2  # passare a numeri reali rende l'operazione più veloce \n",
    "    return sum(a1)\n",
    "\n",
    "def numpymethod(N):\n",
    "    a3 = np.sum(np.arange(0, N)**2, dtype='d')  # dtype = 'd' vuol dire double precision\n",
    "    return a3"
   ]
  },
  {
   "cell_type": "code",
   "execution_count": 111,
   "metadata": {},
   "outputs": [
    {
     "name": "stdout",
     "output_type": "stream",
     "text": [
      "206 ms ± 4.2 ms per loop (mean ± std. dev. of 7 runs, 1 loop each)\n",
      "3.2 ms ± 145 µs per loop (mean ± std. dev. of 7 runs, 100 loops each)\n"
     ]
    }
   ],
   "source": [
    "N = 1000000\n",
    "\n",
    "%timeit forloopmethod(N)\n",
    "%timeit numpymethod(N)"
   ]
  },
  {
   "cell_type": "markdown",
   "metadata": {},
   "source": [
    "###  7.2.5 Matrici (2d-arrays)\n",
    "\n",
    "Ecco due modi per creare un array a due dimensioni:\n",
    "\n",
    "-   Convertendo una lista di liste (o tuples) in un array (Ciascuna sottolista corrisponde a una riga della matrice):"
   ]
  },
  {
   "cell_type": "code",
   "execution_count": 3,
   "metadata": {
    "tags": []
   },
   "outputs": [
    {
     "data": {
      "text/plain": [
       "array([[1, 2, 3],\n",
       "       [4, 5, 6]])"
      ]
     },
     "execution_count": 3,
     "metadata": {},
     "output_type": "execute_result"
    }
   ],
   "source": [
    "x = np.array([[1, 2, 3], [4, 5, 6]])\n",
    "x"
   ]
  },
  {
   "cell_type": "markdown",
   "metadata": {},
   "source": [
    "-  Usare il metodo  <span>`zeros`</span> (<span>`ones`</span>) per creare una matrice di zeri (uno). Un esempio con 5 righe e 4 colonne:"
   ]
  },
  {
   "cell_type": "code",
   "execution_count": 4,
   "metadata": {
    "tags": []
   },
   "outputs": [
    {
     "data": {
      "text/plain": [
       "array([[0., 0., 0., 0.],\n",
       "       [0., 0., 0., 0.],\n",
       "       [0., 0., 0., 0.],\n",
       "       [0., 0., 0., 0.],\n",
       "       [0., 0., 0., 0.]])"
      ]
     },
     "execution_count": 4,
     "metadata": {},
     "output_type": "execute_result"
    }
   ],
   "source": [
    "x = np.zeros((5, 4))\n",
    "x"
   ]
  },
  {
   "cell_type": "markdown",
   "metadata": {},
   "source": [
    "La \"forma\" di una matrice può essere trovata con il comando `shape` (in questo caso ci sono 2 righe e 3 colonne):"
   ]
  },
  {
   "cell_type": "code",
   "execution_count": 5,
   "metadata": {
    "tags": []
   },
   "outputs": [
    {
     "name": "stdout",
     "output_type": "stream",
     "text": [
      "[[1 2 3]\n",
      " [4 5 6]]\n"
     ]
    },
    {
     "data": {
      "text/plain": [
       "(2, 3)"
      ]
     },
     "execution_count": 5,
     "metadata": {},
     "output_type": "execute_result"
    }
   ],
   "source": [
    "x=np.array([[1, 2, 3], [4, 5, 6]])\n",
    "print(x)\n",
    "x.shape"
   ]
  },
  {
   "cell_type": "markdown",
   "metadata": {},
   "source": [
    "La \"forma\" di una matrice può essere modificata con il comando/metodo `reshape`:"
   ]
  },
  {
   "cell_type": "code",
   "execution_count": 8,
   "metadata": {
    "tags": []
   },
   "outputs": [
    {
     "name": "stdout",
     "output_type": "stream",
     "text": [
      "[[0 1]\n",
      " [2 3]\n",
      " [4 5]]\n"
     ]
    }
   ],
   "source": [
    "a = np.arange(6).reshape((3, 2)) # metodo\n",
    "print(a)"
   ]
  },
  {
   "cell_type": "code",
   "execution_count": 7,
   "metadata": {
    "tags": []
   },
   "outputs": [
    {
     "data": {
      "text/plain": [
       "array([[0, 1, 2],\n",
       "       [3, 4, 5]])"
      ]
     },
     "execution_count": 7,
     "metadata": {},
     "output_type": "execute_result"
    }
   ],
   "source": [
    "np.reshape(a, (2, 3)) # funzione"
   ]
  },
  {
   "cell_type": "markdown",
   "metadata": {},
   "source": [
    "I singoli elementi possono essere recuperati con la sintassi seguente:"
   ]
  },
  {
   "cell_type": "code",
   "execution_count": 9,
   "metadata": {
    "tags": []
   },
   "outputs": [
    {
     "data": {
      "text/plain": [
       "1"
      ]
     },
     "execution_count": 9,
     "metadata": {},
     "output_type": "execute_result"
    }
   ],
   "source": [
    "x=np.array([[1, 2, 3], [4, 5, 6],[7,8,9]])\n",
    "x[0, 0]"
   ]
  },
  {
   "cell_type": "code",
   "execution_count": 10,
   "metadata": {
    "tags": []
   },
   "outputs": [
    {
     "data": {
      "text/plain": [
       "2"
      ]
     },
     "execution_count": 10,
     "metadata": {},
     "output_type": "execute_result"
    }
   ],
   "source": [
    "x[0, 1]"
   ]
  },
  {
   "cell_type": "code",
   "execution_count": 11,
   "metadata": {
    "tags": []
   },
   "outputs": [
    {
     "data": {
      "text/plain": [
       "3"
      ]
     },
     "execution_count": 11,
     "metadata": {},
     "output_type": "execute_result"
    }
   ],
   "source": [
    "x[0, 2]"
   ]
  },
  {
   "cell_type": "code",
   "execution_count": 12,
   "metadata": {
    "tags": []
   },
   "outputs": [
    {
     "data": {
      "text/plain": [
       "4"
      ]
     },
     "execution_count": 12,
     "metadata": {},
     "output_type": "execute_result"
    }
   ],
   "source": [
    "x[1, 0]"
   ]
  },
  {
   "cell_type": "markdown",
   "metadata": {},
   "source": [
    "Per recuperare una riga o una colonna:"
   ]
  },
  {
   "cell_type": "code",
   "execution_count": 13,
   "metadata": {
    "tags": []
   },
   "outputs": [
    {
     "data": {
      "text/plain": [
       "array([1, 4, 7])"
      ]
     },
     "execution_count": 13,
     "metadata": {},
     "output_type": "execute_result"
    }
   ],
   "source": [
    "x[:, 0]"
   ]
  },
  {
   "cell_type": "code",
   "execution_count": null,
   "metadata": {},
   "outputs": [],
   "source": [
    "x[0,:]"
   ]
  },
  {
   "cell_type": "markdown",
   "metadata": {},
   "source": [
    "Per recuperare una lista di righe o colonne:"
   ]
  },
  {
   "cell_type": "code",
   "execution_count": 16,
   "metadata": {
    "tags": []
   },
   "outputs": [
    {
     "data": {
      "text/plain": [
       "array([[1, 2, 3],\n",
       "       [4, 5, 6]])"
      ]
     },
     "execution_count": 16,
     "metadata": {},
     "output_type": "execute_result"
    }
   ],
   "source": [
    "x[[0,1],:]"
   ]
  },
  {
   "cell_type": "code",
   "execution_count": 17,
   "metadata": {
    "tags": []
   },
   "outputs": [
    {
     "data": {
      "text/plain": [
       "array([[4, 5, 6],\n",
       "       [7, 8, 9]])"
      ]
     },
     "execution_count": 17,
     "metadata": {},
     "output_type": "execute_result"
    }
   ],
   "source": [
    "x[np.arange(1,3),:]"
   ]
  },
  {
   "cell_type": "markdown",
   "metadata": {},
   "source": [
    "La stessa sintassi si utilizza per modificare un elemento della matrice:"
   ]
  },
  {
   "cell_type": "code",
   "execution_count": 18,
   "metadata": {
    "tags": []
   },
   "outputs": [
    {
     "data": {
      "text/plain": [
       "array([[  1,   2,   3],\n",
       "       [157,   5,   6],\n",
       "       [  7,   8,   9]])"
      ]
     },
     "execution_count": 18,
     "metadata": {},
     "output_type": "execute_result"
    }
   ],
   "source": [
    "x[1,0] = 157\n",
    "x"
   ]
  },
  {
   "cell_type": "markdown",
   "metadata": {},
   "source": [
    "- Un esempio su come sostituire elementi multipli in una matrice<BR>\n",
    "Supponiamo di voler creare la matrice:\n",
    " $$A = \\begin{bmatrix} -2 & 0 & 0 \\\\ 0 & 5 & 0 \\\\ 0 & 0 & 1 \\end{bmatrix}$$\n",
    " Un metodo è il seguente:  "
   ]
  },
  {
   "cell_type": "code",
   "execution_count": 21,
   "metadata": {
    "tags": []
   },
   "outputs": [
    {
     "name": "stdout",
     "output_type": "stream",
     "text": [
      "[[0. 0. 0.]\n",
      " [0. 0. 0.]\n",
      " [0. 0. 0.]]\n"
     ]
    },
    {
     "data": {
      "text/plain": [
       "array([[-2.,  0.,  0.],\n",
       "       [ 0.,  5.,  0.],\n",
       "       [ 0.,  0.,  1.]])"
      ]
     },
     "execution_count": 21,
     "metadata": {},
     "output_type": "execute_result"
    }
   ],
   "source": [
    "A = np.zeros((3,3))\n",
    "print(A)\n",
    "vec = np.array([-2,5,1])\n",
    "indices = np.array([0,1,2])\n",
    "A[indices,indices] = vec\n",
    "A"
   ]
  },
  {
   "cell_type": "markdown",
   "metadata": {},
   "source": [
    "Un esempio che utilizza due array diversi per gli indici sulle righe e gli indici sulle colonne:"
   ]
  },
  {
   "cell_type": "code",
   "execution_count": 22,
   "metadata": {
    "tags": []
   },
   "outputs": [
    {
     "data": {
      "text/plain": [
       "array([[0., 5., 0., 0.],\n",
       "       [0., 0., 0., 0.],\n",
       "       [0., 0., 0., 1.],\n",
       "       [0., 0., 0., 0.]])"
      ]
     },
     "execution_count": 22,
     "metadata": {},
     "output_type": "execute_result"
    }
   ],
   "source": [
    "A = np.zeros((4,4))\n",
    "ind_row = np.array([0,2])\n",
    "ind_col = np.array([1,3])\n",
    "vec1  = np.array([5,1])\n",
    "A[ind_row,ind_col] = vec1\n",
    "A"
   ]
  },
  {
   "cell_type": "markdown",
   "metadata": {},
   "source": [
    "<div style = \"width:95%; padding:5px 10px 5px; border-style:solid; border-width:0px 0px 0px 10px; border-color:#b8d0d0; margin:20px 0px 10px 10px\">\n",
    "    <h4> Imparare Facendo</h4>\n",
    "    \n",
    "<OL>\n",
    "<LI>Costruite la matrice\n",
    "    $$\n",
    "A = \\left( \\begin{matrix}\n",
    "1 & 2  \\\\\n",
    "3 & 4  \\\\ \n",
    "\\end{matrix} \\right).\n",
    "$$\n",
    "Estrate da $A$, in forma di array, la prima colonna, la seconda, la prima riga, la seconda.\n",
    "<LI>Create una matrice A con 4 righe e due colonne i cui elementi siano uguali a -2.\n",
    "<LI>In A sostituite tutti gli elementi della seconda riga con 33.\n",
    "<LI>Create un array B di numeri interi fra 1 e 18. Trasformate B in un array di <b>shape</b>  (9,2), (2,9), (6,3).<BR>\n",
    "    Perchè non è possibile trasformare A in un array di <b>shape</b> (5,4)?\n",
    "</OL>\n",
    "</div>"
   ]
  },
  {
   "cell_type": "code",
   "execution_count": 46,
   "metadata": {
    "collapsed": true,
    "jupyter": {
     "outputs_hidden": true
    },
    "tags": []
   },
   "outputs": [
    {
     "name": "stdout",
     "output_type": "stream",
     "text": [
      "[[1 2]\n",
      " [3 4]] \n",
      "\n",
      "[[-2. -2.]\n",
      " [33. 33.]\n",
      " [-2. -2.]\n",
      " [-2. -2.]] \n",
      "\n",
      "[ 1  2  3  4  5  6  7  8  9 10 11 12 13 14 15 16 17 18] \n",
      "\n",
      "[[ 1  2]\n",
      " [ 3  4]\n",
      " [ 5  6]\n",
      " [ 7  8]\n",
      " [ 9 10]\n",
      " [11 12]\n",
      " [13 14]\n",
      " [15 16]\n",
      " [17 18]] \n",
      "\n",
      "[[ 1  2  3  4  5  6  7  8  9]\n",
      " [10 11 12 13 14 15 16 17 18]] \n",
      "\n",
      "[[ 1  2  3]\n",
      " [ 4  5  6]\n",
      " [ 7  8  9]\n",
      " [10 11 12]\n",
      " [13 14 15]\n",
      " [16 17 18]] \n",
      "\n"
     ]
    }
   ],
   "source": [
    "A = np.array([[1,2],[3,4]])\n",
    "print(A,\"\\n\")\n",
    "\n",
    "\"\"\"c1 = np.array(A[:,0])\n",
    "print(c1)\n",
    "c2 = np.array(A[:,1])\n",
    "print(c2)\n",
    "r1 = np.array(A[0,:])\n",
    "print(r1)\n",
    "r2 = np.array(A[1,:])\n",
    "print(r2)\"\"\"\n",
    "\n",
    "D = np.ones((4,2))*(-2)\n",
    "D[1,:]=33\n",
    "print(D,\"\\n\")\n",
    "\n",
    "B = np.arange(1,19)\n",
    "print(B,\"\\n\")\n",
    "\n",
    "print(B.reshape(9,2),\"\\n\")\n",
    "print(B.reshape(2,9),\"\\n\")\n",
    "print(B.reshape(6,3),\"\\n\")"
   ]
  },
  {
   "cell_type": "markdown",
   "metadata": {},
   "source": [
    "### 7.2.6 Operazioni standard in Algebra Lineare\n",
    "\n",
    "#### Vettori\n",
    "\n",
    "Prodotto interno (scalare), esterno, vettoriale"
   ]
  },
  {
   "cell_type": "code",
   "execution_count": 47,
   "metadata": {
    "tags": []
   },
   "outputs": [
    {
     "name": "stdout",
     "output_type": "stream",
     "text": [
      "Matrices and vectors.\n",
      "x:\n",
      "[1. 4. 0.]\n",
      "y:\n",
      "[2. 2. 1.]\n"
     ]
    }
   ],
   "source": [
    "x = np.array([1, 4, 0], float)\n",
    "y = np.array([2, 2, 1], float)\n",
    "print(\"Matrices and vectors.\")\n",
    "print(\"x:\")\n",
    "print(x)\n",
    "print(\"y:\")\n",
    "print(y)"
   ]
  },
  {
   "cell_type": "code",
   "execution_count": 48,
   "metadata": {
    "tags": []
   },
   "outputs": [
    {
     "name": "stdout",
     "output_type": "stream",
     "text": [
      "Inner product of x and y:\n",
      "10.0\n"
     ]
    }
   ],
   "source": [
    "print(\"Inner product of x and y:\")   #prodotto scalare \n",
    "print(np.inner(x, y))"
   ]
  },
  {
   "cell_type": "code",
   "execution_count": 49,
   "metadata": {
    "tags": []
   },
   "outputs": [
    {
     "name": "stdout",
     "output_type": "stream",
     "text": [
      "Outer product of x and y:\n",
      "[[2. 2. 1.]\n",
      " [8. 8. 4.]\n",
      " [0. 0. 0.]]\n"
     ]
    }
   ],
   "source": [
    "print(\"Outer product of x and y:\")   #prodotto diadico o prodotto esterno\n",
    "print(np.outer(x, y))"
   ]
  },
  {
   "cell_type": "code",
   "execution_count": 50,
   "metadata": {
    "tags": []
   },
   "outputs": [
    {
     "name": "stdout",
     "output_type": "stream",
     "text": [
      "Cross product of x and y:\n",
      "[ 4. -1. -6.]\n"
     ]
    }
   ],
   "source": [
    "print(\"Cross product of x and y:\")  #prodotto vettoriale \n",
    "print(np.cross(x, y))"
   ]
  },
  {
   "cell_type": "markdown",
   "metadata": {},
   "source": [
    "#### Moltiplicazione fra matrici\n",
    "\n",
    "Due arrays possono essere moltiplicato nel senso usuale dell'algebra lineare usando <span>`numpy.dot`</span>. Ecco un esempio:"
   ]
  },
  {
   "cell_type": "code",
   "execution_count": 55,
   "metadata": {
    "tags": []
   },
   "outputs": [
    {
     "name": "stdout",
     "output_type": "stream",
     "text": [
      "[[0.60547479 0.14575874 0.34067435 0.04549514 0.51769689]\n",
      " [0.19660763 0.36476761 0.19773516 0.56613179 0.2346889 ]\n",
      " [0.09204585 0.74172484 0.37549948 0.39996047 0.25386305]\n",
      " [0.22100613 0.459931   0.8212802  0.06146403 0.11948862]\n",
      " [0.8224886  0.25243151 0.69897292 0.81823678 0.6720822 ]]\n"
     ]
    }
   ],
   "source": [
    "import numpy as np\n",
    "import numpy.random       \n",
    "A = numpy.random.rand(5, 5)    # genera matrice random 5 by 5 \n",
    "x = numpy.random.rand(5)       # genera un vettore di 5 elementi\n",
    "print(A)"
   ]
  },
  {
   "cell_type": "code",
   "execution_count": 56,
   "metadata": {
    "tags": []
   },
   "outputs": [
    {
     "name": "stdout",
     "output_type": "stream",
     "text": [
      "[0.45935032 0.55156443 0.80023576 0.23330221 0.56291725]\n"
     ]
    }
   ],
   "source": [
    "print(x)"
   ]
  },
  {
   "cell_type": "code",
   "execution_count": 61,
   "metadata": {
    "tags": []
   },
   "outputs": [
    {
     "name": "stdout",
     "output_type": "stream",
     "text": [
      "[0.93317481 0.71392959 0.98809399 1.09402051 1.64560888]\n"
     ]
    }
   ],
   "source": [
    "b=np.dot(A, x)                  # multiplica la matrice A per il vettore x \n",
    "print(b)"
   ]
  },
  {
   "cell_type": "markdown",
   "metadata": {},
   "source": [
    "#### Risolvere un sistema di  equazioni lineari\n",
    "\n",
    "Per risolvere un sistema di  equazioni lineari `A*x = b`, dato in forma matriciale (cioè `A` è una matrice e `x` e `b` sono vettori, con `A` e `b` noti), possiamo usare la libreria di algebra lineare <span>`linalg`</span> di <span>`numpy`</span>:"
   ]
  },
  {
   "cell_type": "code",
   "execution_count": 62,
   "metadata": {
    "tags": []
   },
   "outputs": [
    {
     "data": {
      "text/plain": [
       "array([0.45935032, 0.55156443, 0.80023576, 0.23330221, 0.56291725])"
      ]
     },
     "execution_count": 62,
     "metadata": {},
     "output_type": "execute_result"
    }
   ],
   "source": [
    "import numpy.linalg as LA\n",
    "x = LA.solve(A, b)\n",
    "x"
   ]
  },
  {
   "cell_type": "markdown",
   "metadata": {},
   "source": [
    "check:"
   ]
  },
  {
   "cell_type": "code",
   "execution_count": 63,
   "metadata": {
    "tags": []
   },
   "outputs": [
    {
     "name": "stdout",
     "output_type": "stream",
     "text": [
      "[0.93317481 0.71392959 0.98809399 1.09402051 1.64560888]\n",
      "[0.93317481 0.71392959 0.98809399 1.09402051 1.64560888]\n"
     ]
    }
   ],
   "source": [
    "print(np.dot(A,x))\n",
    "print(b)"
   ]
  },
  {
   "cell_type": "markdown",
   "metadata": {},
   "source": [
    "#### Determinante e traccia"
   ]
  },
  {
   "cell_type": "code",
   "execution_count": 64,
   "metadata": {
    "tags": []
   },
   "outputs": [],
   "source": [
    "X = np.array([[1, 2], [4, 5]])"
   ]
  },
  {
   "cell_type": "code",
   "execution_count": 65,
   "metadata": {
    "tags": []
   },
   "outputs": [
    {
     "data": {
      "text/plain": [
       "-2.9999999999999996"
      ]
     },
     "execution_count": 65,
     "metadata": {},
     "output_type": "execute_result"
    }
   ],
   "source": [
    "LA.det(X)"
   ]
  },
  {
   "cell_type": "code",
   "execution_count": 66,
   "metadata": {
    "tags": []
   },
   "outputs": [
    {
     "data": {
      "text/plain": [
       "6"
      ]
     },
     "execution_count": 66,
     "metadata": {},
     "output_type": "execute_result"
    }
   ],
   "source": [
    "np.trace(X)"
   ]
  },
  {
   "cell_type": "code",
   "execution_count": null,
   "metadata": {},
   "outputs": [],
   "source": [
    "#help(np.linalg)"
   ]
  },
  {
   "cell_type": "markdown",
   "metadata": {},
   "source": [
    "#### Matrice inversa e trasposta"
   ]
  },
  {
   "cell_type": "code",
   "execution_count": 67,
   "metadata": {
    "tags": []
   },
   "outputs": [
    {
     "name": "stdout",
     "output_type": "stream",
     "text": [
      "[[-1.66666667  0.66666667]\n",
      " [ 1.33333333 -0.33333333]]\n"
     ]
    },
    {
     "data": {
      "text/plain": [
       "array([[1., 0.],\n",
       "       [0., 1.]])"
      ]
     },
     "execution_count": 67,
     "metadata": {},
     "output_type": "execute_result"
    }
   ],
   "source": [
    "X = np.array([[1, 2], [4, 5]])\n",
    "Xinv = LA.inv(X)\n",
    "print(Xinv)\n",
    "np.dot(X,Xinv)"
   ]
  },
  {
   "cell_type": "code",
   "execution_count": 68,
   "metadata": {
    "tags": []
   },
   "outputs": [
    {
     "name": "stdout",
     "output_type": "stream",
     "text": [
      "[[1 4]\n",
      " [2 5]]\n"
     ]
    }
   ],
   "source": [
    "Xt = np.transpose(X)\n",
    "print(Xt)"
   ]
  },
  {
   "cell_type": "markdown",
   "metadata": {},
   "source": [
    "#### Calcolare autovettori e autovalori (eigenvector e eigenvalue)\n",
    "\n",
    "Ricordiamo che data una matrice $M$, il vettore non nullo $v_i$ è un autovettore di $M$ e lo scalare $\\lambda_i$\n",
    "è il corrispondente autovalore se:\n",
    "$$ M\\,v_i = \\lambda_i \\, v_i.$$\n",
    "Ecco un piccolo esempio che calcola gli autovettori e autovalori di una matrice con il comando <span>`eig`</span>:"
   ]
  },
  {
   "cell_type": "code",
   "execution_count": 69,
   "metadata": {
    "tags": []
   },
   "outputs": [],
   "source": [
    "import numpy.linalg as LA\n",
    "import numpy as np\n",
    "\n",
    "R = np.array([[1,2,3], [1,0,1], [0,1,2]])"
   ]
  },
  {
   "cell_type": "code",
   "execution_count": 70,
   "metadata": {
    "tags": []
   },
   "outputs": [
    {
     "data": {
      "text/plain": [
       "-2.0"
      ]
     },
     "execution_count": 70,
     "metadata": {},
     "output_type": "execute_result"
    }
   ],
   "source": [
    "LA.det(R)"
   ]
  },
  {
   "cell_type": "code",
   "execution_count": 71,
   "metadata": {
    "tags": []
   },
   "outputs": [],
   "source": [
    "evalues, evectors = LA.eig(R)"
   ]
  },
  {
   "cell_type": "code",
   "execution_count": 72,
   "metadata": {
    "tags": []
   },
   "outputs": [
    {
     "name": "stdout",
     "output_type": "stream",
     "text": [
      "[-0.86080585  0.74589831  3.11490754]\n"
     ]
    }
   ],
   "source": [
    "print(evalues)"
   ]
  },
  {
   "cell_type": "markdown",
   "metadata": {},
   "source": [
    "Controlliamo se il prodotto degli autovalori è uguale al determinante:"
   ]
  },
  {
   "cell_type": "code",
   "execution_count": 73,
   "metadata": {
    "tags": []
   },
   "outputs": [
    {
     "data": {
      "text/plain": [
       "-1.9999999999999987"
      ]
     },
     "execution_count": 73,
     "metadata": {},
     "output_type": "execute_result"
    }
   ],
   "source": [
    "np.prod(evalues)"
   ]
  },
  {
   "cell_type": "code",
   "execution_count": 74,
   "metadata": {
    "tags": []
   },
   "outputs": [
    {
     "name": "stdout",
     "output_type": "stream",
     "text": [
      "[[ 0.43464691  0.7699547   0.85535358]\n",
      " [-0.85015846  0.49890739  0.38564667]\n",
      " [ 0.29717447 -0.39782052  0.34590013]]\n"
     ]
    }
   ],
   "source": [
    "print(evectors)"
   ]
  },
  {
   "cell_type": "markdown",
   "metadata": {},
   "source": [
    "**Attenzione:** gli autovettori sono disposti sulle **colonne**.<BR>\n",
    "    Verifica:"
   ]
  },
  {
   "cell_type": "code",
   "execution_count": 75,
   "metadata": {
    "tags": []
   },
   "outputs": [
    {
     "name": "stdout",
     "output_type": "stream",
     "text": [
      "[ 0.43464691 -0.85015846  0.29717447]\n"
     ]
    }
   ],
   "source": [
    "A1=evectors[:,0]\n",
    "print(A1)"
   ]
  },
  {
   "cell_type": "code",
   "execution_count": 76,
   "metadata": {
    "tags": []
   },
   "outputs": [
    {
     "name": "stdout",
     "output_type": "stream",
     "text": [
      "[-0.3741466   0.73182138 -0.25580952]\n"
     ]
    }
   ],
   "source": [
    "print(np.dot(R,A1))"
   ]
  },
  {
   "cell_type": "code",
   "execution_count": 77,
   "metadata": {
    "tags": []
   },
   "outputs": [
    {
     "name": "stdout",
     "output_type": "stream",
     "text": [
      "[-0.3741466   0.73182138 -0.25580952]\n"
     ]
    }
   ],
   "source": [
    "print(evalues[0]*A1)"
   ]
  },
  {
   "cell_type": "markdown",
   "metadata": {},
   "source": [
    "Ciascuno di questi comandi fornisce la propria documentazione. Per esempio, <span>`help(LA.eig)`</span> fornisce dettagli sulla funzione che calcola autovettori e autovalori (Avendo importato `numpy.linalg` come `LA`)."
   ]
  },
  {
   "cell_type": "markdown",
   "metadata": {},
   "source": [
    "#### Ordinare gli elementi di una matrice"
   ]
  },
  {
   "cell_type": "code",
   "execution_count": 78,
   "metadata": {
    "tags": []
   },
   "outputs": [],
   "source": [
    "X = np.array(\n",
    "[[6, 3, 7],\n",
    " [2, 6, 4],\n",
    " [7, 2, 5]] \n",
    ")"
   ]
  },
  {
   "cell_type": "markdown",
   "metadata": {},
   "source": [
    "Ordinare le colonne:"
   ]
  },
  {
   "cell_type": "code",
   "execution_count": 79,
   "metadata": {
    "tags": []
   },
   "outputs": [
    {
     "data": {
      "text/plain": [
       "array([[2, 2, 4],\n",
       "       [6, 3, 5],\n",
       "       [7, 6, 7]])"
      ]
     },
     "execution_count": 79,
     "metadata": {},
     "output_type": "execute_result"
    }
   ],
   "source": [
    "np.sort(X, axis=0)"
   ]
  },
  {
   "cell_type": "markdown",
   "metadata": {},
   "source": [
    "Ordinare le righe:"
   ]
  },
  {
   "cell_type": "code",
   "execution_count": 80,
   "metadata": {
    "tags": []
   },
   "outputs": [
    {
     "data": {
      "text/plain": [
       "array([[3, 6, 7],\n",
       "       [2, 4, 6],\n",
       "       [2, 5, 7]])"
      ]
     },
     "execution_count": 80,
     "metadata": {},
     "output_type": "execute_result"
    }
   ],
   "source": [
    "np.sort(X, axis=1)"
   ]
  },
  {
   "cell_type": "markdown",
   "metadata": {},
   "source": [
    "<div style = \"width:95%; padding:5px 10px 5px; border-style:solid; border-width:0px 0px 0px 10px; border-color:#b8d0d0; margin:20px 0px 10px 10px\">\n",
    "    <h4> Imparare Facendo</h4>\n",
    "    \n",
    "<OL>\n",
    "<LI>Calcolate la lunghezza del vettore A = np.array([0.3,-1.7,0.8]) usando il prodotto scalare.\n",
    "<LI>Determinate se la matrice B = np.array([[0,3,1],[-1,2,0],[1,1,3]]) è invertibile.\n",
    "<LI>Cercate nella documentazione di <b>numpy</b> come calcolare l'inverso di una matrice. Se possibile, calcolate la matrice inversa di B.\n",
    "<LI>Per ruotare un vettore (colonna) di un angolo <b>theta</b> è sufficiente moltiplicarlo per la matrice \n",
    "    <b>R(theta) = [[cos(theta),-sin(theta)],[sin(theta),cos(theta)]]</b>.\n",
    "    Costruite una funzione <b>rot(v,theta)</b> che dato un vettore reale di lunghezza 2 restituisca il vettore ruotato di\n",
    "    <b>theta</b>. Testate la funzione con <b>v = np.array([1,1])</b> e <b>theta = pi/2</b>.\n",
    "</OL>\n",
    "</div>"
   ]
  },
  {
   "cell_type": "code",
   "execution_count": 31,
   "metadata": {
    "tags": []
   },
   "outputs": [
    {
     "name": "stdout",
     "output_type": "stream",
     "text": [
      "1.9026297590440446\n",
      "\n",
      "La matrice è invertibile:\n",
      "[[ 1.         -1.33333333 -0.33333333]\n",
      " [ 0.5        -0.16666667 -0.16666667]\n",
      " [-0.5         0.5         0.5       ]]\n",
      "\n",
      "\n"
     ]
    },
    {
     "data": {
      "text/plain": [
       "array([[ 6.123234e-17, -1.000000e+00],\n",
       "       [ 1.000000e+00,  6.123234e-17]])"
      ]
     },
     "execution_count": 31,
     "metadata": {},
     "output_type": "execute_result"
    }
   ],
   "source": [
    "import numpy as np\n",
    "import numpy.linalg as LA\n",
    "\n",
    "A = np.array([0.3,-1.7,0.8])\n",
    "B = np.array([[0,3,1],[-1,2,0],[1,1,3]]) \n",
    "Norm = np.sqrt(np.inner(A,A))\n",
    "print(Norm)\n",
    "\n",
    "if LA.det(B)!=0: \n",
    "    print(\"\\nLa matrice è invertibile:\")\n",
    "    InvB = LA.inv(B)\n",
    "    print(InvB)\n",
    "else: \n",
    "    print(\"\\nLa matrice non è invertibile\\n\")\n",
    "\n",
    "def rot(v,theta):\n",
    "    if len(v) == 2: \n",
    "        R = [[np.cos(theta),-np.sin(theta)],[np.sin(theta),np.cos(theta)]]\n",
    "        v = v*R\n",
    "    else: \n",
    "        print(\"Il vettore deve avere lunghezza 2\")\n",
    "    return v\n",
    "\n",
    "v = np.array([1,1])\n",
    "theta = np.pi/2\n",
    "\n",
    "print(\"\\n\")\n",
    "rot(v,theta)"
   ]
  },
  {
   "cell_type": "markdown",
   "metadata": {},
   "source": [
    "### 7.2.7 Come vettorializzare una funzione\n",
    "\n",
    "Per avere programmi veloci è necessario evitare di ciclare sugli elementi di vettori e matrici usando invece algoritmi vettorializzati. Il primo passo per convertire un algoritmo scalare in un algoritmo vettorializzato è costruire delle funzioni che accettino input vettoriali.\n",
    "<BR>\n",
    "AVVERTENZA: è quasi sempre possibile trovare funzioni di Numpy, quindi già vettorializzate, che facciano quello che ci serve. `vectorize` va utilizzata come ultima risorsa quando tutte le ricerche nella documentazione e in rete si sono rivelate vane. "
   ]
  },
  {
   "cell_type": "code",
   "execution_count": 81,
   "metadata": {
    "tags": []
   },
   "outputs": [
    {
     "data": {
      "text/plain": [
       "1"
      ]
     },
     "execution_count": 81,
     "metadata": {},
     "output_type": "execute_result"
    }
   ],
   "source": [
    "def Theta(x):\n",
    "    \"\"\"\n",
    "    Implemenazione scalare della funzione a gradino di Heaviside.\n",
    "    \"\"\"\n",
    "    if x >= 0:\n",
    "        return 1\n",
    "    else:\n",
    "        return 0\n",
    "    \n",
    "Theta(0.3)"
   ]
  },
  {
   "cell_type": "markdown",
   "metadata": {},
   "source": [
    "Se passiamo a `Theta` un array o qualunque altro oggetto iterabile otteniamo un errore:"
   ]
  },
  {
   "cell_type": "code",
   "execution_count": 82,
   "metadata": {
    "collapsed": true,
    "jupyter": {
     "outputs_hidden": true
    },
    "tags": []
   },
   "outputs": [
    {
     "ename": "TypeError",
     "evalue": "'>=' not supported between instances of 'tuple' and 'int'",
     "output_type": "error",
     "traceback": [
      "\u001b[1;31m---------------------------------------------------------------------------\u001b[0m",
      "\u001b[1;31mTypeError\u001b[0m                                 Traceback (most recent call last)",
      "Cell \u001b[1;32mIn[82], line 1\u001b[0m\n\u001b[1;32m----> 1\u001b[0m Theta((\u001b[38;5;241m1\u001b[39m,\u001b[38;5;241m2\u001b[39m))\n",
      "Cell \u001b[1;32mIn[81], line 5\u001b[0m, in \u001b[0;36mTheta\u001b[1;34m(x)\u001b[0m\n\u001b[0;32m      1\u001b[0m \u001b[38;5;28;01mdef\u001b[39;00m \u001b[38;5;21mTheta\u001b[39m(x):\n\u001b[0;32m      2\u001b[0m \u001b[38;5;250m    \u001b[39m\u001b[38;5;124;03m\"\"\"\u001b[39;00m\n\u001b[0;32m      3\u001b[0m \u001b[38;5;124;03m    Implemenazione scalare della funzione a gradino di Heaviside.\u001b[39;00m\n\u001b[0;32m      4\u001b[0m \u001b[38;5;124;03m    \"\"\"\u001b[39;00m\n\u001b[1;32m----> 5\u001b[0m     \u001b[38;5;28;01mif\u001b[39;00m x \u001b[38;5;241m>\u001b[39m\u001b[38;5;241m=\u001b[39m \u001b[38;5;241m0\u001b[39m:\n\u001b[0;32m      6\u001b[0m         \u001b[38;5;28;01mreturn\u001b[39;00m \u001b[38;5;241m1\u001b[39m\n\u001b[0;32m      7\u001b[0m     \u001b[38;5;28;01melse\u001b[39;00m:\n",
      "\u001b[1;31mTypeError\u001b[0m: '>=' not supported between instances of 'tuple' and 'int'"
     ]
    }
   ],
   "source": [
    "Theta((1,2))"
   ]
  },
  {
   "cell_type": "code",
   "execution_count": 83,
   "metadata": {
    "collapsed": true,
    "jupyter": {
     "outputs_hidden": true
    },
    "tags": []
   },
   "outputs": [
    {
     "ename": "ValueError",
     "evalue": "The truth value of an array with more than one element is ambiguous. Use a.any() or a.all()",
     "output_type": "error",
     "traceback": [
      "\u001b[1;31m---------------------------------------------------------------------------\u001b[0m",
      "\u001b[1;31mValueError\u001b[0m                                Traceback (most recent call last)",
      "Cell \u001b[1;32mIn[83], line 1\u001b[0m\n\u001b[1;32m----> 1\u001b[0m Theta(np\u001b[38;5;241m.\u001b[39marray([\u001b[38;5;241m-\u001b[39m\u001b[38;5;241m3\u001b[39m,\u001b[38;5;241m-\u001b[39m\u001b[38;5;241m2\u001b[39m,\u001b[38;5;241m-\u001b[39m\u001b[38;5;241m1\u001b[39m,\u001b[38;5;241m0\u001b[39m,\u001b[38;5;241m1\u001b[39m,\u001b[38;5;241m2\u001b[39m,\u001b[38;5;241m3\u001b[39m]))\n",
      "Cell \u001b[1;32mIn[81], line 5\u001b[0m, in \u001b[0;36mTheta\u001b[1;34m(x)\u001b[0m\n\u001b[0;32m      1\u001b[0m \u001b[38;5;28;01mdef\u001b[39;00m \u001b[38;5;21mTheta\u001b[39m(x):\n\u001b[0;32m      2\u001b[0m \u001b[38;5;250m    \u001b[39m\u001b[38;5;124;03m\"\"\"\u001b[39;00m\n\u001b[0;32m      3\u001b[0m \u001b[38;5;124;03m    Implemenazione scalare della funzione a gradino di Heaviside.\u001b[39;00m\n\u001b[0;32m      4\u001b[0m \u001b[38;5;124;03m    \"\"\"\u001b[39;00m\n\u001b[1;32m----> 5\u001b[0m     \u001b[38;5;28;01mif\u001b[39;00m x \u001b[38;5;241m>\u001b[39m\u001b[38;5;241m=\u001b[39m \u001b[38;5;241m0\u001b[39m:\n\u001b[0;32m      6\u001b[0m         \u001b[38;5;28;01mreturn\u001b[39;00m \u001b[38;5;241m1\u001b[39m\n\u001b[0;32m      7\u001b[0m     \u001b[38;5;28;01melse\u001b[39;00m:\n",
      "\u001b[1;31mValueError\u001b[0m: The truth value of an array with more than one element is ambiguous. Use a.any() or a.all()"
     ]
    }
   ],
   "source": [
    "Theta(np.array([-3,-2,-1,0,1,2,3]))"
   ]
  },
  {
   "cell_type": "markdown",
   "metadata": {},
   "source": [
    "Per ottenere una versione vettorializzata di Theta si può utilizzare la  funzione  di Numpy `vectorize`. In molti  casi `vectorize` riesce a creare una funzione vettoriale che opera come la funzione scalare ma su tutti gli elementi di qualunque array:"
   ]
  },
  {
   "cell_type": "code",
   "execution_count": 84,
   "metadata": {
    "tags": []
   },
   "outputs": [],
   "source": [
    "Theta_vec = np.vectorize(Theta) # Theta_vec è una funzione diversa da Theta"
   ]
  },
  {
   "cell_type": "code",
   "execution_count": 85,
   "metadata": {
    "tags": []
   },
   "outputs": [
    {
     "data": {
      "text/plain": [
       "array([0, 0, 0, 1, 1, 1, 1])"
      ]
     },
     "execution_count": 85,
     "metadata": {},
     "output_type": "execute_result"
    }
   ],
   "source": [
    "Theta_vec(np.array([-3,-2,-1,0,1,2,3]))"
   ]
  },
  {
   "cell_type": "markdown",
   "metadata": {},
   "source": [
    "### Copia shallow e copia deep di array numpy"
   ]
  },
  {
   "cell_type": "code",
   "execution_count": 3,
   "metadata": {
    "tags": []
   },
   "outputs": [],
   "source": [
    "import numpy as np\n",
    "a = np.array([1,2,3])\n",
    "b = a\n",
    "a[2] = 22"
   ]
  },
  {
   "cell_type": "code",
   "execution_count": 4,
   "metadata": {
    "tags": []
   },
   "outputs": [
    {
     "name": "stdout",
     "output_type": "stream",
     "text": [
      "[ 1  2 22]\n"
     ]
    }
   ],
   "source": [
    "print(b)"
   ]
  },
  {
   "cell_type": "markdown",
   "metadata": {},
   "source": [
    "La copia con [:] non è sufficiente a creare una deep copy"
   ]
  },
  {
   "cell_type": "code",
   "execution_count": 5,
   "metadata": {
    "tags": []
   },
   "outputs": [],
   "source": [
    "a = np.array([1,2,3])\n",
    "b = a[:]\n",
    "a[2] = 22"
   ]
  },
  {
   "cell_type": "code",
   "execution_count": 6,
   "metadata": {
    "tags": []
   },
   "outputs": [
    {
     "name": "stdout",
     "output_type": "stream",
     "text": [
      "[ 1  2 22]\n"
     ]
    }
   ],
   "source": [
    "print(b)"
   ]
  },
  {
   "cell_type": "markdown",
   "metadata": {},
   "source": [
    "Bisogna usare la funzione deepcopy nlla libreria `copy`."
   ]
  },
  {
   "cell_type": "code",
   "execution_count": 7,
   "metadata": {
    "tags": []
   },
   "outputs": [],
   "source": [
    "import copy\n",
    "a = np.array([1,2,3])\n",
    "b = copy.deepcopy(a)\n",
    "a[2] = 22"
   ]
  },
  {
   "cell_type": "code",
   "execution_count": 8,
   "metadata": {
    "tags": []
   },
   "outputs": [
    {
     "name": "stdout",
     "output_type": "stream",
     "text": [
      "[1 2 3]\n"
     ]
    }
   ],
   "source": [
    "print(b)"
   ]
  },
  {
   "cell_type": "markdown",
   "metadata": {},
   "source": [
    "### 7.2.8 Array multidimensionali\n",
    "Tipicamente le funzioni di numpy possono operare su array multidimensionali. È quindi necessario poter controllare come la funzione agisce sull'array. Un caso tipico è far operare la funzione lungo un singolo asse (axis) dell'array. Un semplice esempio usando la funzione `sum`."
   ]
  },
  {
   "cell_type": "code",
   "execution_count": 9,
   "metadata": {
    "tags": []
   },
   "outputs": [
    {
     "data": {
      "text/plain": [
       "9"
      ]
     },
     "execution_count": 9,
     "metadata": {},
     "output_type": "execute_result"
    }
   ],
   "source": [
    "np.sum([[0, 1], [3, 5]])"
   ]
  },
  {
   "cell_type": "code",
   "execution_count": 93,
   "metadata": {
    "tags": []
   },
   "outputs": [
    {
     "data": {
      "text/plain": [
       "array([3, 6])"
      ]
     },
     "execution_count": 93,
     "metadata": {},
     "output_type": "execute_result"
    }
   ],
   "source": [
    "np.sum([[0, 1], [3, 5]], axis=0)"
   ]
  },
  {
   "cell_type": "code",
   "execution_count": 10,
   "metadata": {
    "tags": []
   },
   "outputs": [
    {
     "data": {
      "text/plain": [
       "array([1, 8])"
      ]
     },
     "execution_count": 10,
     "metadata": {},
     "output_type": "execute_result"
    }
   ],
   "source": [
    "np.sum([[0, 1], [3, 5]], axis=1)"
   ]
  },
  {
   "cell_type": "markdown",
   "metadata": {},
   "source": [
    "### 7.2.9 Come importare dentro degli array i dati contenuti in un file di testo\n",
    "\n",
    "Quando si debba trattare una grande massa di dati è essenziale poterli importare ed esportare su file in modo veloce.\n",
    " \n",
    "Numpy fornisce la funzione `loadtxt`:"
   ]
  },
  {
   "cell_type": "code",
   "execution_count": 11,
   "metadata": {
    "tags": []
   },
   "outputs": [],
   "source": [
    "import numpy as np\n",
    "\n",
    "dataPt, time, height, error = np.loadtxt( \"../Data/CadutaLiberaDati.txt\", skiprows=5 , unpack=True)"
   ]
  },
  {
   "cell_type": "markdown",
   "metadata": {},
   "source": [
    "Il parametro `skiprows=5` dice a `loadtxt` di ignorare le prime cinque righe che costituiscono l'`header` del file. Il parametro `unpack=True` dice di estrarre i dati caricandoli nell'ntupla di array a primo membro. Il comando assume che i dati siano separati da uno o più spazi."
   ]
  },
  {
   "cell_type": "code",
   "execution_count": 96,
   "metadata": {
    "tags": []
   },
   "outputs": [
    {
     "name": "stdout",
     "output_type": "stream",
     "text": [
      "[502.1  497.9  490.33 479.05 461.22 439.28 411.13 379.04 341.98 302.84\n",
      " 252.72 204.29 147.57  85.52  19.62]\n"
     ]
    }
   ],
   "source": [
    "print(height)"
   ]
  },
  {
   "cell_type": "markdown",
   "metadata": {},
   "source": [
    "Se i dati sono contenuti in un Comma-Separated Values file (CSV), una alternativa molto comune, è sufficiente specificare il separatore con la keyword `delimiter`."
   ]
  },
  {
   "cell_type": "code",
   "execution_count": 97,
   "metadata": {
    "tags": []
   },
   "outputs": [],
   "source": [
    "dataPt, time, height, error = np.loadtxt(\"../Data/CadutaLiberaDati.csv\", skiprows=5 , unpack=True, delimiter=',')"
   ]
  },
  {
   "cell_type": "markdown",
   "metadata": {},
   "source": [
    "Si possono importare da un file con dati testuali e numerici usando `dtype=str`. In questo caso i dati sono rappresentati come stringhe."
   ]
  },
  {
   "cell_type": "code",
   "execution_count": 98,
   "metadata": {
    "tags": []
   },
   "outputs": [
    {
     "name": "stdout",
     "output_type": "stream",
     "text": [
      "['F' 'M']\n",
      "['50' '78']\n",
      "['37' '41']\n"
     ]
    }
   ],
   "source": [
    "gender, weight, age = np.loadtxt(\"../Data/mixed_data.txt\", skiprows=2 , unpack=True, dtype=str)\n",
    "print(gender)\n",
    "print(weight)\n",
    "print(age)"
   ]
  },
  {
   "cell_type": "markdown",
   "metadata": {},
   "source": [
    "È poi possibile convertire parte degli array in un formato numerico usando il metodo `astype`:"
   ]
  },
  {
   "cell_type": "code",
   "execution_count": 99,
   "metadata": {
    "tags": []
   },
   "outputs": [
    {
     "name": "stdout",
     "output_type": "stream",
     "text": [
      "[37. 41.]\n"
     ]
    }
   ],
   "source": [
    "age_n = age.astype(float)\n",
    "print(age_n)"
   ]
  },
  {
   "cell_type": "markdown",
   "metadata": {},
   "source": [
    "Esistono metodi ancora più raffinati come genfromtxt. Usate help(np.genfromtxt) oppure una ricerca sul web per ulteriori dettagli ed esempi"
   ]
  },
  {
   "cell_type": "code",
   "execution_count": 13,
   "metadata": {
    "collapsed": true,
    "jupyter": {
     "outputs_hidden": true
    },
    "tags": []
   },
   "outputs": [
    {
     "name": "stdout",
     "output_type": "stream",
     "text": [
      "Help on function genfromtxt in module numpy:\n",
      "\n",
      "genfromtxt(fname, dtype=<class 'float'>, comments='#', delimiter=None, skip_header=0, skip_footer=0, converters=None, missing_values=None, filling_values=None, usecols=None, names=None, excludelist=None, deletechars=\" !#$%&'()*+,-./:;<=>?@[\\\\]^{|}~\", replace_space='_', autostrip=False, case_sensitive=True, defaultfmt='f%i', unpack=None, usemask=False, loose=True, invalid_raise=True, max_rows=None, encoding='bytes', *, ndmin=0, like=None)\n",
      "    Load data from a text file, with missing values handled as specified.\n",
      "    \n",
      "    Each line past the first `skip_header` lines is split at the `delimiter`\n",
      "    character, and characters following the `comments` character are discarded.\n",
      "    \n",
      "    Parameters\n",
      "    ----------\n",
      "    fname : file, str, pathlib.Path, list of str, generator\n",
      "        File, filename, list, or generator to read.  If the filename\n",
      "        extension is ``.gz`` or ``.bz2``, the file is first decompressed. Note\n",
      "        that generators must return bytes or strings. The strings\n",
      "        in a list or produced by a generator are treated as lines.\n",
      "    dtype : dtype, optional\n",
      "        Data type of the resulting array.\n",
      "        If None, the dtypes will be determined by the contents of each\n",
      "        column, individually.\n",
      "    comments : str, optional\n",
      "        The character used to indicate the start of a comment.\n",
      "        All the characters occurring on a line after a comment are discarded.\n",
      "    delimiter : str, int, or sequence, optional\n",
      "        The string used to separate values.  By default, any consecutive\n",
      "        whitespaces act as delimiter.  An integer or sequence of integers\n",
      "        can also be provided as width(s) of each field.\n",
      "    skiprows : int, optional\n",
      "        `skiprows` was removed in numpy 1.10. Please use `skip_header` instead.\n",
      "    skip_header : int, optional\n",
      "        The number of lines to skip at the beginning of the file.\n",
      "    skip_footer : int, optional\n",
      "        The number of lines to skip at the end of the file.\n",
      "    converters : variable, optional\n",
      "        The set of functions that convert the data of a column to a value.\n",
      "        The converters can also be used to provide a default value\n",
      "        for missing data: ``converters = {3: lambda s: float(s or 0)}``.\n",
      "    missing : variable, optional\n",
      "        `missing` was removed in numpy 1.10. Please use `missing_values`\n",
      "        instead.\n",
      "    missing_values : variable, optional\n",
      "        The set of strings corresponding to missing data.\n",
      "    filling_values : variable, optional\n",
      "        The set of values to be used as default when the data are missing.\n",
      "    usecols : sequence, optional\n",
      "        Which columns to read, with 0 being the first.  For example,\n",
      "        ``usecols = (1, 4, 5)`` will extract the 2nd, 5th and 6th columns.\n",
      "    names : {None, True, str, sequence}, optional\n",
      "        If `names` is True, the field names are read from the first line after\n",
      "        the first `skip_header` lines. This line can optionally be preceded\n",
      "        by a comment delimiter. If `names` is a sequence or a single-string of\n",
      "        comma-separated names, the names will be used to define the field names\n",
      "        in a structured dtype. If `names` is None, the names of the dtype\n",
      "        fields will be used, if any.\n",
      "    excludelist : sequence, optional\n",
      "        A list of names to exclude. This list is appended to the default list\n",
      "        ['return','file','print']. Excluded names are appended with an\n",
      "        underscore: for example, `file` would become `file_`.\n",
      "    deletechars : str, optional\n",
      "        A string combining invalid characters that must be deleted from the\n",
      "        names.\n",
      "    defaultfmt : str, optional\n",
      "        A format used to define default field names, such as \"f%i\" or \"f_%02i\".\n",
      "    autostrip : bool, optional\n",
      "        Whether to automatically strip white spaces from the variables.\n",
      "    replace_space : char, optional\n",
      "        Character(s) used in replacement of white spaces in the variable\n",
      "        names. By default, use a '_'.\n",
      "    case_sensitive : {True, False, 'upper', 'lower'}, optional\n",
      "        If True, field names are case sensitive.\n",
      "        If False or 'upper', field names are converted to upper case.\n",
      "        If 'lower', field names are converted to lower case.\n",
      "    unpack : bool, optional\n",
      "        If True, the returned array is transposed, so that arguments may be\n",
      "        unpacked using ``x, y, z = genfromtxt(...)``.  When used with a\n",
      "        structured data-type, arrays are returned for each field.\n",
      "        Default is False.\n",
      "    usemask : bool, optional\n",
      "        If True, return a masked array.\n",
      "        If False, return a regular array.\n",
      "    loose : bool, optional\n",
      "        If True, do not raise errors for invalid values.\n",
      "    invalid_raise : bool, optional\n",
      "        If True, an exception is raised if an inconsistency is detected in the\n",
      "        number of columns.\n",
      "        If False, a warning is emitted and the offending lines are skipped.\n",
      "    max_rows : int,  optional\n",
      "        The maximum number of rows to read. Must not be used with skip_footer\n",
      "        at the same time.  If given, the value must be at least 1. Default is\n",
      "        to read the entire file.\n",
      "    \n",
      "        .. versionadded:: 1.10.0\n",
      "    encoding : str, optional\n",
      "        Encoding used to decode the inputfile. Does not apply when `fname` is\n",
      "        a file object.  The special value 'bytes' enables backward compatibility\n",
      "        workarounds that ensure that you receive byte arrays when possible\n",
      "        and passes latin1 encoded strings to converters. Override this value to\n",
      "        receive unicode arrays and pass strings as input to converters.  If set\n",
      "        to None the system default is used. The default value is 'bytes'.\n",
      "    \n",
      "        .. versionadded:: 1.14.0\n",
      "    ndmin : int, optional\n",
      "        Same parameter as `loadtxt`\n",
      "    \n",
      "        .. versionadded:: 1.23.0\n",
      "    like : array_like, optional\n",
      "        Reference object to allow the creation of arrays which are not\n",
      "        NumPy arrays. If an array-like passed in as ``like`` supports\n",
      "        the ``__array_function__`` protocol, the result will be defined\n",
      "        by it. In this case, it ensures the creation of an array object\n",
      "        compatible with that passed in via this argument.\n",
      "    \n",
      "        .. versionadded:: 1.20.0\n",
      "    \n",
      "    Returns\n",
      "    -------\n",
      "    out : ndarray\n",
      "        Data read from the text file. If `usemask` is True, this is a\n",
      "        masked array.\n",
      "    \n",
      "    See Also\n",
      "    --------\n",
      "    numpy.loadtxt : equivalent function when no data is missing.\n",
      "    \n",
      "    Notes\n",
      "    -----\n",
      "    * When spaces are used as delimiters, or when no delimiter has been given\n",
      "      as input, there should not be any missing data between two fields.\n",
      "    * When the variables are named (either by a flexible dtype or with `names`),\n",
      "      there must not be any header in the file (else a ValueError\n",
      "      exception is raised).\n",
      "    * Individual values are not stripped of spaces by default.\n",
      "      When using a custom converter, make sure the function does remove spaces.\n",
      "    \n",
      "    References\n",
      "    ----------\n",
      "    .. [1] NumPy User Guide, section `I/O with NumPy\n",
      "           <https://docs.scipy.org/doc/numpy/user/basics.io.genfromtxt.html>`_.\n",
      "    \n",
      "    Examples\n",
      "    --------\n",
      "    >>> from io import StringIO\n",
      "    >>> import numpy as np\n",
      "    \n",
      "    Comma delimited file with mixed dtype\n",
      "    \n",
      "    >>> s = StringIO(u\"1,1.3,abcde\")\n",
      "    >>> data = np.genfromtxt(s, dtype=[('myint','i8'),('myfloat','f8'),\n",
      "    ... ('mystring','S5')], delimiter=\",\")\n",
      "    >>> data\n",
      "    array((1, 1.3, b'abcde'),\n",
      "          dtype=[('myint', '<i8'), ('myfloat', '<f8'), ('mystring', 'S5')])\n",
      "    \n",
      "    Using dtype = None\n",
      "    \n",
      "    >>> _ = s.seek(0) # needed for StringIO example only\n",
      "    >>> data = np.genfromtxt(s, dtype=None,\n",
      "    ... names = ['myint','myfloat','mystring'], delimiter=\",\")\n",
      "    >>> data\n",
      "    array((1, 1.3, b'abcde'),\n",
      "          dtype=[('myint', '<i8'), ('myfloat', '<f8'), ('mystring', 'S5')])\n",
      "    \n",
      "    Specifying dtype and names\n",
      "    \n",
      "    >>> _ = s.seek(0)\n",
      "    >>> data = np.genfromtxt(s, dtype=\"i8,f8,S5\",\n",
      "    ... names=['myint','myfloat','mystring'], delimiter=\",\")\n",
      "    >>> data\n",
      "    array((1, 1.3, b'abcde'),\n",
      "          dtype=[('myint', '<i8'), ('myfloat', '<f8'), ('mystring', 'S5')])\n",
      "    \n",
      "    An example with fixed-width columns\n",
      "    \n",
      "    >>> s = StringIO(u\"11.3abcde\")\n",
      "    >>> data = np.genfromtxt(s, dtype=None, names=['intvar','fltvar','strvar'],\n",
      "    ...     delimiter=[1,3,5])\n",
      "    >>> data\n",
      "    array((1, 1.3, b'abcde'),\n",
      "          dtype=[('intvar', '<i8'), ('fltvar', '<f8'), ('strvar', 'S5')])\n",
      "    \n",
      "    An example to show comments\n",
      "    \n",
      "    >>> f = StringIO('''\n",
      "    ... text,# of chars\n",
      "    ... hello world,11\n",
      "    ... numpy,5''')\n",
      "    >>> np.genfromtxt(f, dtype='S12,S12', delimiter=',')\n",
      "    array([(b'text', b''), (b'hello world', b'11'), (b'numpy', b'5')],\n",
      "      dtype=[('f0', 'S12'), ('f1', 'S12')])\n",
      "\n"
     ]
    }
   ],
   "source": [
    "import numpy as np\n",
    "help(np.genfromtxt)"
   ]
  },
  {
   "cell_type": "code",
   "execution_count": 12,
   "metadata": {
    "tags": []
   },
   "outputs": [
    {
     "data": {
      "text/plain": [
       "array([('F', 50, 37), ('M', 78, 41)],\n",
       "      dtype=[('gender', '<U1'), ('weight', '<i4'), ('age', '<i4')])"
      ]
     },
     "execution_count": 12,
     "metadata": {},
     "output_type": "execute_result"
    }
   ],
   "source": [
    "np.genfromtxt(\"../Data/mixed_data.txt\", skip_header=2 , dtype=None, encoding=None,\n",
    "              names=('gender', 'weight', 'age'))"
   ]
  },
  {
   "cell_type": "markdown",
   "metadata": {},
   "source": [
    "<div style = \"width:95%; padding:5px 10px 5px; border-style:solid; border-width:0px 0px 0px 10px; border-color:#b8d0d0; margin:20px 0px 10px 10px\">\n",
    "    <h4> Imparare Facendo</h4>\n",
    "<OL>\n",
    "<LI>Esaminate con un editor di testo o facendolo stampare in una finestra di comandi il contenuto del file \"../Data/Iris_Dataset.csv\".\n",
    "<LI>Leggete dal file \"../Data/Iris_Dataset.csv\" le cinque colonne di dati usando il metodo <b>loadtxt</b>.\n",
    "<OL>\n",
    "    <LI>Determinate il numero di dati con sepal.width compresi fra 6.2 cm e 7.3 cm.\n",
    "    <LI>Determinare quante misurazioni si riferiscono ad esemplari della varietà \"Versicolor\".\n",
    "</OL>\n",
    "</OL>\n",
    "</div>"
   ]
  },
  {
   "cell_type": "code",
   "execution_count": 147,
   "metadata": {
    "collapsed": true,
    "jupyter": {
     "outputs_hidden": true
    },
    "tags": []
   },
   "outputs": [
    {
     "name": "stdout",
     "output_type": "stream",
     "text": [
      "\"sepal.length\",\"sepal.width\",\"petal.length\",\"petal.width\",\"variety\"\n",
      "5.1,3.5,1.4,.2,\"Setosa\"\n",
      "4.9,3,1.4,.2,\"Setosa\"\n",
      "4.7,3.2,1.3,.2,\"Setosa\"\n",
      "4.6,3.1,1.5,.2,\"Setosa\"\n",
      "5,3.6,1.4,.2,\"Setosa\"\n",
      "5.4,3.9,1.7,.4,\"Setosa\"\n",
      "4.6,3.4,1.4,.3,\"Setosa\"\n",
      "5,3.4,1.5,.2,\"Setosa\"\n",
      "4.4,2.9,1.4,.2,\"Setosa\"\n",
      "4.9,3.1,1.5,.1,\"Setosa\"\n",
      "5.4,3.7,1.5,.2,\"Setosa\"\n",
      "4.8,3.4,1.6,.2,\"Setosa\"\n",
      "4.8,3,1.4,.1,\"Setosa\"\n",
      "4.3,3,1.1,.1,\"Setosa\"\n",
      "5.8,4,1.2,.2,\"Setosa\"\n",
      "5.7,4.4,1.5,.4,\"Setosa\"\n",
      "5.4,3.9,1.3,.4,\"Setosa\"\n",
      "5.1,3.5,1.4,.3,\"Setosa\"\n",
      "5.7,3.8,1.7,.3,\"Setosa\"\n",
      "5.1,3.8,1.5,.3,\"Setosa\"\n",
      "5.4,3.4,1.7,.2,\"Setosa\"\n",
      "5.1,3.7,1.5,.4,\"Setosa\"\n",
      "4.6,3.6,1,.2,\"Setosa\"\n",
      "5.1,3.3,1.7,.5,\"Setosa\"\n",
      "4.8,3.4,1.9,.2,\"Setosa\"\n",
      "5,3,1.6,.2,\"Setosa\"\n",
      "5,3.4,1.6,.4,\"Setosa\"\n",
      "5.2,3.5,1.5,.2,\"Setosa\"\n",
      "5.2,3.4,1.4,.2,\"Setosa\"\n",
      "4.7,3.2,1.6,.2,\"Setosa\"\n",
      "4.8,3.1,1.6,.2,\"Setosa\"\n",
      "5.4,3.4,1.5,.4,\"Setosa\"\n",
      "5.2,4.1,1.5,.1,\"Setosa\"\n",
      "5.5,4.2,1.4,.2,\"Setosa\"\n",
      "4.9,3.1,1.5,.2,\"Setosa\"\n",
      "5,3.2,1.2,.2,\"Setosa\"\n",
      "5.5,3.5,1.3,.2,\"Setosa\"\n",
      "4.9,3.6,1.4,.1,\"Setosa\"\n",
      "4.4,3,1.3,.2,\"Setosa\"\n",
      "5.1,3.4,1.5,.2,\"Setosa\"\n",
      "5,3.5,1.3,.3,\"Setosa\"\n",
      "4.5,2.3,1.3,.3,\"Setosa\"\n",
      "4.4,3.2,1.3,.2,\"Setosa\"\n",
      "5,3.5,1.6,.6,\"Setosa\"\n",
      "5.1,3.8,1.9,.4,\"Setosa\"\n",
      "4.8,3,1.4,.3,\"Setosa\"\n",
      "5.1,3.8,1.6,.2,\"Setosa\"\n",
      "4.6,3.2,1.4,.2,\"Setosa\"\n",
      "5.3,3.7,1.5,.2,\"Setosa\"\n",
      "5,3.3,1.4,.2,\"Setosa\"\n",
      "7,3.2,4.7,1.4,\"Versicolor\"\n",
      "6.4,3.2,4.5,1.5,\"Versicolor\"\n",
      "6.9,3.1,4.9,1.5,\"Versicolor\"\n",
      "5.5,2.3,4,1.3,\"Versicolor\"\n",
      "6.5,2.8,4.6,1.5,\"Versicolor\"\n",
      "5.7,2.8,4.5,1.3,\"Versicolor\"\n",
      "6.3,3.3,4.7,1.6,\"Versicolor\"\n",
      "4.9,2.4,3.3,1,\"Versicolor\"\n",
      "6.6,2.9,4.6,1.3,\"Versicolor\"\n",
      "5.2,2.7,3.9,1.4,\"Versicolor\"\n",
      "5,2,3.5,1,\"Versicolor\"\n",
      "5.9,3,4.2,1.5,\"Versicolor\"\n",
      "6,2.2,4,1,\"Versicolor\"\n",
      "6.1,2.9,4.7,1.4,\"Versicolor\"\n",
      "5.6,2.9,3.6,1.3,\"Versicolor\"\n",
      "6.7,3.1,4.4,1.4,\"Versicolor\"\n",
      "5.6,3,4.5,1.5,\"Versicolor\"\n",
      "5.8,2.7,4.1,1,\"Versicolor\"\n",
      "6.2,2.2,4.5,1.5,\"Versicolor\"\n",
      "5.6,2.5,3.9,1.1,\"Versicolor\"\n",
      "5.9,3.2,4.8,1.8,\"Versicolor\"\n",
      "6.1,2.8,4,1.3,\"Versicolor\"\n",
      "6.3,2.5,4.9,1.5,\"Versicolor\"\n",
      "6.1,2.8,4.7,1.2,\"Versicolor\"\n",
      "6.4,2.9,4.3,1.3,\"Versicolor\"\n",
      "6.6,3,4.4,1.4,\"Versicolor\"\n",
      "6.8,2.8,4.8,1.4,\"Versicolor\"\n",
      "6.7,3,5,1.7,\"Versicolor\"\n",
      "6,2.9,4.5,1.5,\"Versicolor\"\n",
      "5.7,2.6,3.5,1,\"Versicolor\"\n",
      "5.5,2.4,3.8,1.1,\"Versicolor\"\n",
      "5.5,2.4,3.7,1,\"Versicolor\"\n",
      "5.8,2.7,3.9,1.2,\"Versicolor\"\n",
      "6,2.7,5.1,1.6,\"Versicolor\"\n",
      "5.4,3,4.5,1.5,\"Versicolor\"\n",
      "6,3.4,4.5,1.6,\"Versicolor\"\n",
      "6.7,3.1,4.7,1.5,\"Versicolor\"\n",
      "6.3,2.3,4.4,1.3,\"Versicolor\"\n",
      "5.6,3,4.1,1.3,\"Versicolor\"\n",
      "5.5,2.5,4,1.3,\"Versicolor\"\n",
      "5.5,2.6,4.4,1.2,\"Versicolor\"\n",
      "6.1,3,4.6,1.4,\"Versicolor\"\n",
      "5.8,2.6,4,1.2,\"Versicolor\"\n",
      "5,2.3,3.3,1,\"Versicolor\"\n",
      "5.6,2.7,4.2,1.3,\"Versicolor\"\n",
      "5.7,3,4.2,1.2,\"Versicolor\"\n",
      "5.7,2.9,4.2,1.3,\"Versicolor\"\n",
      "6.2,2.9,4.3,1.3,\"Versicolor\"\n",
      "5.1,2.5,3,1.1,\"Versicolor\"\n",
      "5.7,2.8,4.1,1.3,\"Versicolor\"\n",
      "6.3,3.3,6,2.5,\"Virginica\"\n",
      "5.8,2.7,5.1,1.9,\"Virginica\"\n",
      "7.1,3,5.9,2.1,\"Virginica\"\n",
      "6.3,2.9,5.6,1.8,\"Virginica\"\n",
      "6.5,3,5.8,2.2,\"Virginica\"\n",
      "7.6,3,6.6,2.1,\"Virginica\"\n",
      "4.9,2.5,4.5,1.7,\"Virginica\"\n",
      "7.3,2.9,6.3,1.8,\"Virginica\"\n",
      "6.7,2.5,5.8,1.8,\"Virginica\"\n",
      "7.2,3.6,6.1,2.5,\"Virginica\"\n",
      "6.5,3.2,5.1,2,\"Virginica\"\n",
      "6.4,2.7,5.3,1.9,\"Virginica\"\n",
      "6.8,3,5.5,2.1,\"Virginica\"\n",
      "5.7,2.5,5,2,\"Virginica\"\n",
      "5.8,2.8,5.1,2.4,\"Virginica\"\n",
      "6.4,3.2,5.3,2.3,\"Virginica\"\n",
      "6.5,3,5.5,1.8,\"Virginica\"\n",
      "7.7,3.8,6.7,2.2,\"Virginica\"\n",
      "7.7,2.6,6.9,2.3,\"Virginica\"\n",
      "6,2.2,5,1.5,\"Virginica\"\n",
      "6.9,3.2,5.7,2.3,\"Virginica\"\n",
      "5.6,2.8,4.9,2,\"Virginica\"\n",
      "7.7,2.8,6.7,2,\"Virginica\"\n",
      "6.3,2.7,4.9,1.8,\"Virginica\"\n",
      "6.7,3.3,5.7,2.1,\"Virginica\"\n",
      "7.2,3.2,6,1.8,\"Virginica\"\n",
      "6.2,2.8,4.8,1.8,\"Virginica\"\n",
      "6.1,3,4.9,1.8,\"Virginica\"\n",
      "6.4,2.8,5.6,2.1,\"Virginica\"\n",
      "7.2,3,5.8,1.6,\"Virginica\"\n",
      "7.4,2.8,6.1,1.9,\"Virginica\"\n",
      "7.9,3.8,6.4,2,\"Virginica\"\n",
      "6.4,2.8,5.6,2.2,\"Virginica\"\n",
      "6.3,2.8,5.1,1.5,\"Virginica\"\n",
      "6.1,2.6,5.6,1.4,\"Virginica\"\n",
      "7.7,3,6.1,2.3,\"Virginica\"\n",
      "6.3,3.4,5.6,2.4,\"Virginica\"\n",
      "6.4,3.1,5.5,1.8,\"Virginica\"\n",
      "6,3,4.8,1.8,\"Virginica\"\n",
      "6.9,3.1,5.4,2.1,\"Virginica\"\n",
      "6.7,3.1,5.6,2.4,\"Virginica\"\n",
      "6.9,3.1,5.1,2.3,\"Virginica\"\n",
      "5.8,2.7,5.1,1.9,\"Virginica\"\n",
      "6.8,3.2,5.9,2.3,\"Virginica\"\n",
      "6.7,3.3,5.7,2.5,\"Virginica\"\n",
      "6.7,3,5.2,2.3,\"Virginica\"\n",
      "6.3,2.5,5,1.9,\"Virginica\"\n",
      "6.5,3,5.2,2,\"Virginica\"\n",
      "6.2,3.4,5.4,2.3,\"Virginica\"\n",
      "5.9,3,5.1,1.8,\"Virginica\"\n"
     ]
    }
   ],
   "source": [
    "with open('../Data/Iris_Dataset.csv', \"r\") as f: \n",
    "    print(f.read())"
   ]
  },
  {
   "cell_type": "code",
   "execution_count": 210,
   "metadata": {
    "tags": []
   },
   "outputs": [
    {
     "name": "stdout",
     "output_type": "stream",
     "text": [
      "Numero di dati con sepal.width compresi fra 6.2 cm e 7.3 cm è: 0\n",
      "Il numero di misurazioni che si riferiscono alla varietà Versicolor è di 50\n"
     ]
    }
   ],
   "source": [
    "a = np.loadtxt(\"../Data/Iris_Dataset.csv\", dtype=str, max_rows=1, delimiter=',')\n",
    "\n",
    "sepal_length, sepal_width, petal_length, petal_width, variety = np.loadtxt(\"../Data/Iris_Dataset.csv\", skiprows=1 , unpack=True, dtype=str,  delimiter=',')\n",
    "\n",
    "sepal_width = sepal_width.astype(float)\n",
    "\n",
    "b = sepal_width[(sepal_width>=6.2) & (sepal_width<=7.3)]\n",
    "\n",
    "print(f\"Numero di dati con sepal.width compresi fra 6.2 cm e 7.3 cm è: {len(b)}\")\n",
    "\n",
    "c = len(variety[variety=='\"Versicolor\"'])\n",
    "\n",
    "print(f\"Il numero di misurazioni che si riferiscono alla varietà Versicolor è di {c}\")"
   ]
  },
  {
   "cell_type": "code",
   "execution_count": 210,
   "metadata": {
    "tags": []
   },
   "outputs": [
    {
     "name": "stdout",
     "output_type": "stream",
     "text": [
      "Numero di dati con sepal.width compresi fra 6.2 cm e 7.3 cm è: 0\n",
      "Il numero di misurazioni che si riferiscono alla varietà Versicolor è di 50\n"
     ]
    }
   ],
   "source": [
    "a = np.loadtxt(\"../Data/Iris_Dataset.csv\", dtype=str, max_rows=1, delimiter=',')\n",
    "\n",
    "sepal_length, sepal_width, petal_length, petal_width, variety = np.loadtxt(\"../Data/Iris_Dataset.csv\", skiprows=1 , unpack=True, dtype=str,  delimiter=',')\n",
    "\n",
    "sepal_width = sepal_width.astype(float)\n",
    "\n",
    "b = sepal_width[(sepal_width>=6.2) & (sepal_width<=7.3)]\n",
    "\n",
    "print(f\"Numero di dati con sepal.width compresi fra 6.2 cm e 7.3 cm è: {len(b)}\")\n",
    "\n",
    "c = len(variety[variety=='\"Versicolor\"'])\n",
    "\n",
    "print(f\"Il numero di misurazioni che si riferiscono alla varietà Versicolor è di {c}\")"
   ]
  },
  {
   "cell_type": "markdown",
   "metadata": {},
   "source": [
    "### 7.2.10 Come esportare degli array in un file di testo\n",
    "\n",
    "Esempio usando gli array importati in precedenza:"
   ]
  },
  {
   "cell_type": "code",
   "execution_count": 235,
   "metadata": {
    "tags": []
   },
   "outputs": [],
   "source": [
    "info = \"Misure esperimento Caduta Libera\\n\"\n",
    "info +=\"Data: 13 Dicembre 2019\\n\"\n",
    "info +=\"\\n\\n\"\n",
    "info +=\"       Punto    Tempo(sec)   Altezza(m)   Incertezza(m)\\n\"\n",
    "\n",
    "np.savetxt('../ShellPrograms/CLD.txt',\n",
    "           list(zip(dataPt, time, height, error)),\n",
    "           header=info, fmt=\"%12.1f\")"
   ]
  },
  {
   "cell_type": "markdown",
   "metadata": {},
   "source": [
    "Se si preferisce un file CSV:"
   ]
  },
  {
   "cell_type": "code",
   "execution_count": null,
   "metadata": {},
   "outputs": [],
   "source": [
    "np.savetxt('../ShellPrograms/CLD.csv',\n",
    "           list(zip(dataPt, time, height, error)),\n",
    "           header=info, fmt=\"%12.1f\", delimiter=\",\")"
   ]
  },
  {
   "cell_type": "markdown",
   "metadata": {},
   "source": [
    "La funzione `zip`, partendo da due o più oggetti iterabili (stringhe, liste, ntuple) di uguale lunghezza, restituisce un iteratore che combina\n",
    "il contenuto degli oggetti di partenza. Per ottenere il risultato finale in un colpo solo, invece che un elemento alla volta, si passa l'iteratore generato da `zip` al comando `list`.<BR>\n",
    "Esempi:"
   ]
  },
  {
   "cell_type": "code",
   "execution_count": 100,
   "metadata": {
    "tags": []
   },
   "outputs": [
    {
     "data": {
      "text/plain": [
       "[(1, 'a'), (2, 'b'), (3, 'c')]"
      ]
     },
     "execution_count": 100,
     "metadata": {},
     "output_type": "execute_result"
    }
   ],
   "source": [
    "l1 = [1,2,3]\n",
    "l2 = ['a','b','c']\n",
    "list(zip(l1,l2))"
   ]
  },
  {
   "cell_type": "code",
   "execution_count": 101,
   "metadata": {
    "tags": []
   },
   "outputs": [
    {
     "data": {
      "text/plain": [
       "[('p', 'p'), ('i', 'l'), ('p', 'u'), ('p', 't'), ('o', 'o')]"
      ]
     },
     "execution_count": 101,
     "metadata": {},
     "output_type": "execute_result"
    }
   ],
   "source": [
    "l1 = 'pippo'\n",
    "l2 = 'pluto'\n",
    "list(zip(l1,l2))"
   ]
  },
  {
   "cell_type": "code",
   "execution_count": 102,
   "metadata": {
    "tags": []
   },
   "outputs": [
    {
     "data": {
      "text/plain": [
       "[(1, 'p'), (2, 'l'), (3, 'u'), (4, 't'), (5, 'o')]"
      ]
     },
     "execution_count": 102,
     "metadata": {},
     "output_type": "execute_result"
    }
   ],
   "source": [
    "l1 = [1,2,3,4,5]\n",
    "l2 = 'pluto'\n",
    "list(zip(l1,l2))"
   ]
  },
  {
   "cell_type": "markdown",
   "metadata": {},
   "source": [
    "<div style = \"width:95%; padding:5px 10px 5px; border-style:solid; border-width:0px 0px 0px 10px; border-color:#b8d0d0; margin:20px 0px 10px 10px\">\n",
    "    <h4> Imparare Facendo</h4>\n",
    "    \n",
    "<OL>\n",
    "<LI> Create un array di 100 righe e due colonne che contenga nella prima colonna i numeri interi fra 1 e 100 e nella seconda i corrispondenti quadrati.\n",
    "<OL>\n",
    "    <LI>salvate i risultati nel file <b>quadrati.txt</b> con header la data odierna e la stringa <code>  numeri    quadrati</code>.\n",
    "    <LI>In una finestra di comandi fate stampare il contenuto di <b>quadrati.txt</b>.\n",
    "</OL>\n",
    "</OL>\n",
    "</div>"
   ]
  },
  {
   "cell_type": "code",
   "execution_count": 266,
   "metadata": {
    "tags": []
   },
   "outputs": [
    {
     "name": "stdout",
     "output_type": "stream",
     "text": [
      "# |    Numeri    |   Quadrati   |\n",
      "         1.0          1.0\n",
      "         2.0          4.0\n",
      "         3.0          9.0\n",
      "         4.0         16.0\n",
      "         5.0         25.0\n",
      "         6.0         36.0\n",
      "         7.0         49.0\n",
      "         8.0         64.0\n",
      "         9.0         81.0\n",
      "        10.0        100.0\n",
      "        11.0        121.0\n",
      "        12.0        144.0\n",
      "        13.0        169.0\n",
      "        14.0        196.0\n",
      "        15.0        225.0\n",
      "        16.0        256.0\n",
      "        17.0        289.0\n",
      "        18.0        324.0\n",
      "        19.0        361.0\n",
      "        20.0        400.0\n",
      "        21.0        441.0\n",
      "        22.0        484.0\n",
      "        23.0        529.0\n",
      "        24.0        576.0\n",
      "        25.0        625.0\n",
      "        26.0        676.0\n",
      "        27.0        729.0\n",
      "        28.0        784.0\n",
      "        29.0        841.0\n",
      "        30.0        900.0\n",
      "        31.0        961.0\n",
      "        32.0       1024.0\n",
      "        33.0       1089.0\n",
      "        34.0       1156.0\n",
      "        35.0       1225.0\n",
      "        36.0       1296.0\n",
      "        37.0       1369.0\n",
      "        38.0       1444.0\n",
      "        39.0       1521.0\n",
      "        40.0       1600.0\n",
      "        41.0       1681.0\n",
      "        42.0       1764.0\n",
      "        43.0       1849.0\n",
      "        44.0       1936.0\n",
      "        45.0       2025.0\n",
      "        46.0       2116.0\n",
      "        47.0       2209.0\n",
      "        48.0       2304.0\n",
      "        49.0       2401.0\n",
      "        50.0       2500.0\n",
      "        51.0       2601.0\n",
      "        52.0       2704.0\n",
      "        53.0       2809.0\n",
      "        54.0       2916.0\n",
      "        55.0       3025.0\n",
      "        56.0       3136.0\n",
      "        57.0       3249.0\n",
      "        58.0       3364.0\n",
      "        59.0       3481.0\n",
      "        60.0       3600.0\n",
      "        61.0       3721.0\n",
      "        62.0       3844.0\n",
      "        63.0       3969.0\n",
      "        64.0       4096.0\n",
      "        65.0       4225.0\n",
      "        66.0       4356.0\n",
      "        67.0       4489.0\n",
      "        68.0       4624.0\n",
      "        69.0       4761.0\n",
      "        70.0       4900.0\n",
      "        71.0       5041.0\n",
      "        72.0       5184.0\n",
      "        73.0       5329.0\n",
      "        74.0       5476.0\n",
      "        75.0       5625.0\n",
      "        76.0       5776.0\n",
      "        77.0       5929.0\n",
      "        78.0       6084.0\n",
      "        79.0       6241.0\n",
      "        80.0       6400.0\n",
      "        81.0       6561.0\n",
      "        82.0       6724.0\n",
      "        83.0       6889.0\n",
      "        84.0       7056.0\n",
      "        85.0       7225.0\n",
      "        86.0       7396.0\n",
      "        87.0       7569.0\n",
      "        88.0       7744.0\n",
      "        89.0       7921.0\n",
      "        90.0       8100.0\n",
      "        91.0       8281.0\n",
      "        92.0       8464.0\n",
      "        93.0       8649.0\n",
      "        94.0       8836.0\n",
      "        95.0       9025.0\n",
      "        96.0       9216.0\n",
      "        97.0       9409.0\n",
      "        98.0       9604.0\n",
      "        99.0       9801.0\n",
      "       100.0      10000.0\n",
      "\n"
     ]
    }
   ],
   "source": [
    "x = np.zeros(200)\n",
    "x = x.reshape(100,2)\n",
    "\n",
    "w = np.arange(1,101)\n",
    "y = np.array(w**2)\n",
    "\n",
    "x[:,0]=w\n",
    "#print(x)\n",
    "\n",
    "x[:,1]=y\n",
    "x = x.astype(int)\n",
    "#print(x)\n",
    "\n",
    "numeri = np.array(x[:,0])\n",
    "quadrati = np.array(x[:,1])\n",
    "\n",
    "#info=\"   |  Numeri  |  Quadrati  |\"\n",
    "info=\"Numeri\"\n",
    "info1=\"Quadrati\"\n",
    "\n",
    "np.savetxt('quadrati.txt',\n",
    "           list(zip(numeri, quadrati)),\n",
    "           header=f\"|{info:>10}    | {info1:>10s}   |\", fmt=\"%12.1f\")\n",
    " \n",
    "with open('quadrati.txt', \"r\") as f:\n",
    "    print(f.read())"
   ]
  },
  {
   "cell_type": "markdown",
   "metadata": {},
   "source": [
    "### Ulteriori esempi per numpy …\n",
    "\n",
    "…si possono trovare in: <http://www.scipy.org/Numpy_Example_List>"
   ]
  }
 ],
 "metadata": {
  "hide_input": false,
  "kernelspec": {
   "display_name": "Python 3 (ipykernel)",
   "language": "python",
   "name": "python3"
  },
  "language_info": {
   "codemirror_mode": {
    "name": "ipython",
    "version": 3
   },
   "file_extension": ".py",
   "mimetype": "text/x-python",
   "name": "python",
   "nbconvert_exporter": "python",
   "pygments_lexer": "ipython3",
   "version": "3.11.4"
  },
  "toc": {
   "base_numbering": 1,
   "nav_menu": {},
   "number_sections": true,
   "sideBar": true,
   "skip_h1_title": true,
   "title_cell": "Table of Contents",
   "title_sidebar": "Contents",
   "toc_cell": false,
   "toc_position": {},
   "toc_section_display": true,
   "toc_window_display": false
  },
  "varInspector": {
   "cols": {
    "lenName": 16,
    "lenType": 16,
    "lenVar": 40
   },
   "kernels_config": {
    "python": {
     "delete_cmd_postfix": "",
     "delete_cmd_prefix": "del ",
     "library": "var_list.py",
     "varRefreshCmd": "print(var_dic_list())"
    },
    "r": {
     "delete_cmd_postfix": ") ",
     "delete_cmd_prefix": "rm(",
     "library": "var_list.r",
     "varRefreshCmd": "cat(var_dic_list()) "
    }
   },
   "types_to_exclude": [
    "module",
    "function",
    "builtin_function_or_method",
    "instance",
    "_Feature"
   ],
   "window_display": false
  }
 },
 "nbformat": 4,
 "nbformat_minor": 4
}
