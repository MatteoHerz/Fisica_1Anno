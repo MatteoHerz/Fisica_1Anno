{
 "cells": [
  {
   "cell_type": "markdown",
   "metadata": {},
   "source": [
    "# Programmare in Python\n",
    "\n",
    "## Esercizi: Input - Output\n"
   ]
  },
  {
   "cell_type": "markdown",
   "metadata": {},
   "source": [
    "__1 - Usando le variabili `a = \"civette\"` e `b = \"comò\"`, scrivete sullo schermo \"Tre civette sul comò!\"__"
   ]
  },
  {
   "cell_type": "code",
   "execution_count": 1,
   "metadata": {},
   "outputs": [
    {
     "name": "stdout",
     "output_type": "stream",
     "text": [
      "3 civette sul comò\n"
     ]
    }
   ],
   "source": [
    "a = \"civette\"\n",
    "b = \"comò\"\n",
    "print(f\"{3} {a} sul {b}\")"
   ]
  },
  {
   "cell_type": "markdown",
   "metadata": {},
   "source": [
    "__2 - Scrivete una funzione `somma(x,y)` che quando si chiama somma(12,5) scriva sullo schermo: \"La somma di 12 più 5 vale 17\".__ "
   ]
  },
  {
   "cell_type": "code",
   "execution_count": 2,
   "metadata": {},
   "outputs": [
    {
     "name": "stdout",
     "output_type": "stream",
     "text": [
      "La somma di 12 più 5 vale 17\n"
     ]
    }
   ],
   "source": [
    "def somma(x,y):\n",
    "    print(f\"La somma di {x} più {y} vale {x+y}\")\n",
    "    return \n",
    "\n",
    "somma(12,5)"
   ]
  },
  {
   "cell_type": "markdown",
   "metadata": {},
   "source": [
    "__3 - Scrivete una funzione che prende come input un intero e restituisca la somma delle sue cifre dispari \n",
    "nella forma:__\n",
    "\n",
    "> La somma delle cifre dispari nel numero $n$ è $d$.\n",
    "\n",
    "__Test:__\n",
    "\n",
    "* Input: $-1381723$\n",
    "* Output: `La somma delle cifre dispari nel numero -1381723 è 15.`  \n",
    "  __($1+3+1+7+3 = 15$)__"
   ]
  },
  {
   "cell_type": "code",
   "execution_count": 34,
   "metadata": {
    "tags": []
   },
   "outputs": [
    {
     "name": "stdout",
     "output_type": "stream",
     "text": [
      "La somma delle cifre del numero -1381723 è 15\n"
     ]
    }
   ],
   "source": [
    "def somma_cifre_dispari(n):\n",
    "    if n<0:\n",
    "        n = n*(-1)\n",
    "        \n",
    "    somma = 0\n",
    "    n = str(n)\n",
    "    for i in n:\n",
    "        if int(i)%2 != 0:\n",
    "            somma += int(i)\n",
    "    return somma\n",
    "\n",
    "n = -1381723\n",
    "print(f\"La somma delle cifre del numero {n} è {somma_cifre_dispari(n)}\")"
   ]
  },
  {
   "cell_type": "markdown",
   "metadata": {},
   "source": [
    "__4 - Scrivete una funzione che prende come input un intero e restituisca la somma delle sue cifre di indice dispari (la cifra di indice 0 sia quella delle unità) nella forma:__\n",
    "\n",
    "> La somma delle cifre di indice dispari nel numero $n$ è $d$.\n",
    "\n",
    "__Test:__\n",
    "\n",
    "* Input: $-1381723$\n",
    "* Output: `La somma delle cifre di indice dispari nel numero -1381723 è 6.`  \n",
    "  __($2+1+3 = 6$)__"
   ]
  },
  {
   "cell_type": "code",
   "execution_count": 36,
   "metadata": {},
   "outputs": [
    {
     "name": "stdout",
     "output_type": "stream",
     "text": [
      "La somma delle cifre di indice dispari del numero -1381723 è 6\n"
     ]
    }
   ],
   "source": [
    "def somma_cifre_dispari(n):\n",
    "    if n<0:\n",
    "        n = n*(-1)\n",
    "        \n",
    "    somma = 0\n",
    "    n = str(n)\n",
    "    for i in range(len(n)):\n",
    "        if i%2 != 0:\n",
    "            somma += int(n[i])\n",
    "    return somma\n",
    "\n",
    "n = -1381723\n",
    "print(f\"La somma delle cifre di indice dispari del numero {n} è {somma_cifre_dispari(n)}\")"
   ]
  },
  {
   "cell_type": "markdown",
   "metadata": {},
   "source": [
    "__5 - Scrivere una funzione che restituisca la rappresentazione esadecimale di un numero intero e stampi un messaggio informativo sullo schermo.__"
   ]
  },
  {
   "cell_type": "code",
   "execution_count": 44,
   "metadata": {},
   "outputs": [
    {
     "name": "stdin",
     "output_type": "stream",
     "text": [
      "Inserisci il numero da convertire in exadecimale:  9\n"
     ]
    },
    {
     "name": "stdout",
     "output_type": "stream",
     "text": [
      "Il numero 9 trasformato in exadecimale è 9\n"
     ]
    }
   ],
   "source": [
    "def numero(n):\n",
    "    print(f\"Il numero {n} trasformato in exadecimale è {n:x}\")\n",
    "\n",
    "n = int(input(\"Inserisci il numero da convertire in exadecimale: \"))\n",
    "numero(n)"
   ]
  },
  {
   "cell_type": "markdown",
   "metadata": {},
   "source": [
    "#### Gli esercizi che seguono richiedono l'uso di file."
   ]
  },
  {
   "cell_type": "markdown",
   "metadata": {},
   "source": [
    "__6 - Scrivere una funzione che restituisca la rappresentazione decimale di un numero intero in forma esadecimale e stampi un messaggio informativo nel file `decimal.txt`.__"
   ]
  },
  {
   "cell_type": "code",
   "execution_count": 59,
   "metadata": {},
   "outputs": [
    {
     "name": "stdout",
     "output_type": "stream",
     "text": [
      "Il numero 10 convertito in esadecimale è: a\n"
     ]
    }
   ],
   "source": [
    "def conversione_num(n):\n",
    "    \n",
    "    with open('myfile.txt', \"w\") as x: \n",
    "        x.write(f\"Il numero {n} convertito in esadecimale è: {n:x}\")\n",
    "    with open('myfile.txt', \"r\") as f:\n",
    "        print(f.read())\n",
    "    return \n",
    "\n",
    "conversione_num(10)"
   ]
  },
  {
   "cell_type": "markdown",
   "metadata": {},
   "source": [
    "__7 - Create un file `mydat.txt`. Usando il metodo `write` ele f-strings scrivete nel file la tabella:<br>__\n",
    "\n",
    "         0.7500        13.52          0.32\n",
    "         1.7885        12.11          0.92\n",
    "         2.8269        14.27          0.73\n",
    "         3.8654        16.60          2.06\n",
    "         "
   ]
  },
  {
   "cell_type": "code",
   "execution_count": 77,
   "metadata": {},
   "outputs": [
    {
     "name": "stdout",
     "output_type": "stream",
     "text": [
      "-------------------------------------\n",
      "| colonna 1 | colonna 2 | colonna 3 |\n",
      "-------------------------------------\n",
      "|   0.75    |   13.52   |   0.32    |\n",
      "|  1.7885   |   12.11   |   0.92    |\n",
      "|  2.8269   |   14.27   |   0.73    |\n",
      "-------------------------------------\n"
     ]
    }
   ],
   "source": [
    "with open('mydat.txt','w') as f:\n",
    "    m = ['colonna 1', 'colonna 2', 'colonna 3']\n",
    "    n = [[0.7500 , 13.52 , 0.32] , [1.7885 , 12.11 , 0.92], [2.8269 , 14.27 , 0.73] , [3.8654 , 16.60 , 2.06]]\n",
    "    \n",
    "    print(37*'-')\n",
    "    print(f\"| {m[0]:>8s} | {m[1]:>8s} | {m[2]:>8s} |\")\n",
    "    print(37*'-')\n",
    "    \n",
    "    for i in range(len(m)):\n",
    "        print(f\"| {n[i][0]:^9} | {n[i][1]:^9} | {n[i][2]:^9} |\")\n",
    "    print(37*'-')"
   ]
  },
  {
   "cell_type": "markdown",
   "metadata": {},
   "source": [
    "__8 - Scrivete una funzione che prenda come input il nome di un file e un numero intero non negativo `n`, legga nel file `n` numeri interi (uno per riga) e restituisca la somma delle cifre più grandi di ciascun numero nel file.\n",
    "Se la cifra più grande compare più volte deve essere sommata una volta sola ($1777$ aggiunge alla somma solo $7$ e non $7+7+7$).__\n",
    "\n",
    "__Test:__\n",
    "\n",
    "* Input: $3, -1719, 1777, 111$ ($3$ vuol dire che ci sono $3$ tre numeri)\n",
    "* Output: `17`  \n",
    "  ($9+7+1 = 17$)"
   ]
  },
  {
   "cell_type": "code",
   "execution_count": 6,
   "metadata": {
    "tags": []
   },
   "outputs": [
    {
     "data": {
      "text/plain": [
       "17"
      ]
     },
     "execution_count": 6,
     "metadata": {},
     "output_type": "execute_result"
    }
   ],
   "source": [
    "def file(nome,n):\n",
    "    contatore = 0 \n",
    "    with open(nome, 'r') as f:\n",
    "        for i in f:                    # \"i\" viene comunque passato come stringa e non come numero\n",
    "            i = list(i)\n",
    "            b = max(i)\n",
    "            contatore += int(b)\n",
    "    return contatore\n",
    "\n",
    "with open('myfile.txt', \"w\") as f:\n",
    "    f.write(f\"{-1719}\\n{1777}\\n{111}\")\n",
    "\n",
    "file('myfile.txt',3)   "
   ]
  },
  {
   "cell_type": "markdown",
   "metadata": {},
   "source": [
    "__9 - Create un file `trees.csv` che contenga:__\n",
    "```\n",
    "#Name,Type,AverageHeight\n",
    "maple,Deciduous,18\n",
    "pine,Conifer,27\n",
    "Oak,Deciduous,14\n",
    "```\n",
    "__Leggete i dati dal file e stampate il contenuto nella forma:__\n",
    "```\n",
    "The X is a Y tree. Its average height is Z meters.\n",
    "```"
   ]
  },
  {
   "cell_type": "code",
   "execution_count": 4,
   "metadata": {
    "tags": []
   },
   "outputs": [
    {
     "name": "stdout",
     "output_type": "stream",
     "text": [
      "The maple is a Deciduous. It's average height is 18 meters\n",
      "The pine is a Conifer. It's average height is 27 meters\n",
      "The Oak is a Deciduous. It's average height is 14 meters\n"
     ]
    }
   ],
   "source": [
    "with open('trees.csv', \"w\") as f: \n",
    "    f.write(f\"#Name,Type,AverageHeight\\nmaple,Deciduous,18\\npine,Conifer,27\\nOak,Deciduous,14\")\n",
    "\n",
    "with open('trees.csv', \"r\") as f: \n",
    "    a = f.read()\n",
    "    a = str(a)\n",
    "    a = a.split(\"\\n\")\n",
    "    \n",
    "for i in range(1,len(a)):\n",
    "    b = a\n",
    "    b = str(b[i])\n",
    "    b = b.split(\",\")\n",
    "    print(f\"The {b[0]} is a {b[1]}. It's average height is {b[2]} meters\")"
   ]
  },
  {
   "cell_type": "markdown",
   "metadata": {},
   "source": [
    "__Extra: perchè i programmatori confondono sempre Halloween (Oct 31) con Natale (Dec 25)?Hint: octal.__"
   ]
  },
  {
   "cell_type": "code",
   "execution_count": null,
   "metadata": {},
   "outputs": [],
   "source": []
  }
 ],
 "metadata": {
  "hide_input": false,
  "kernelspec": {
   "display_name": "Python 3 (ipykernel)",
   "language": "python",
   "name": "python3"
  },
  "language_info": {
   "codemirror_mode": {
    "name": "ipython",
    "version": 3
   },
   "file_extension": ".py",
   "mimetype": "text/x-python",
   "name": "python",
   "nbconvert_exporter": "python",
   "pygments_lexer": "ipython3",
   "version": "3.11.4"
  },
  "toc": {
   "base_numbering": 1,
   "nav_menu": {},
   "number_sections": true,
   "sideBar": true,
   "skip_h1_title": true,
   "title_cell": "Table of Contents",
   "title_sidebar": "Contents",
   "toc_cell": false,
   "toc_position": {},
   "toc_section_display": true,
   "toc_window_display": false
  },
  "varInspector": {
   "cols": {
    "lenName": 16,
    "lenType": 16,
    "lenVar": 40
   },
   "kernels_config": {
    "python": {
     "delete_cmd_postfix": "",
     "delete_cmd_prefix": "del ",
     "library": "var_list.py",
     "varRefreshCmd": "print(var_dic_list())"
    },
    "r": {
     "delete_cmd_postfix": ") ",
     "delete_cmd_prefix": "rm(",
     "library": "var_list.r",
     "varRefreshCmd": "cat(var_dic_list()) "
    }
   },
   "types_to_exclude": [
    "module",
    "function",
    "builtin_function_or_method",
    "instance",
    "_Feature"
   ],
   "window_display": false
  }
 },
 "nbformat": 4,
 "nbformat_minor": 4
}
