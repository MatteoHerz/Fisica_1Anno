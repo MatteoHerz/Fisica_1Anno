{
 "cells": [
  {
   "cell_type": "markdown",
   "metadata": {},
   "source": [
    "# Programmare in Python\n",
    "\n",
    "## Esercizi: Tipi di dati\n"
   ]
  },
  {
   "cell_type": "markdown",
   "metadata": {},
   "source": [
    "__1 - Usando le operazioni `modulo (%)` e `divisione intera (//)` verificate numericamente che per qualunque coppia di numeri interi `n,m` vale `n = (n//m)*m + n%m`.__"
   ]
  },
  {
   "cell_type": "code",
   "execution_count": 4,
   "metadata": {
    "tags": []
   },
   "outputs": [
    {
     "name": "stdin",
     "output_type": "stream",
     "text": [
      " 7\n",
      " 5\n"
     ]
    },
    {
     "name": "stdout",
     "output_type": "stream",
     "text": [
      "n//m sarebbe: 1 con resto:  2\n",
      "La formula effettivamente restituisce: 7 \n",
      "Dunque Per ogni n ed m vale dunque la formula\n"
     ]
    }
   ],
   "source": [
    "n = int(input())\n",
    "m = int(input())\n",
    "\n",
    "print(\"n//m sarebbe:\",n//m,\"con resto: \",n%m)\n",
    "print(\"La formula effettivamente restituisce:\",(n//m)*m+(n%m),\"\\nDunque Per ogni n ed m vale dunque la formula\")\n"
   ]
  },
  {
   "cell_type": "markdown",
   "metadata": {},
   "source": [
    "__2 - Usando l' operazione `modulo (%)` costruite una funzione `last_digit(n)` che restituisca l'ultima cifra del numero intero `n`. Esempio: `last_digit(347)` deve restituire `7`.__"
   ]
  },
  {
   "cell_type": "code",
   "execution_count": 8,
   "metadata": {
    "tags": []
   },
   "outputs": [
    {
     "name": "stdout",
     "output_type": "stream",
     "text": [
      "Inserisci il numero di cui trovare l'ultima cifra:\n"
     ]
    },
    {
     "name": "stdin",
     "output_type": "stream",
     "text": [
      " 987498723984732\n"
     ]
    },
    {
     "name": "stdout",
     "output_type": "stream",
     "text": [
      "2\n"
     ]
    }
   ],
   "source": [
    "def last_digit(n):\n",
    "    n1 = str(n)\n",
    "    print(n1[len(n1)-1])\n",
    "    return\n",
    "\n",
    "print(\"Inserisci il numero di cui trovare l'ultima cifra:\")\n",
    "n = int(input())\n",
    "last_digit(n)"
   ]
  },
  {
   "cell_type": "markdown",
   "metadata": {},
   "source": [
    "__3 - Sia a1 = 173.356035. Calcolate a1 - 173.__"
   ]
  },
  {
   "cell_type": "code",
   "execution_count": 11,
   "metadata": {
    "tags": []
   },
   "outputs": [
    {
     "name": "stdout",
     "output_type": "stream",
     "text": [
      "0.35603499999999144\n"
     ]
    }
   ],
   "source": [
    "a1= 173.356035\n",
    "x = a1-173\n",
    "print(x)"
   ]
  },
  {
   "cell_type": "markdown",
   "metadata": {},
   "source": [
    "__4 - Sia a = 27387.15467. Calcolate la radice quadrata di a. Moltiplicate il risultato per se stesso.__"
   ]
  },
  {
   "cell_type": "code",
   "execution_count": 13,
   "metadata": {
    "tags": []
   },
   "outputs": [
    {
     "name": "stdout",
     "output_type": "stream",
     "text": [
      "la radice quadrata è: 165.49064828563576\n",
      "la radice per se stessa è: 27387.154669999996\n"
     ]
    }
   ],
   "source": [
    "import math\n",
    "a = 27387.15467\n",
    "x = math.sqrt(a)\n",
    "print(\"la radice quadrata è:\",x)\n",
    "print(\"la radice per se stessa è:\",x*x)"
   ]
  },
  {
   "cell_type": "markdown",
   "metadata": {},
   "source": [
    "__5 - Verificate numericamente che per qualunque `a`, `b`, `c`,`d` reali, \n",
    "$(a + i b)\\,(c + i d) = a c - b d + i\\, (a d + b c)$.__"
   ]
  },
  {
   "cell_type": "code",
   "execution_count": 24,
   "metadata": {
    "tags": []
   },
   "outputs": [
    {
     "name": "stdin",
     "output_type": "stream",
     "text": [
      " 2\n",
      " 3\n",
      " 4\n",
      " 5\n"
     ]
    },
    {
     "name": "stdout",
     "output_type": "stream",
     "text": [
      "(-7+22j)   =   (-7+22j)\n"
     ]
    }
   ],
   "source": [
    "a = int(input())\n",
    "b = int(input())\n",
    "c = int(input())\n",
    "d = int(input())\n",
    "\n",
    "print((a+b*1j)*(c+d*1j) ,\"  =  \", a*c - b*d + ((a*d)+(b*c))*1j )"
   ]
  },
  {
   "cell_type": "markdown",
   "metadata": {},
   "source": [
    "__6 - Verificate numericamente che per qualunque `a`, `b` reali, \n",
    "$1/(a + i b) = (a - i b)/(a^2 + b^2)$.__"
   ]
  },
  {
   "cell_type": "code",
   "execution_count": 29,
   "metadata": {
    "tags": []
   },
   "outputs": [
    {
     "name": "stdin",
     "output_type": "stream",
     "text": [
      " 65\n",
      " 78\n"
     ]
    },
    {
     "name": "stdout",
     "output_type": "stream",
     "text": [
      "(0.006305170239596468-0.007566204287515762j)  =  (0.006305170239596469-0.007566204287515763j)\n"
     ]
    }
   ],
   "source": [
    "a = int(input())\n",
    "b = int(input())\n",
    "\n",
    "print(1/(a + b*1j),\" = \",(a-b*1j)/(a**2 + b**2))"
   ]
  },
  {
   "cell_type": "markdown",
   "metadata": {},
   "source": [
    "__7 - Dato un numero intero `N` determinare il numero di cifre che lo compongono.__"
   ]
  },
  {
   "cell_type": "code",
   "execution_count": 32,
   "metadata": {
    "tags": []
   },
   "outputs": [
    {
     "name": "stdin",
     "output_type": "stream",
     "text": [
      " 36345645\n"
     ]
    },
    {
     "name": "stdout",
     "output_type": "stream",
     "text": [
      "N è composto da 8 cifre\n"
     ]
    }
   ],
   "source": [
    "N = int(input())\n",
    "N = str(N)\n",
    "print(\"N è composto da\",len(N),\"cifre\")"
   ]
  },
  {
   "cell_type": "markdown",
   "metadata": {},
   "source": [
    "__8 - Dato un numero reale `R` determinare il numero di cifre che compongono la sua parte intera e quella decimale.(Hint: usare le stringhe. Questo metodo funziona solo se il numero reale ha un numero di cifre non superiore a 14$\\div$15. Qual'è la ragione?__"
   ]
  },
  {
   "cell_type": "code",
   "execution_count": 35,
   "metadata": {
    "tags": []
   },
   "outputs": [
    {
     "name": "stdin",
     "output_type": "stream",
     "text": [
      " 222.2234\n"
     ]
    },
    {
     "name": "stdout",
     "output_type": "stream",
     "text": [
      "La sua parte intera è composta da 3 cifre\n",
      "La sua parte decimale è invece composta da 4 cifre\n"
     ]
    }
   ],
   "source": [
    "R = float(input())\n",
    "R1 = str(R)\n",
    "\n",
    "R2 = R1.split('.')\n",
    "\n",
    "intera = len(R2[0])\n",
    "decimale = len(R2[1])\n",
    "\n",
    "print(\"La sua parte intera è composta da\",intera,\"cifre\\nLa sua parte decimale è invece composta da\",decimale,\"cifre\")"
   ]
  },
  {
   "cell_type": "markdown",
   "metadata": {},
   "source": [
    "__9 - Generate la lista A dei numeri interi fra 7 e 37.__"
   ]
  },
  {
   "cell_type": "code",
   "execution_count": 45,
   "metadata": {
    "collapsed": true,
    "jupyter": {
     "outputs_hidden": true
    },
    "tags": []
   },
   "outputs": [
    {
     "name": "stdout",
     "output_type": "stream",
     "text": [
      "[7, 8, 9, 10, 11, 12, 13, 14, 15, 16, 17, 18, 19, 20, 21, 22, 23, 24, 25, 26, 27, 28, 29, 30, 31, 32, 33, 34, 35, 36, 37]\n"
     ]
    }
   ],
   "source": [
    "x = list(range(7,38))\n",
    "print(x)"
   ]
  },
  {
   "cell_type": "markdown",
   "metadata": {},
   "source": [
    "__10- Generate la lista B dei numeri pari fra 50 e 100, estremi inclusi__"
   ]
  },
  {
   "cell_type": "code",
   "execution_count": 48,
   "metadata": {
    "collapsed": true,
    "jupyter": {
     "outputs_hidden": true
    },
    "tags": []
   },
   "outputs": [
    {
     "name": "stdout",
     "output_type": "stream",
     "text": [
      "[50, 51, 52, 53, 54, 55, 56, 57, 58, 59, 60, 61, 62, 63, 64, 65, 66, 67, 68, 69, 70, 71, 72, 73, 74, 75, 76, 77, 78, 79, 80, 81, 82, 83, 84, 85, 86, 87, 88, 89, 90, 91, 92, 93, 94, 95, 96, 97, 98, 99, 100]\n"
     ]
    }
   ],
   "source": [
    "B = list(range(50,101))\n",
    "print(B)"
   ]
  },
  {
   "cell_type": "markdown",
   "metadata": {},
   "source": [
    "__11 - Costruite la lista L1 dei numeri pari fra 16 e 42, estremi inclusi. A partire da L1 costruite la lista L2 che contiene gli stessi valori in ordine decrescente.__"
   ]
  },
  {
   "cell_type": "code",
   "execution_count": 72,
   "metadata": {
    "tags": []
   },
   "outputs": [
    {
     "name": "stdout",
     "output_type": "stream",
     "text": [
      "[16, 18, 20, 22, 24, 26, 28, 30, 32, 34, 36, 38, 40, 42]\n",
      "[42, 40, 38, 36, 34, 32, 30, 28, 26, 24, 22, 20, 18, 16]\n"
     ]
    }
   ],
   "source": [
    "L1 = list(range(16,43,2))\n",
    "print(L1)\n",
    "L1 = sorted(L1,reverse=True)\n",
    "print(L1)"
   ]
  },
  {
   "cell_type": "markdown",
   "metadata": {},
   "source": [
    "__12 - Costruite la lista A dei numeri pari fra 11 e 33. Estraete da A la lista B che contiene gli elementi di indice da 3 a 8.__"
   ]
  },
  {
   "cell_type": "code",
   "execution_count": 78,
   "metadata": {
    "tags": []
   },
   "outputs": [
    {
     "name": "stdout",
     "output_type": "stream",
     "text": [
      "[12, 14, 16, 18, 20, 22, 24, 26, 28, 30, 32]\n",
      "[18, 20, 22, 24, 26, 28]\n"
     ]
    }
   ],
   "source": [
    "A = list(range(12,33,2))\n",
    "print(A)\n",
    "print(A[3:9])"
   ]
  },
  {
   "cell_type": "markdown",
   "metadata": {},
   "source": [
    "__13 - Da \"Nel mezzo del cammin di nostra vita mi ritrovai in una selva oscura.\" estraete la nona parola__"
   ]
  },
  {
   "cell_type": "code",
   "execution_count": 79,
   "metadata": {
    "tags": []
   },
   "outputs": [
    {
     "name": "stdout",
     "output_type": "stream",
     "text": [
      "ritrovai\n"
     ]
    }
   ],
   "source": [
    "A = \"Nel mezzo del cammin di nostra vita mi ritrovai in una selva oscura.\"\n",
    "A1 = A.split(\" \")\n",
    "print(A1[8])"
   ]
  },
  {
   "cell_type": "markdown",
   "metadata": {},
   "source": [
    "__14 - Costruite una funzione che estragga da una stringa in input il primo e il penultimo carattere.\n",
    "Come ci si può proteggere nel caso in cui la stringa abbia zero o un carattere? (La risposta nella prossima lezione.)__\n",
    "\n",
    "__Test:__\n",
    "\n",
    "* Input: \"gF20\"\n",
    "* Output: \"primo carattere: g, penultimo carattere: 2\""
   ]
  },
  {
   "cell_type": "code",
   "execution_count": 84,
   "metadata": {
    "tags": []
   },
   "outputs": [
    {
     "name": "stdin",
     "output_type": "stream",
     "text": [
      " iosdjioajd81u3981yrhu9ihqwfiu\n"
     ]
    },
    {
     "name": "stdout",
     "output_type": "stream",
     "text": [
      "Primo carattere: i \n",
      "Ultimo carattere: i\n"
     ]
    }
   ],
   "source": [
    "def estrazione(ins):\n",
    "    print(\"Primo carattere:\",ins[0],\"\\nUltimo carattere:\",ins[len(ins)-2])\n",
    "    return\n",
    "\n",
    "ins = str(input())  \n",
    "estrazione(ins)"
   ]
  },
  {
   "cell_type": "markdown",
   "metadata": {},
   "source": [
    "__15 - Usando le operazione su stringhe costruite una funzione `last_digit_string(n)` che restituisca l'ultima cifra del numero intero `n`. Esempio: `last_digit_string(347)` deve restituire il numero intero `7`.__"
   ]
  },
  {
   "cell_type": "code",
   "execution_count": 86,
   "metadata": {
    "tags": []
   },
   "outputs": [
    {
     "name": "stdout",
     "output_type": "stream",
     "text": [
      "Inserisci il numero di cui trovare l'ultima cifra:\n"
     ]
    },
    {
     "name": "stdin",
     "output_type": "stream",
     "text": [
      " 347\n"
     ]
    },
    {
     "name": "stdout",
     "output_type": "stream",
     "text": [
      "7\n"
     ]
    }
   ],
   "source": [
    "def last_digit_string(n):\n",
    "    n1 = str(n)\n",
    "    print(n1[len(n1)-1])\n",
    "    return\n",
    "\n",
    "print(\"Inserisci il numero di cui trovare l'ultima cifra:\")\n",
    "n = int(input())\n",
    "last_digit(n)"
   ]
  },
  {
   "cell_type": "markdown",
   "metadata": {},
   "source": [
    "__16 - Dato il dizionario:__"
   ]
  },
  {
   "cell_type": "code",
   "execution_count": 15,
   "metadata": {
    "tags": []
   },
   "outputs": [],
   "source": [
    "capitali = {\"Germania\":\"Berlino\",\"Spagna\":\"Madrid\"}"
   ]
  },
  {
   "cell_type": "markdown",
   "metadata": {},
   "source": [
    "__aggiungete (usando comandi di Python) Italia e Francia con le rispettive capitali.__"
   ]
  },
  {
   "cell_type": "code",
   "execution_count": 17,
   "metadata": {
    "tags": []
   },
   "outputs": [
    {
     "name": "stdout",
     "output_type": "stream",
     "text": [
      "{'Germania': 'Berlino', 'Spagna': 'Madrid', 'Italia': 'Roma', 'Francia': 'Parigi'}\n"
     ]
    }
   ],
   "source": [
    "capitali['Italia'] = \"Roma\"\n",
    "capitali['Francia'] = \"Parigi\"\n",
    "print(capitali)"
   ]
  },
  {
   "cell_type": "markdown",
   "metadata": {},
   "source": [
    "__17 - Generate un dizionario `mesi` che abbia come chiavi i nomi dei mesi e come valori i corripondenti valori numerici. Per esempio Giugno corrisponde a 6.__"
   ]
  },
  {
   "cell_type": "code",
   "execution_count": 19,
   "metadata": {
    "tags": []
   },
   "outputs": [
    {
     "name": "stdout",
     "output_type": "stream",
     "text": [
      "{'Gennaio': 1, 'Febbraio': 2}\n"
     ]
    }
   ],
   "source": [
    "dict1 = {'Gennaio':1, 'Febbraio':2}\n",
    "print(dict1)"
   ]
  },
  {
   "cell_type": "markdown",
   "metadata": {},
   "source": [
    "__18 - Senza usare la funzione intrinseca di Python per invertire l'ordine di una lista, costruite la vostra funzione `my_reverse` che prende in input una lista `L` e la restituisce con tutti gli elementi in ordine inverso.__"
   ]
  },
  {
   "cell_type": "code",
   "execution_count": 27,
   "metadata": {},
   "outputs": [
    {
     "name": "stdout",
     "output_type": "stream",
     "text": [
      "[9, 8, 7, 6, 5, 4, 3, 2, 1]\n",
      "[9, 8, 7, 6, 5, 4, 3, 2, 1]\n"
     ]
    }
   ],
   "source": [
    "c = list(range(1,10))\n",
    "#print(sorted(c,reverse=True))\n",
    "print(c[::-1])"
   ]
  },
  {
   "cell_type": "markdown",
   "metadata": {},
   "source": [
    "__19 - Definiamo \"parole\" come sequenze di caratteri diversi dallo spazio, separate da spazi. Costruite una funzione `last_word(s)` che restituisca l'ultima parola in `s`, cioè la sottostringa che inizia dopo l'ultimo carattere \"spazio\" in `s`. Se la stringa non contiene spazi, la stringa stessa è l'ultima parola.__"
   ]
  },
  {
   "cell_type": "code",
   "execution_count": 44,
   "metadata": {},
   "outputs": [
    {
     "name": "stdin",
     "output_type": "stream",
     "text": [
      "Inserire la stringa desiderata: sidnaidnasiodnasiodnasid\n"
     ]
    },
    {
     "name": "stdout",
     "output_type": "stream",
     "text": [
      "L'ultima parole è: sidnaidnasiodnasiodnasid\n"
     ]
    }
   ],
   "source": [
    "def last_word(s):\n",
    "    z = s.split(\" \")\n",
    "    if (len(z)==1):\n",
    "        return s\n",
    "    else:\n",
    "        return z[-1]\n",
    "\n",
    "s = str(input(\"Inserire la stringa desiderata:\"))\n",
    "print(\"L'ultima parola è:\", last_word(s))"
   ]
  },
  {
   "cell_type": "markdown",
   "metadata": {},
   "source": [
    "__20 - Costruite una funzione che prenda come input una lista di interi L e un intero n, contenuto nella lista, e restituisca l'indice dell'elemento n in L.__"
   ]
  },
  {
   "cell_type": "code",
   "execution_count": 50,
   "metadata": {},
   "outputs": [
    {
     "name": "stdin",
     "output_type": "stream",
     "text": [
      "Inserire il numero da cercare: 20\n"
     ]
    },
    {
     "name": "stdout",
     "output_type": "stream",
     "text": [
      "Il numero non si trova nella lista\n"
     ]
    }
   ],
   "source": [
    "L = list(range(1,10))\n",
    "a = int(input(\"Inserire il numero da cercare:\"))\n",
    "if(a in L):\n",
    "    print(\"L'indice dell'elemento a =\",a,\"è\",L.index(a))\n",
    "else:\n",
    "    print(\"Il numero non si trova nella lista\")"
   ]
  },
  {
   "cell_type": "markdown",
   "metadata": {},
   "source": [
    "__21 - Usando `help(str)` esplorate l'uso del metodo count. Utilizzatelo per trovare quante volte il carattere `a` compare in \"Nel mezzo del cammin di nostra vita mi ritrovai in una selva oscura.__"
   ]
  },
  {
   "cell_type": "code",
   "execution_count": null,
   "metadata": {},
   "outputs": [],
   "source": []
  },
  {
   "cell_type": "markdown",
   "metadata": {},
   "source": [
    "__22 - Dato il dizionario: val = {1:100,2:200,3:300} verificate se nel dizionario è presente la chiave `3` e se è presente il valore `400`.__"
   ]
  },
  {
   "cell_type": "code",
   "execution_count": null,
   "metadata": {},
   "outputs": [],
   "source": []
  },
  {
   "cell_type": "markdown",
   "metadata": {},
   "source": [
    "__23 - Costruite una nuova ntupla `tuple2` estraendo i valori 44 e 55\n",
    "dalla ntupla tuple1 = (11, 22, 33, 44, 55, 66).__"
   ]
  },
  {
   "cell_type": "code",
   "execution_count": 4,
   "metadata": {},
   "outputs": [
    {
     "name": "stdout",
     "output_type": "stream",
     "text": [
      "(44, 55)\n"
     ]
    }
   ],
   "source": [
    "tuple1 = (11, 22, 33, 44, 55, 66)\n",
    "tuple2 = (tuple1[3],tuple1[4])\n",
    "print(tuple2)"
   ]
  },
  {
   "cell_type": "code",
   "execution_count": null,
   "metadata": {},
   "outputs": [],
   "source": []
  }
 ],
 "metadata": {
  "hide_input": false,
  "kernelspec": {
   "display_name": "Python 3 (ipykernel)",
   "language": "python",
   "name": "python3"
  },
  "language_info": {
   "codemirror_mode": {
    "name": "ipython",
    "version": 3
   },
   "file_extension": ".py",
   "mimetype": "text/x-python",
   "name": "python",
   "nbconvert_exporter": "python",
   "pygments_lexer": "ipython3",
   "version": "3.11.4"
  },
  "toc": {
   "base_numbering": 1,
   "nav_menu": {},
   "number_sections": true,
   "sideBar": true,
   "skip_h1_title": true,
   "title_cell": "Table of Contents",
   "title_sidebar": "Contents",
   "toc_cell": false,
   "toc_position": {},
   "toc_section_display": true,
   "toc_window_display": false
  },
  "varInspector": {
   "cols": {
    "lenName": 16,
    "lenType": 16,
    "lenVar": 40
   },
   "kernels_config": {
    "python": {
     "delete_cmd_postfix": "",
     "delete_cmd_prefix": "del ",
     "library": "var_list.py",
     "varRefreshCmd": "print(var_dic_list())"
    },
    "r": {
     "delete_cmd_postfix": ") ",
     "delete_cmd_prefix": "rm(",
     "library": "var_list.r",
     "varRefreshCmd": "cat(var_dic_list()) "
    }
   },
   "types_to_exclude": [
    "module",
    "function",
    "builtin_function_or_method",
    "instance",
    "_Feature"
   ],
   "window_display": false
  }
 },
 "nbformat": 4,
 "nbformat_minor": 4
}
